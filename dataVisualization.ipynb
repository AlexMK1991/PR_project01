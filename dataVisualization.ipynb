{
 "metadata": {
  "language_info": {
   "codemirror_mode": {
    "name": "ipython",
    "version": 3
   },
   "file_extension": ".py",
   "mimetype": "text/x-python",
   "name": "python",
   "nbconvert_exporter": "python",
   "pygments_lexer": "ipython3",
   "version": "3.8.5-final"
  },
  "orig_nbformat": 2,
  "kernelspec": {
   "name": "python3",
   "display_name": "Python 3.8.5 64-bit ('patternrec': conda)",
   "metadata": {
    "interpreter": {
     "hash": "dd7bb844ec78c1fb690b03eb0f66cdec9a5d3063b9b84b0192f718881bb18a49"
    }
   }
  }
 },
 "nbformat": 4,
 "nbformat_minor": 2,
 "cells": [
  {
   "cell_type": "code",
   "execution_count": 393,
   "metadata": {},
   "outputs": [],
   "source": [
    "import pandas as pd\n",
    "import numpy as np\n",
    "import random\n",
    "from pandas_profiling import ProfileReport\n",
    "from datetime import date\n",
    "import matplotlib.pyplot as plt"
   ]
  },
  {
   "cell_type": "code",
   "execution_count": 103,
   "metadata": {},
   "outputs": [
    {
     "output_type": "execute_result",
     "data": {
      "text/plain": [
       "   battery_level  battery_plugged  battery_status   day  month  \\\n",
       "0           25.0              1.0             2.0  31.0    8.0   \n",
       "1            3.0              0.0             0.0  31.0    8.0   \n",
       "2            1.0              1.0             4.5  31.0    8.0   \n",
       "3            0.0              1.0             5.0  31.0    8.0   \n",
       "4            0.0              0.5             4.0  31.0    8.0   \n",
       "5            0.0              0.0             0.0  31.0    8.0   \n",
       "6           -2.0              0.0             0.0  31.0    8.0   \n",
       "7           -3.0              0.0             3.0  31.0    8.0   \n",
       "8           -3.0              0.0             0.0  31.0    8.0   \n",
       "9           -3.0              0.0             0.0  31.0    8.0   \n",
       "\n",
       "   packages_running_android  packages_running_ch.smalltech.battery.free  \\\n",
       "0                       1.0                                         0.0   \n",
       "1                       1.0                                         0.0   \n",
       "2                       1.0                                         0.0   \n",
       "3                       1.0                                         0.0   \n",
       "4                       1.0                                         0.0   \n",
       "5                       1.0                                         0.0   \n",
       "6                       1.0                                         0.0   \n",
       "7                       1.0                                         0.0   \n",
       "8                       1.0                                         0.0   \n",
       "9                       1.0                                         0.0   \n",
       "\n",
       "   packages_running_com.android.bluetooth  \\\n",
       "0                                     0.0   \n",
       "1                                     0.0   \n",
       "2                                     0.0   \n",
       "3                                     0.0   \n",
       "4                                     0.0   \n",
       "5                                     0.0   \n",
       "6                                     0.0   \n",
       "7                                     0.0   \n",
       "8                                     0.0   \n",
       "9                                     0.0   \n",
       "\n",
       "   packages_running_com.android.calculator2  \\\n",
       "0                                       0.0   \n",
       "1                                       0.0   \n",
       "2                                       0.0   \n",
       "3                                       0.0   \n",
       "4                                       0.0   \n",
       "5                                       0.0   \n",
       "6                                       0.0   \n",
       "7                                       0.0   \n",
       "8                                       0.0   \n",
       "9                                       0.0   \n",
       "\n",
       "   packages_running_com.android.chrome  ...  \\\n",
       "0                                  1.0  ...   \n",
       "1                                  1.0  ...   \n",
       "2                                  1.0  ...   \n",
       "3                                  1.0  ...   \n",
       "4                                  0.0  ...   \n",
       "5                                  0.0  ...   \n",
       "6                                  0.0  ...   \n",
       "7                                  0.0  ...   \n",
       "8                                  0.0  ...   \n",
       "9                                  0.0  ...   \n",
       "\n",
       "   packages_running_com.googlecode.pythonforandroid  \\\n",
       "0                                               0.0   \n",
       "1                                               0.0   \n",
       "2                                               1.0   \n",
       "3                                               1.0   \n",
       "4                                               1.0   \n",
       "5                                               1.0   \n",
       "6                                               1.0   \n",
       "7                                               1.0   \n",
       "8                                               1.0   \n",
       "9                                               1.0   \n",
       "\n",
       "   packages_running_com.halfbrick.fruitninjafree  \\\n",
       "0                                            0.0   \n",
       "1                                            0.0   \n",
       "2                                            0.0   \n",
       "3                                            0.0   \n",
       "4                                            0.0   \n",
       "5                                            0.0   \n",
       "6                                            0.0   \n",
       "7                                            0.0   \n",
       "8                                            0.0   \n",
       "9                                            0.0   \n",
       "\n",
       "   packages_running_com.rovio.angrybirdsspace.ads  \\\n",
       "0                                             0.0   \n",
       "1                                             0.0   \n",
       "2                                             0.0   \n",
       "3                                             0.0   \n",
       "4                                             0.0   \n",
       "5                                             0.0   \n",
       "6                                             0.0   \n",
       "7                                             0.0   \n",
       "8                                             0.0   \n",
       "9                                             0.0   \n",
       "\n",
       "   packages_running_com.tf.thinkdroid.sg  \\\n",
       "0                                    0.0   \n",
       "1                                    0.0   \n",
       "2                                    0.0   \n",
       "3                                    0.0   \n",
       "4                                    0.0   \n",
       "5                                    0.0   \n",
       "6                                    0.0   \n",
       "7                                    0.0   \n",
       "8                                    0.0   \n",
       "9                                    0.0   \n",
       "\n",
       "   packages_running_de.kicktipp.mbookmark  \\\n",
       "0                                     0.0   \n",
       "1                                     0.0   \n",
       "2                                     0.0   \n",
       "3                                     0.0   \n",
       "4                                     0.0   \n",
       "5                                     0.0   \n",
       "6                                     0.0   \n",
       "7                                     0.0   \n",
       "8                                     0.0   \n",
       "9                                     0.0   \n",
       "\n",
       "   packages_running_edu.udo.cs.ess.mobidac.target  \\\n",
       "0                                             1.0   \n",
       "1                                             1.0   \n",
       "2                                             1.0   \n",
       "3                                             1.0   \n",
       "4                                             1.0   \n",
       "5                                             1.0   \n",
       "6                                             1.0   \n",
       "7                                             1.0   \n",
       "8                                             1.0   \n",
       "9                                             1.0   \n",
       "\n",
       "   packages_running_org.openintents.filemanager  \\\n",
       "0                                           0.0   \n",
       "1                                           0.0   \n",
       "2                                           0.0   \n",
       "3                                           0.0   \n",
       "4                                           0.0   \n",
       "5                                           0.0   \n",
       "6                                           0.0   \n",
       "7                                           0.0   \n",
       "8                                           0.0   \n",
       "9                                           0.0   \n",
       "\n",
       "   packages_running_stream.android  slot    year  \n",
       "0                              0.0   3.0  2012.0  \n",
       "1                              0.0   4.0  2012.0  \n",
       "2                              0.0   8.0  2012.0  \n",
       "3                              0.0  12.0  2012.0  \n",
       "4                              0.0  16.0  2012.0  \n",
       "5                              0.0  17.0  2012.0  \n",
       "6                              0.0  18.0  2012.0  \n",
       "7                              0.0  19.0  2012.0  \n",
       "8                              0.0  21.0  2012.0  \n",
       "9                              0.0  22.0  2012.0  \n",
       "\n",
       "[10 rows x 72 columns]"
      ],
      "text/html": "<div>\n<style scoped>\n    .dataframe tbody tr th:only-of-type {\n        vertical-align: middle;\n    }\n\n    .dataframe tbody tr th {\n        vertical-align: top;\n    }\n\n    .dataframe thead th {\n        text-align: right;\n    }\n</style>\n<table border=\"1\" class=\"dataframe\">\n  <thead>\n    <tr style=\"text-align: right;\">\n      <th></th>\n      <th>battery_level</th>\n      <th>battery_plugged</th>\n      <th>battery_status</th>\n      <th>day</th>\n      <th>month</th>\n      <th>packages_running_android</th>\n      <th>packages_running_ch.smalltech.battery.free</th>\n      <th>packages_running_com.android.bluetooth</th>\n      <th>packages_running_com.android.calculator2</th>\n      <th>packages_running_com.android.chrome</th>\n      <th>...</th>\n      <th>packages_running_com.googlecode.pythonforandroid</th>\n      <th>packages_running_com.halfbrick.fruitninjafree</th>\n      <th>packages_running_com.rovio.angrybirdsspace.ads</th>\n      <th>packages_running_com.tf.thinkdroid.sg</th>\n      <th>packages_running_de.kicktipp.mbookmark</th>\n      <th>packages_running_edu.udo.cs.ess.mobidac.target</th>\n      <th>packages_running_org.openintents.filemanager</th>\n      <th>packages_running_stream.android</th>\n      <th>slot</th>\n      <th>year</th>\n    </tr>\n  </thead>\n  <tbody>\n    <tr>\n      <th>0</th>\n      <td>25.0</td>\n      <td>1.0</td>\n      <td>2.0</td>\n      <td>31.0</td>\n      <td>8.0</td>\n      <td>1.0</td>\n      <td>0.0</td>\n      <td>0.0</td>\n      <td>0.0</td>\n      <td>1.0</td>\n      <td>...</td>\n      <td>0.0</td>\n      <td>0.0</td>\n      <td>0.0</td>\n      <td>0.0</td>\n      <td>0.0</td>\n      <td>1.0</td>\n      <td>0.0</td>\n      <td>0.0</td>\n      <td>3.0</td>\n      <td>2012.0</td>\n    </tr>\n    <tr>\n      <th>1</th>\n      <td>3.0</td>\n      <td>0.0</td>\n      <td>0.0</td>\n      <td>31.0</td>\n      <td>8.0</td>\n      <td>1.0</td>\n      <td>0.0</td>\n      <td>0.0</td>\n      <td>0.0</td>\n      <td>1.0</td>\n      <td>...</td>\n      <td>0.0</td>\n      <td>0.0</td>\n      <td>0.0</td>\n      <td>0.0</td>\n      <td>0.0</td>\n      <td>1.0</td>\n      <td>0.0</td>\n      <td>0.0</td>\n      <td>4.0</td>\n      <td>2012.0</td>\n    </tr>\n    <tr>\n      <th>2</th>\n      <td>1.0</td>\n      <td>1.0</td>\n      <td>4.5</td>\n      <td>31.0</td>\n      <td>8.0</td>\n      <td>1.0</td>\n      <td>0.0</td>\n      <td>0.0</td>\n      <td>0.0</td>\n      <td>1.0</td>\n      <td>...</td>\n      <td>1.0</td>\n      <td>0.0</td>\n      <td>0.0</td>\n      <td>0.0</td>\n      <td>0.0</td>\n      <td>1.0</td>\n      <td>0.0</td>\n      <td>0.0</td>\n      <td>8.0</td>\n      <td>2012.0</td>\n    </tr>\n    <tr>\n      <th>3</th>\n      <td>0.0</td>\n      <td>1.0</td>\n      <td>5.0</td>\n      <td>31.0</td>\n      <td>8.0</td>\n      <td>1.0</td>\n      <td>0.0</td>\n      <td>0.0</td>\n      <td>0.0</td>\n      <td>1.0</td>\n      <td>...</td>\n      <td>1.0</td>\n      <td>0.0</td>\n      <td>0.0</td>\n      <td>0.0</td>\n      <td>0.0</td>\n      <td>1.0</td>\n      <td>0.0</td>\n      <td>0.0</td>\n      <td>12.0</td>\n      <td>2012.0</td>\n    </tr>\n    <tr>\n      <th>4</th>\n      <td>0.0</td>\n      <td>0.5</td>\n      <td>4.0</td>\n      <td>31.0</td>\n      <td>8.0</td>\n      <td>1.0</td>\n      <td>0.0</td>\n      <td>0.0</td>\n      <td>0.0</td>\n      <td>0.0</td>\n      <td>...</td>\n      <td>1.0</td>\n      <td>0.0</td>\n      <td>0.0</td>\n      <td>0.0</td>\n      <td>0.0</td>\n      <td>1.0</td>\n      <td>0.0</td>\n      <td>0.0</td>\n      <td>16.0</td>\n      <td>2012.0</td>\n    </tr>\n    <tr>\n      <th>5</th>\n      <td>0.0</td>\n      <td>0.0</td>\n      <td>0.0</td>\n      <td>31.0</td>\n      <td>8.0</td>\n      <td>1.0</td>\n      <td>0.0</td>\n      <td>0.0</td>\n      <td>0.0</td>\n      <td>0.0</td>\n      <td>...</td>\n      <td>1.0</td>\n      <td>0.0</td>\n      <td>0.0</td>\n      <td>0.0</td>\n      <td>0.0</td>\n      <td>1.0</td>\n      <td>0.0</td>\n      <td>0.0</td>\n      <td>17.0</td>\n      <td>2012.0</td>\n    </tr>\n    <tr>\n      <th>6</th>\n      <td>-2.0</td>\n      <td>0.0</td>\n      <td>0.0</td>\n      <td>31.0</td>\n      <td>8.0</td>\n      <td>1.0</td>\n      <td>0.0</td>\n      <td>0.0</td>\n      <td>0.0</td>\n      <td>0.0</td>\n      <td>...</td>\n      <td>1.0</td>\n      <td>0.0</td>\n      <td>0.0</td>\n      <td>0.0</td>\n      <td>0.0</td>\n      <td>1.0</td>\n      <td>0.0</td>\n      <td>0.0</td>\n      <td>18.0</td>\n      <td>2012.0</td>\n    </tr>\n    <tr>\n      <th>7</th>\n      <td>-3.0</td>\n      <td>0.0</td>\n      <td>3.0</td>\n      <td>31.0</td>\n      <td>8.0</td>\n      <td>1.0</td>\n      <td>0.0</td>\n      <td>0.0</td>\n      <td>0.0</td>\n      <td>0.0</td>\n      <td>...</td>\n      <td>1.0</td>\n      <td>0.0</td>\n      <td>0.0</td>\n      <td>0.0</td>\n      <td>0.0</td>\n      <td>1.0</td>\n      <td>0.0</td>\n      <td>0.0</td>\n      <td>19.0</td>\n      <td>2012.0</td>\n    </tr>\n    <tr>\n      <th>8</th>\n      <td>-3.0</td>\n      <td>0.0</td>\n      <td>0.0</td>\n      <td>31.0</td>\n      <td>8.0</td>\n      <td>1.0</td>\n      <td>0.0</td>\n      <td>0.0</td>\n      <td>0.0</td>\n      <td>0.0</td>\n      <td>...</td>\n      <td>1.0</td>\n      <td>0.0</td>\n      <td>0.0</td>\n      <td>0.0</td>\n      <td>0.0</td>\n      <td>1.0</td>\n      <td>0.0</td>\n      <td>0.0</td>\n      <td>21.0</td>\n      <td>2012.0</td>\n    </tr>\n    <tr>\n      <th>9</th>\n      <td>-3.0</td>\n      <td>0.0</td>\n      <td>0.0</td>\n      <td>31.0</td>\n      <td>8.0</td>\n      <td>1.0</td>\n      <td>0.0</td>\n      <td>0.0</td>\n      <td>0.0</td>\n      <td>0.0</td>\n      <td>...</td>\n      <td>1.0</td>\n      <td>0.0</td>\n      <td>0.0</td>\n      <td>0.0</td>\n      <td>0.0</td>\n      <td>1.0</td>\n      <td>0.0</td>\n      <td>0.0</td>\n      <td>22.0</td>\n      <td>2012.0</td>\n    </tr>\n  </tbody>\n</table>\n<p>10 rows × 72 columns</p>\n</div>"
     },
     "metadata": {},
     "execution_count": 103
    }
   ],
   "source": [
    "df = pd.read_csv(\"android.csv\")\n",
    "df.head(10)"
   ]
  },
  {
   "cell_type": "code",
   "execution_count": 104,
   "metadata": {},
   "outputs": [],
   "source": [
    "df = df[df['year'] > 2010] "
   ]
  },
  {
   "cell_type": "code",
   "execution_count": 105,
   "metadata": {},
   "outputs": [],
   "source": [
    "df = df.drop(df[(df.battery_plugged\t != 1) & (df.battery_plugged\t != 0)].index)"
   ]
  },
  {
   "cell_type": "code",
   "execution_count": 106,
   "metadata": {},
   "outputs": [],
   "source": [
    "df = df.loc[:, (df != df.iloc[0]).any()]"
   ]
  },
  {
   "cell_type": "code",
   "execution_count": 107,
   "metadata": {},
   "outputs": [],
   "source": [
    "df['year'] = df.year.astype(int).astype(str)\n",
    "df['month'] = df.month.astype(int).astype(str)\n",
    "df['day'] = df.day.astype(int).astype(str)\n",
    "df[\"time\"] = df[\"year\"] + \"-\" + df[\"month\"] + \"-\" + df[\"day\"]"
   ]
  },
  {
   "cell_type": "code",
   "execution_count": 108,
   "metadata": {},
   "outputs": [],
   "source": [
    "df.time = pd.to_datetime(df['time'], format='%Y-%m-%d')"
   ]
  },
  {
   "cell_type": "code",
   "execution_count": 109,
   "metadata": {},
   "outputs": [
    {
     "output_type": "execute_result",
     "data": {
      "text/plain": [
       "   battery_level  battery_plugged  battery_status day month  \\\n",
       "0           25.0              1.0             2.0  31     8   \n",
       "1            3.0              0.0             0.0  31     8   \n",
       "2            1.0              1.0             4.5  31     8   \n",
       "3            0.0              1.0             5.0  31     8   \n",
       "5            0.0              0.0             0.0  31     8   \n",
       "\n",
       "   packages_running_ch.smalltech.battery.free  \\\n",
       "0                                         0.0   \n",
       "1                                         0.0   \n",
       "2                                         0.0   \n",
       "3                                         0.0   \n",
       "5                                         0.0   \n",
       "\n",
       "   packages_running_com.android.bluetooth  \\\n",
       "0                                     0.0   \n",
       "1                                     0.0   \n",
       "2                                     0.0   \n",
       "3                                     0.0   \n",
       "5                                     0.0   \n",
       "\n",
       "   packages_running_com.android.calculator2  \\\n",
       "0                                       0.0   \n",
       "1                                       0.0   \n",
       "2                                       0.0   \n",
       "3                                       0.0   \n",
       "5                                       0.0   \n",
       "\n",
       "   packages_running_com.android.chrome  packages_running_com.android.contacts  \\\n",
       "0                                  1.0                                    0.0   \n",
       "1                                  1.0                                    0.0   \n",
       "2                                  1.0                                    0.0   \n",
       "3                                  1.0                                    0.0   \n",
       "5                                  0.0                                    0.0   \n",
       "\n",
       "   ...  packages_running_com.googlecode.pythonforandroid  \\\n",
       "0  ...                                               0.0   \n",
       "1  ...                                               0.0   \n",
       "2  ...                                               1.0   \n",
       "3  ...                                               1.0   \n",
       "5  ...                                               1.0   \n",
       "\n",
       "   packages_running_com.halfbrick.fruitninjafree  \\\n",
       "0                                            0.0   \n",
       "1                                            0.0   \n",
       "2                                            0.0   \n",
       "3                                            0.0   \n",
       "5                                            0.0   \n",
       "\n",
       "   packages_running_com.rovio.angrybirdsspace.ads  \\\n",
       "0                                             0.0   \n",
       "1                                             0.0   \n",
       "2                                             0.0   \n",
       "3                                             0.0   \n",
       "5                                             0.0   \n",
       "\n",
       "   packages_running_com.tf.thinkdroid.sg  \\\n",
       "0                                    0.0   \n",
       "1                                    0.0   \n",
       "2                                    0.0   \n",
       "3                                    0.0   \n",
       "5                                    0.0   \n",
       "\n",
       "   packages_running_de.kicktipp.mbookmark  \\\n",
       "0                                     0.0   \n",
       "1                                     0.0   \n",
       "2                                     0.0   \n",
       "3                                     0.0   \n",
       "5                                     0.0   \n",
       "\n",
       "   packages_running_edu.udo.cs.ess.mobidac.target  \\\n",
       "0                                             1.0   \n",
       "1                                             1.0   \n",
       "2                                             1.0   \n",
       "3                                             1.0   \n",
       "5                                             1.0   \n",
       "\n",
       "   packages_running_org.openintents.filemanager  slot  year       time  \n",
       "0                                           0.0   3.0  2012 2012-08-31  \n",
       "1                                           0.0   4.0  2012 2012-08-31  \n",
       "2                                           0.0   8.0  2012 2012-08-31  \n",
       "3                                           0.0  12.0  2012 2012-08-31  \n",
       "5                                           0.0  17.0  2012 2012-08-31  \n",
       "\n",
       "[5 rows x 54 columns]"
      ],
      "text/html": "<div>\n<style scoped>\n    .dataframe tbody tr th:only-of-type {\n        vertical-align: middle;\n    }\n\n    .dataframe tbody tr th {\n        vertical-align: top;\n    }\n\n    .dataframe thead th {\n        text-align: right;\n    }\n</style>\n<table border=\"1\" class=\"dataframe\">\n  <thead>\n    <tr style=\"text-align: right;\">\n      <th></th>\n      <th>battery_level</th>\n      <th>battery_plugged</th>\n      <th>battery_status</th>\n      <th>day</th>\n      <th>month</th>\n      <th>packages_running_ch.smalltech.battery.free</th>\n      <th>packages_running_com.android.bluetooth</th>\n      <th>packages_running_com.android.calculator2</th>\n      <th>packages_running_com.android.chrome</th>\n      <th>packages_running_com.android.contacts</th>\n      <th>...</th>\n      <th>packages_running_com.googlecode.pythonforandroid</th>\n      <th>packages_running_com.halfbrick.fruitninjafree</th>\n      <th>packages_running_com.rovio.angrybirdsspace.ads</th>\n      <th>packages_running_com.tf.thinkdroid.sg</th>\n      <th>packages_running_de.kicktipp.mbookmark</th>\n      <th>packages_running_edu.udo.cs.ess.mobidac.target</th>\n      <th>packages_running_org.openintents.filemanager</th>\n      <th>slot</th>\n      <th>year</th>\n      <th>time</th>\n    </tr>\n  </thead>\n  <tbody>\n    <tr>\n      <th>0</th>\n      <td>25.0</td>\n      <td>1.0</td>\n      <td>2.0</td>\n      <td>31</td>\n      <td>8</td>\n      <td>0.0</td>\n      <td>0.0</td>\n      <td>0.0</td>\n      <td>1.0</td>\n      <td>0.0</td>\n      <td>...</td>\n      <td>0.0</td>\n      <td>0.0</td>\n      <td>0.0</td>\n      <td>0.0</td>\n      <td>0.0</td>\n      <td>1.0</td>\n      <td>0.0</td>\n      <td>3.0</td>\n      <td>2012</td>\n      <td>2012-08-31</td>\n    </tr>\n    <tr>\n      <th>1</th>\n      <td>3.0</td>\n      <td>0.0</td>\n      <td>0.0</td>\n      <td>31</td>\n      <td>8</td>\n      <td>0.0</td>\n      <td>0.0</td>\n      <td>0.0</td>\n      <td>1.0</td>\n      <td>0.0</td>\n      <td>...</td>\n      <td>0.0</td>\n      <td>0.0</td>\n      <td>0.0</td>\n      <td>0.0</td>\n      <td>0.0</td>\n      <td>1.0</td>\n      <td>0.0</td>\n      <td>4.0</td>\n      <td>2012</td>\n      <td>2012-08-31</td>\n    </tr>\n    <tr>\n      <th>2</th>\n      <td>1.0</td>\n      <td>1.0</td>\n      <td>4.5</td>\n      <td>31</td>\n      <td>8</td>\n      <td>0.0</td>\n      <td>0.0</td>\n      <td>0.0</td>\n      <td>1.0</td>\n      <td>0.0</td>\n      <td>...</td>\n      <td>1.0</td>\n      <td>0.0</td>\n      <td>0.0</td>\n      <td>0.0</td>\n      <td>0.0</td>\n      <td>1.0</td>\n      <td>0.0</td>\n      <td>8.0</td>\n      <td>2012</td>\n      <td>2012-08-31</td>\n    </tr>\n    <tr>\n      <th>3</th>\n      <td>0.0</td>\n      <td>1.0</td>\n      <td>5.0</td>\n      <td>31</td>\n      <td>8</td>\n      <td>0.0</td>\n      <td>0.0</td>\n      <td>0.0</td>\n      <td>1.0</td>\n      <td>0.0</td>\n      <td>...</td>\n      <td>1.0</td>\n      <td>0.0</td>\n      <td>0.0</td>\n      <td>0.0</td>\n      <td>0.0</td>\n      <td>1.0</td>\n      <td>0.0</td>\n      <td>12.0</td>\n      <td>2012</td>\n      <td>2012-08-31</td>\n    </tr>\n    <tr>\n      <th>5</th>\n      <td>0.0</td>\n      <td>0.0</td>\n      <td>0.0</td>\n      <td>31</td>\n      <td>8</td>\n      <td>0.0</td>\n      <td>0.0</td>\n      <td>0.0</td>\n      <td>0.0</td>\n      <td>0.0</td>\n      <td>...</td>\n      <td>1.0</td>\n      <td>0.0</td>\n      <td>0.0</td>\n      <td>0.0</td>\n      <td>0.0</td>\n      <td>1.0</td>\n      <td>0.0</td>\n      <td>17.0</td>\n      <td>2012</td>\n      <td>2012-08-31</td>\n    </tr>\n  </tbody>\n</table>\n<p>5 rows × 54 columns</p>\n</div>"
     },
     "metadata": {},
     "execution_count": 109
    }
   ],
   "source": [
    "df.head()"
   ]
  },
  {
   "cell_type": "code",
   "execution_count": 110,
   "metadata": {},
   "outputs": [
    {
     "output_type": "stream",
     "name": "stderr",
     "text": [
      "Summarize dataset: 100%|██████████| 64/64 [00:00<00:00, 264.95it/s, Completed]\n",
      "Generate report structure: 100%|██████████| 1/1 [00:01<00:00,  1.42s/it]\n",
      "Render HTML: 100%|██████████| 1/1 [00:00<00:00,  4.46it/s]\n",
      "Export report to file: 100%|██████████| 1/1 [00:00<00:00, 672.27it/s]\n"
     ]
    }
   ],
   "source": [
    "profile = ProfileReport(df, minimal=True)\n",
    "profile.to_file(\"output.html\")"
   ]
  },
  {
   "cell_type": "code",
   "execution_count": 111,
   "metadata": {},
   "outputs": [],
   "source": [
    "# Calculated Unique States\n",
    "#dfUnique = df.drop_duplicates()\n"
   ]
  },
  {
   "cell_type": "code",
   "execution_count": 125,
   "metadata": {},
   "outputs": [],
   "source": [
    "batterie = df[['battery_level','battery_plugged', 'time']] #.drop_duplicates()"
   ]
  },
  {
   "cell_type": "code",
   "execution_count": 126,
   "metadata": {},
   "outputs": [
    {
     "output_type": "execute_result",
     "data": {
      "text/plain": [
       "      battery_level  battery_plugged       time\n",
       "0              25.0              1.0 2012-08-31\n",
       "1               3.0              0.0 2012-08-31\n",
       "2               1.0              1.0 2012-08-31\n",
       "3               0.0              1.0 2012-08-31\n",
       "5               0.0              0.0 2012-08-31\n",
       "...             ...              ...        ...\n",
       "2464            0.0              0.0 2013-03-07\n",
       "2465           -1.0              0.0 2013-03-07\n",
       "2466           -1.0              0.0 2013-03-07\n",
       "2467            0.0              0.0 2013-03-07\n",
       "2468            0.0              0.0 2013-03-07\n",
       "\n",
       "[2444 rows x 3 columns]"
      ],
      "text/html": "<div>\n<style scoped>\n    .dataframe tbody tr th:only-of-type {\n        vertical-align: middle;\n    }\n\n    .dataframe tbody tr th {\n        vertical-align: top;\n    }\n\n    .dataframe thead th {\n        text-align: right;\n    }\n</style>\n<table border=\"1\" class=\"dataframe\">\n  <thead>\n    <tr style=\"text-align: right;\">\n      <th></th>\n      <th>battery_level</th>\n      <th>battery_plugged</th>\n      <th>time</th>\n    </tr>\n  </thead>\n  <tbody>\n    <tr>\n      <th>0</th>\n      <td>25.0</td>\n      <td>1.0</td>\n      <td>2012-08-31</td>\n    </tr>\n    <tr>\n      <th>1</th>\n      <td>3.0</td>\n      <td>0.0</td>\n      <td>2012-08-31</td>\n    </tr>\n    <tr>\n      <th>2</th>\n      <td>1.0</td>\n      <td>1.0</td>\n      <td>2012-08-31</td>\n    </tr>\n    <tr>\n      <th>3</th>\n      <td>0.0</td>\n      <td>1.0</td>\n      <td>2012-08-31</td>\n    </tr>\n    <tr>\n      <th>5</th>\n      <td>0.0</td>\n      <td>0.0</td>\n      <td>2012-08-31</td>\n    </tr>\n    <tr>\n      <th>...</th>\n      <td>...</td>\n      <td>...</td>\n      <td>...</td>\n    </tr>\n    <tr>\n      <th>2464</th>\n      <td>0.0</td>\n      <td>0.0</td>\n      <td>2013-03-07</td>\n    </tr>\n    <tr>\n      <th>2465</th>\n      <td>-1.0</td>\n      <td>0.0</td>\n      <td>2013-03-07</td>\n    </tr>\n    <tr>\n      <th>2466</th>\n      <td>-1.0</td>\n      <td>0.0</td>\n      <td>2013-03-07</td>\n    </tr>\n    <tr>\n      <th>2467</th>\n      <td>0.0</td>\n      <td>0.0</td>\n      <td>2013-03-07</td>\n    </tr>\n    <tr>\n      <th>2468</th>\n      <td>0.0</td>\n      <td>0.0</td>\n      <td>2013-03-07</td>\n    </tr>\n  </tbody>\n</table>\n<p>2444 rows × 3 columns</p>\n</div>"
     },
     "metadata": {},
     "execution_count": 126
    }
   ],
   "source": [
    "batterie"
   ]
  },
  {
   "cell_type": "code",
   "execution_count": 122,
   "metadata": {},
   "outputs": [
    {
     "output_type": "execute_result",
     "data": {
      "text/plain": [
       "<AxesSubplot:xlabel='time'>"
      ]
     },
     "metadata": {},
     "execution_count": 122
    },
    {
     "output_type": "display_data",
     "data": {
      "text/plain": "<Figure size 432x288 with 1 Axes>",
      "image/svg+xml": "<?xml version=\"1.0\" encoding=\"utf-8\" standalone=\"no\"?>\r\n<!DOCTYPE svg PUBLIC \"-//W3C//DTD SVG 1.1//EN\"\r\n  \"http://www.w3.org/Graphics/SVG/1.1/DTD/svg11.dtd\">\r\n<!-- Created with matplotlib (https://matplotlib.org/) -->\r\n<svg height=\"260.191033pt\" version=\"1.1\" viewBox=\"0 0 377.304688 260.191033\" width=\"377.304688pt\" xmlns=\"http://www.w3.org/2000/svg\" xmlns:xlink=\"http://www.w3.org/1999/xlink\">\r\n <metadata>\r\n  <rdf:RDF xmlns:cc=\"http://creativecommons.org/ns#\" xmlns:dc=\"http://purl.org/dc/elements/1.1/\" xmlns:rdf=\"http://www.w3.org/1999/02/22-rdf-syntax-ns#\">\r\n   <cc:Work>\r\n    <dc:type rdf:resource=\"http://purl.org/dc/dcmitype/StillImage\"/>\r\n    <dc:date>2020-12-06T20:18:08.619845</dc:date>\r\n    <dc:format>image/svg+xml</dc:format>\r\n    <dc:creator>\r\n     <cc:Agent>\r\n      <dc:title>Matplotlib v3.3.2, https://matplotlib.org/</dc:title>\r\n     </cc:Agent>\r\n    </dc:creator>\r\n   </cc:Work>\r\n  </rdf:RDF>\r\n </metadata>\r\n <defs>\r\n  <style type=\"text/css\">*{stroke-linecap:butt;stroke-linejoin:round;}</style>\r\n </defs>\r\n <g id=\"figure_1\">\r\n  <g id=\"patch_1\">\r\n   <path d=\"M 0 260.191033 \r\nL 377.304688 260.191033 \r\nL 377.304688 0 \r\nL 0 0 \r\nz\r\n\" style=\"fill:none;\"/>\r\n  </g>\r\n  <g id=\"axes_1\">\r\n   <g id=\"patch_2\">\r\n    <path d=\"M 35.304688 203.04 \r\nL 370.104688 203.04 \r\nL 370.104688 7.2 \r\nL 35.304688 7.2 \r\nz\r\n\" style=\"fill:#ffffff;\"/>\r\n   </g>\r\n   <g id=\"matplotlib.axis_1\">\r\n    <g id=\"xtick_1\">\r\n     <g id=\"line2d_1\">\r\n      <defs>\r\n       <path d=\"M 0 0 \r\nL 0 3.5 \r\n\" id=\"m846d146398\" style=\"stroke:#000000;stroke-width:0.8;\"/>\r\n      </defs>\r\n      <g>\r\n       <use style=\"stroke:#000000;stroke-width:0.8;\" x=\"52.141825\" xlink:href=\"#m846d146398\" y=\"203.04\"/>\r\n      </g>\r\n     </g>\r\n     <g id=\"text_1\">\r\n      <!-- 2012-09 -->\r\n      <g transform=\"translate(14.917004 237.511846)rotate(-30)scale(0.1 -0.1)\">\r\n       <defs>\r\n        <path d=\"M 19.1875 8.296875 \r\nL 53.609375 8.296875 \r\nL 53.609375 0 \r\nL 7.328125 0 \r\nL 7.328125 8.296875 \r\nQ 12.9375 14.109375 22.625 23.890625 \r\nQ 32.328125 33.6875 34.8125 36.53125 \r\nQ 39.546875 41.84375 41.421875 45.53125 \r\nQ 43.3125 49.21875 43.3125 52.78125 \r\nQ 43.3125 58.59375 39.234375 62.25 \r\nQ 35.15625 65.921875 28.609375 65.921875 \r\nQ 23.96875 65.921875 18.8125 64.3125 \r\nQ 13.671875 62.703125 7.8125 59.421875 \r\nL 7.8125 69.390625 \r\nQ 13.765625 71.78125 18.9375 73 \r\nQ 24.125 74.21875 28.421875 74.21875 \r\nQ 39.75 74.21875 46.484375 68.546875 \r\nQ 53.21875 62.890625 53.21875 53.421875 \r\nQ 53.21875 48.921875 51.53125 44.890625 \r\nQ 49.859375 40.875 45.40625 35.40625 \r\nQ 44.1875 33.984375 37.640625 27.21875 \r\nQ 31.109375 20.453125 19.1875 8.296875 \r\nz\r\n\" id=\"DejaVuSans-50\"/>\r\n        <path d=\"M 31.78125 66.40625 \r\nQ 24.171875 66.40625 20.328125 58.90625 \r\nQ 16.5 51.421875 16.5 36.375 \r\nQ 16.5 21.390625 20.328125 13.890625 \r\nQ 24.171875 6.390625 31.78125 6.390625 \r\nQ 39.453125 6.390625 43.28125 13.890625 \r\nQ 47.125 21.390625 47.125 36.375 \r\nQ 47.125 51.421875 43.28125 58.90625 \r\nQ 39.453125 66.40625 31.78125 66.40625 \r\nz\r\nM 31.78125 74.21875 \r\nQ 44.046875 74.21875 50.515625 64.515625 \r\nQ 56.984375 54.828125 56.984375 36.375 \r\nQ 56.984375 17.96875 50.515625 8.265625 \r\nQ 44.046875 -1.421875 31.78125 -1.421875 \r\nQ 19.53125 -1.421875 13.0625 8.265625 \r\nQ 6.59375 17.96875 6.59375 36.375 \r\nQ 6.59375 54.828125 13.0625 64.515625 \r\nQ 19.53125 74.21875 31.78125 74.21875 \r\nz\r\n\" id=\"DejaVuSans-48\"/>\r\n        <path d=\"M 12.40625 8.296875 \r\nL 28.515625 8.296875 \r\nL 28.515625 63.921875 \r\nL 10.984375 60.40625 \r\nL 10.984375 69.390625 \r\nL 28.421875 72.90625 \r\nL 38.28125 72.90625 \r\nL 38.28125 8.296875 \r\nL 54.390625 8.296875 \r\nL 54.390625 0 \r\nL 12.40625 0 \r\nz\r\n\" id=\"DejaVuSans-49\"/>\r\n        <path d=\"M 4.890625 31.390625 \r\nL 31.203125 31.390625 \r\nL 31.203125 23.390625 \r\nL 4.890625 23.390625 \r\nz\r\n\" id=\"DejaVuSans-45\"/>\r\n        <path d=\"M 10.984375 1.515625 \r\nL 10.984375 10.5 \r\nQ 14.703125 8.734375 18.5 7.8125 \r\nQ 22.3125 6.890625 25.984375 6.890625 \r\nQ 35.75 6.890625 40.890625 13.453125 \r\nQ 46.046875 20.015625 46.78125 33.40625 \r\nQ 43.953125 29.203125 39.59375 26.953125 \r\nQ 35.25 24.703125 29.984375 24.703125 \r\nQ 19.046875 24.703125 12.671875 31.3125 \r\nQ 6.296875 37.9375 6.296875 49.421875 \r\nQ 6.296875 60.640625 12.9375 67.421875 \r\nQ 19.578125 74.21875 30.609375 74.21875 \r\nQ 43.265625 74.21875 49.921875 64.515625 \r\nQ 56.59375 54.828125 56.59375 36.375 \r\nQ 56.59375 19.140625 48.40625 8.859375 \r\nQ 40.234375 -1.421875 26.421875 -1.421875 \r\nQ 22.703125 -1.421875 18.890625 -0.6875 \r\nQ 15.09375 0.046875 10.984375 1.515625 \r\nz\r\nM 30.609375 32.421875 \r\nQ 37.25 32.421875 41.125 36.953125 \r\nQ 45.015625 41.5 45.015625 49.421875 \r\nQ 45.015625 57.28125 41.125 61.84375 \r\nQ 37.25 66.40625 30.609375 66.40625 \r\nQ 23.96875 66.40625 20.09375 61.84375 \r\nQ 16.21875 57.28125 16.21875 49.421875 \r\nQ 16.21875 41.5 20.09375 36.953125 \r\nQ 23.96875 32.421875 30.609375 32.421875 \r\nz\r\n\" id=\"DejaVuSans-57\"/>\r\n       </defs>\r\n       <use xlink:href=\"#DejaVuSans-50\"/>\r\n       <use x=\"63.623047\" xlink:href=\"#DejaVuSans-48\"/>\r\n       <use x=\"127.246094\" xlink:href=\"#DejaVuSans-49\"/>\r\n       <use x=\"190.869141\" xlink:href=\"#DejaVuSans-50\"/>\r\n       <use x=\"254.492188\" xlink:href=\"#DejaVuSans-45\"/>\r\n       <use x=\"290.576172\" xlink:href=\"#DejaVuSans-48\"/>\r\n       <use x=\"354.199219\" xlink:href=\"#DejaVuSans-57\"/>\r\n      </g>\r\n     </g>\r\n    </g>\r\n    <g id=\"xtick_2\">\r\n     <g id=\"line2d_2\">\r\n      <g>\r\n       <use style=\"stroke:#000000;stroke-width:0.8;\" x=\"100.71049\" xlink:href=\"#m846d146398\" y=\"203.04\"/>\r\n      </g>\r\n     </g>\r\n     <g id=\"text_2\">\r\n      <!-- 2012-10 -->\r\n      <g transform=\"translate(63.485669 237.511846)rotate(-30)scale(0.1 -0.1)\">\r\n       <use xlink:href=\"#DejaVuSans-50\"/>\r\n       <use x=\"63.623047\" xlink:href=\"#DejaVuSans-48\"/>\r\n       <use x=\"127.246094\" xlink:href=\"#DejaVuSans-49\"/>\r\n       <use x=\"190.869141\" xlink:href=\"#DejaVuSans-50\"/>\r\n       <use x=\"254.492188\" xlink:href=\"#DejaVuSans-45\"/>\r\n       <use x=\"290.576172\" xlink:href=\"#DejaVuSans-49\"/>\r\n       <use x=\"354.199219\" xlink:href=\"#DejaVuSans-48\"/>\r\n      </g>\r\n     </g>\r\n    </g>\r\n    <g id=\"xtick_3\">\r\n     <g id=\"line2d_3\">\r\n      <g>\r\n       <use style=\"stroke:#000000;stroke-width:0.8;\" x=\"150.898111\" xlink:href=\"#m846d146398\" y=\"203.04\"/>\r\n      </g>\r\n     </g>\r\n     <g id=\"text_3\">\r\n      <!-- 2012-11 -->\r\n      <g transform=\"translate(113.67329 237.511846)rotate(-30)scale(0.1 -0.1)\">\r\n       <use xlink:href=\"#DejaVuSans-50\"/>\r\n       <use x=\"63.623047\" xlink:href=\"#DejaVuSans-48\"/>\r\n       <use x=\"127.246094\" xlink:href=\"#DejaVuSans-49\"/>\r\n       <use x=\"190.869141\" xlink:href=\"#DejaVuSans-50\"/>\r\n       <use x=\"254.492188\" xlink:href=\"#DejaVuSans-45\"/>\r\n       <use x=\"290.576172\" xlink:href=\"#DejaVuSans-49\"/>\r\n       <use x=\"354.199219\" xlink:href=\"#DejaVuSans-49\"/>\r\n      </g>\r\n     </g>\r\n    </g>\r\n    <g id=\"xtick_4\">\r\n     <g id=\"line2d_4\">\r\n      <g>\r\n       <use style=\"stroke:#000000;stroke-width:0.8;\" x=\"199.466776\" xlink:href=\"#m846d146398\" y=\"203.04\"/>\r\n      </g>\r\n     </g>\r\n     <g id=\"text_4\">\r\n      <!-- 2012-12 -->\r\n      <g transform=\"translate(162.241956 237.511846)rotate(-30)scale(0.1 -0.1)\">\r\n       <use xlink:href=\"#DejaVuSans-50\"/>\r\n       <use x=\"63.623047\" xlink:href=\"#DejaVuSans-48\"/>\r\n       <use x=\"127.246094\" xlink:href=\"#DejaVuSans-49\"/>\r\n       <use x=\"190.869141\" xlink:href=\"#DejaVuSans-50\"/>\r\n       <use x=\"254.492188\" xlink:href=\"#DejaVuSans-45\"/>\r\n       <use x=\"290.576172\" xlink:href=\"#DejaVuSans-49\"/>\r\n       <use x=\"354.199219\" xlink:href=\"#DejaVuSans-50\"/>\r\n      </g>\r\n     </g>\r\n    </g>\r\n    <g id=\"xtick_5\">\r\n     <g id=\"line2d_5\">\r\n      <g>\r\n       <use style=\"stroke:#000000;stroke-width:0.8;\" x=\"249.654397\" xlink:href=\"#m846d146398\" y=\"203.04\"/>\r\n      </g>\r\n     </g>\r\n     <g id=\"text_5\">\r\n      <!-- 2013-01 -->\r\n      <g transform=\"translate(212.429577 237.511846)rotate(-30)scale(0.1 -0.1)\">\r\n       <defs>\r\n        <path d=\"M 40.578125 39.3125 \r\nQ 47.65625 37.796875 51.625 33 \r\nQ 55.609375 28.21875 55.609375 21.1875 \r\nQ 55.609375 10.40625 48.1875 4.484375 \r\nQ 40.765625 -1.421875 27.09375 -1.421875 \r\nQ 22.515625 -1.421875 17.65625 -0.515625 \r\nQ 12.796875 0.390625 7.625 2.203125 \r\nL 7.625 11.71875 \r\nQ 11.71875 9.328125 16.59375 8.109375 \r\nQ 21.484375 6.890625 26.8125 6.890625 \r\nQ 36.078125 6.890625 40.9375 10.546875 \r\nQ 45.796875 14.203125 45.796875 21.1875 \r\nQ 45.796875 27.640625 41.28125 31.265625 \r\nQ 36.765625 34.90625 28.71875 34.90625 \r\nL 20.21875 34.90625 \r\nL 20.21875 43.015625 \r\nL 29.109375 43.015625 \r\nQ 36.375 43.015625 40.234375 45.921875 \r\nQ 44.09375 48.828125 44.09375 54.296875 \r\nQ 44.09375 59.90625 40.109375 62.90625 \r\nQ 36.140625 65.921875 28.71875 65.921875 \r\nQ 24.65625 65.921875 20.015625 65.03125 \r\nQ 15.375 64.15625 9.8125 62.3125 \r\nL 9.8125 71.09375 \r\nQ 15.4375 72.65625 20.34375 73.4375 \r\nQ 25.25 74.21875 29.59375 74.21875 \r\nQ 40.828125 74.21875 47.359375 69.109375 \r\nQ 53.90625 64.015625 53.90625 55.328125 \r\nQ 53.90625 49.265625 50.4375 45.09375 \r\nQ 46.96875 40.921875 40.578125 39.3125 \r\nz\r\n\" id=\"DejaVuSans-51\"/>\r\n       </defs>\r\n       <use xlink:href=\"#DejaVuSans-50\"/>\r\n       <use x=\"63.623047\" xlink:href=\"#DejaVuSans-48\"/>\r\n       <use x=\"127.246094\" xlink:href=\"#DejaVuSans-49\"/>\r\n       <use x=\"190.869141\" xlink:href=\"#DejaVuSans-51\"/>\r\n       <use x=\"254.492188\" xlink:href=\"#DejaVuSans-45\"/>\r\n       <use x=\"290.576172\" xlink:href=\"#DejaVuSans-48\"/>\r\n       <use x=\"354.199219\" xlink:href=\"#DejaVuSans-49\"/>\r\n      </g>\r\n     </g>\r\n    </g>\r\n    <g id=\"xtick_6\">\r\n     <g id=\"line2d_6\">\r\n      <g>\r\n       <use style=\"stroke:#000000;stroke-width:0.8;\" x=\"299.842018\" xlink:href=\"#m846d146398\" y=\"203.04\"/>\r\n      </g>\r\n     </g>\r\n     <g id=\"text_6\">\r\n      <!-- 2013-02 -->\r\n      <g transform=\"translate(262.617197 237.511846)rotate(-30)scale(0.1 -0.1)\">\r\n       <use xlink:href=\"#DejaVuSans-50\"/>\r\n       <use x=\"63.623047\" xlink:href=\"#DejaVuSans-48\"/>\r\n       <use x=\"127.246094\" xlink:href=\"#DejaVuSans-49\"/>\r\n       <use x=\"190.869141\" xlink:href=\"#DejaVuSans-51\"/>\r\n       <use x=\"254.492188\" xlink:href=\"#DejaVuSans-45\"/>\r\n       <use x=\"290.576172\" xlink:href=\"#DejaVuSans-48\"/>\r\n       <use x=\"354.199219\" xlink:href=\"#DejaVuSans-50\"/>\r\n      </g>\r\n     </g>\r\n    </g>\r\n    <g id=\"xtick_7\">\r\n     <g id=\"line2d_7\">\r\n      <g>\r\n       <use style=\"stroke:#000000;stroke-width:0.8;\" x=\"345.172773\" xlink:href=\"#m846d146398\" y=\"203.04\"/>\r\n      </g>\r\n     </g>\r\n     <g id=\"text_7\">\r\n      <!-- 2013-03 -->\r\n      <g transform=\"translate(307.947952 237.511846)rotate(-30)scale(0.1 -0.1)\">\r\n       <use xlink:href=\"#DejaVuSans-50\"/>\r\n       <use x=\"63.623047\" xlink:href=\"#DejaVuSans-48\"/>\r\n       <use x=\"127.246094\" xlink:href=\"#DejaVuSans-49\"/>\r\n       <use x=\"190.869141\" xlink:href=\"#DejaVuSans-51\"/>\r\n       <use x=\"254.492188\" xlink:href=\"#DejaVuSans-45\"/>\r\n       <use x=\"290.576172\" xlink:href=\"#DejaVuSans-48\"/>\r\n       <use x=\"354.199219\" xlink:href=\"#DejaVuSans-51\"/>\r\n      </g>\r\n     </g>\r\n    </g>\r\n    <g id=\"text_8\">\r\n     <!-- time -->\r\n     <g transform=\"translate(191.408594 250.911346)scale(0.1 -0.1)\">\r\n      <defs>\r\n       <path d=\"M 18.3125 70.21875 \r\nL 18.3125 54.6875 \r\nL 36.8125 54.6875 \r\nL 36.8125 47.703125 \r\nL 18.3125 47.703125 \r\nL 18.3125 18.015625 \r\nQ 18.3125 11.328125 20.140625 9.421875 \r\nQ 21.96875 7.515625 27.59375 7.515625 \r\nL 36.8125 7.515625 \r\nL 36.8125 0 \r\nL 27.59375 0 \r\nQ 17.1875 0 13.234375 3.875 \r\nQ 9.28125 7.765625 9.28125 18.015625 \r\nL 9.28125 47.703125 \r\nL 2.6875 47.703125 \r\nL 2.6875 54.6875 \r\nL 9.28125 54.6875 \r\nL 9.28125 70.21875 \r\nz\r\n\" id=\"DejaVuSans-116\"/>\r\n       <path d=\"M 9.421875 54.6875 \r\nL 18.40625 54.6875 \r\nL 18.40625 0 \r\nL 9.421875 0 \r\nz\r\nM 9.421875 75.984375 \r\nL 18.40625 75.984375 \r\nL 18.40625 64.59375 \r\nL 9.421875 64.59375 \r\nz\r\n\" id=\"DejaVuSans-105\"/>\r\n       <path d=\"M 52 44.1875 \r\nQ 55.375 50.25 60.0625 53.125 \r\nQ 64.75 56 71.09375 56 \r\nQ 79.640625 56 84.28125 50.015625 \r\nQ 88.921875 44.046875 88.921875 33.015625 \r\nL 88.921875 0 \r\nL 79.890625 0 \r\nL 79.890625 32.71875 \r\nQ 79.890625 40.578125 77.09375 44.375 \r\nQ 74.3125 48.1875 68.609375 48.1875 \r\nQ 61.625 48.1875 57.5625 43.546875 \r\nQ 53.515625 38.921875 53.515625 30.90625 \r\nL 53.515625 0 \r\nL 44.484375 0 \r\nL 44.484375 32.71875 \r\nQ 44.484375 40.625 41.703125 44.40625 \r\nQ 38.921875 48.1875 33.109375 48.1875 \r\nQ 26.21875 48.1875 22.15625 43.53125 \r\nQ 18.109375 38.875 18.109375 30.90625 \r\nL 18.109375 0 \r\nL 9.078125 0 \r\nL 9.078125 54.6875 \r\nL 18.109375 54.6875 \r\nL 18.109375 46.1875 \r\nQ 21.1875 51.21875 25.484375 53.609375 \r\nQ 29.78125 56 35.6875 56 \r\nQ 41.65625 56 45.828125 52.96875 \r\nQ 50 49.953125 52 44.1875 \r\nz\r\n\" id=\"DejaVuSans-109\"/>\r\n       <path d=\"M 56.203125 29.59375 \r\nL 56.203125 25.203125 \r\nL 14.890625 25.203125 \r\nQ 15.484375 15.921875 20.484375 11.0625 \r\nQ 25.484375 6.203125 34.421875 6.203125 \r\nQ 39.59375 6.203125 44.453125 7.46875 \r\nQ 49.3125 8.734375 54.109375 11.28125 \r\nL 54.109375 2.78125 \r\nQ 49.265625 0.734375 44.1875 -0.34375 \r\nQ 39.109375 -1.421875 33.890625 -1.421875 \r\nQ 20.796875 -1.421875 13.15625 6.1875 \r\nQ 5.515625 13.8125 5.515625 26.8125 \r\nQ 5.515625 40.234375 12.765625 48.109375 \r\nQ 20.015625 56 32.328125 56 \r\nQ 43.359375 56 49.78125 48.890625 \r\nQ 56.203125 41.796875 56.203125 29.59375 \r\nz\r\nM 47.21875 32.234375 \r\nQ 47.125 39.59375 43.09375 43.984375 \r\nQ 39.0625 48.390625 32.421875 48.390625 \r\nQ 24.90625 48.390625 20.390625 44.140625 \r\nQ 15.875 39.890625 15.1875 32.171875 \r\nz\r\n\" id=\"DejaVuSans-101\"/>\r\n      </defs>\r\n      <use xlink:href=\"#DejaVuSans-116\"/>\r\n      <use x=\"39.208984\" xlink:href=\"#DejaVuSans-105\"/>\r\n      <use x=\"66.992188\" xlink:href=\"#DejaVuSans-109\"/>\r\n      <use x=\"164.404297\" xlink:href=\"#DejaVuSans-101\"/>\r\n     </g>\r\n    </g>\r\n   </g>\r\n   <g id=\"matplotlib.axis_2\">\r\n    <g id=\"ytick_1\">\r\n     <g id=\"line2d_8\">\r\n      <defs>\r\n       <path d=\"M 0 0 \r\nL -3.5 0 \r\n\" id=\"mb54f9cd40a\" style=\"stroke:#000000;stroke-width:0.8;\"/>\r\n      </defs>\r\n      <g>\r\n       <use style=\"stroke:#000000;stroke-width:0.8;\" x=\"35.304688\" xlink:href=\"#mb54f9cd40a\" y=\"194.138182\"/>\r\n      </g>\r\n     </g>\r\n     <g id=\"text_9\">\r\n      <!-- −10 -->\r\n      <g transform=\"translate(7.2 197.937401)scale(0.1 -0.1)\">\r\n       <defs>\r\n        <path d=\"M 10.59375 35.5 \r\nL 73.1875 35.5 \r\nL 73.1875 27.203125 \r\nL 10.59375 27.203125 \r\nz\r\n\" id=\"DejaVuSans-8722\"/>\r\n       </defs>\r\n       <use xlink:href=\"#DejaVuSans-8722\"/>\r\n       <use x=\"83.789062\" xlink:href=\"#DejaVuSans-49\"/>\r\n       <use x=\"147.412109\" xlink:href=\"#DejaVuSans-48\"/>\r\n      </g>\r\n     </g>\r\n    </g>\r\n    <g id=\"ytick_2\">\r\n     <g id=\"line2d_9\">\r\n      <g>\r\n       <use style=\"stroke:#000000;stroke-width:0.8;\" x=\"35.304688\" xlink:href=\"#mb54f9cd40a\" y=\"171.883636\"/>\r\n      </g>\r\n     </g>\r\n     <g id=\"text_10\">\r\n      <!-- −5 -->\r\n      <g transform=\"translate(13.5625 175.682855)scale(0.1 -0.1)\">\r\n       <defs>\r\n        <path d=\"M 10.796875 72.90625 \r\nL 49.515625 72.90625 \r\nL 49.515625 64.59375 \r\nL 19.828125 64.59375 \r\nL 19.828125 46.734375 \r\nQ 21.96875 47.46875 24.109375 47.828125 \r\nQ 26.265625 48.1875 28.421875 48.1875 \r\nQ 40.625 48.1875 47.75 41.5 \r\nQ 54.890625 34.8125 54.890625 23.390625 \r\nQ 54.890625 11.625 47.5625 5.09375 \r\nQ 40.234375 -1.421875 26.90625 -1.421875 \r\nQ 22.3125 -1.421875 17.546875 -0.640625 \r\nQ 12.796875 0.140625 7.71875 1.703125 \r\nL 7.71875 11.625 \r\nQ 12.109375 9.234375 16.796875 8.0625 \r\nQ 21.484375 6.890625 26.703125 6.890625 \r\nQ 35.15625 6.890625 40.078125 11.328125 \r\nQ 45.015625 15.765625 45.015625 23.390625 \r\nQ 45.015625 31 40.078125 35.4375 \r\nQ 35.15625 39.890625 26.703125 39.890625 \r\nQ 22.75 39.890625 18.8125 39.015625 \r\nQ 14.890625 38.140625 10.796875 36.28125 \r\nz\r\n\" id=\"DejaVuSans-53\"/>\r\n       </defs>\r\n       <use xlink:href=\"#DejaVuSans-8722\"/>\r\n       <use x=\"83.789062\" xlink:href=\"#DejaVuSans-53\"/>\r\n      </g>\r\n     </g>\r\n    </g>\r\n    <g id=\"ytick_3\">\r\n     <g id=\"line2d_10\">\r\n      <g>\r\n       <use style=\"stroke:#000000;stroke-width:0.8;\" x=\"35.304688\" xlink:href=\"#mb54f9cd40a\" y=\"149.629091\"/>\r\n      </g>\r\n     </g>\r\n     <g id=\"text_11\">\r\n      <!-- 0 -->\r\n      <g transform=\"translate(21.942188 153.42831)scale(0.1 -0.1)\">\r\n       <use xlink:href=\"#DejaVuSans-48\"/>\r\n      </g>\r\n     </g>\r\n    </g>\r\n    <g id=\"ytick_4\">\r\n     <g id=\"line2d_11\">\r\n      <g>\r\n       <use style=\"stroke:#000000;stroke-width:0.8;\" x=\"35.304688\" xlink:href=\"#mb54f9cd40a\" y=\"127.374545\"/>\r\n      </g>\r\n     </g>\r\n     <g id=\"text_12\">\r\n      <!-- 5 -->\r\n      <g transform=\"translate(21.942188 131.173764)scale(0.1 -0.1)\">\r\n       <use xlink:href=\"#DejaVuSans-53\"/>\r\n      </g>\r\n     </g>\r\n    </g>\r\n    <g id=\"ytick_5\">\r\n     <g id=\"line2d_12\">\r\n      <g>\r\n       <use style=\"stroke:#000000;stroke-width:0.8;\" x=\"35.304688\" xlink:href=\"#mb54f9cd40a\" y=\"105.12\"/>\r\n      </g>\r\n     </g>\r\n     <g id=\"text_13\">\r\n      <!-- 10 -->\r\n      <g transform=\"translate(15.579688 108.919219)scale(0.1 -0.1)\">\r\n       <use xlink:href=\"#DejaVuSans-49\"/>\r\n       <use x=\"63.623047\" xlink:href=\"#DejaVuSans-48\"/>\r\n      </g>\r\n     </g>\r\n    </g>\r\n    <g id=\"ytick_6\">\r\n     <g id=\"line2d_13\">\r\n      <g>\r\n       <use style=\"stroke:#000000;stroke-width:0.8;\" x=\"35.304688\" xlink:href=\"#mb54f9cd40a\" y=\"82.865455\"/>\r\n      </g>\r\n     </g>\r\n     <g id=\"text_14\">\r\n      <!-- 15 -->\r\n      <g transform=\"translate(15.579688 86.664673)scale(0.1 -0.1)\">\r\n       <use xlink:href=\"#DejaVuSans-49\"/>\r\n       <use x=\"63.623047\" xlink:href=\"#DejaVuSans-53\"/>\r\n      </g>\r\n     </g>\r\n    </g>\r\n    <g id=\"ytick_7\">\r\n     <g id=\"line2d_14\">\r\n      <g>\r\n       <use style=\"stroke:#000000;stroke-width:0.8;\" x=\"35.304688\" xlink:href=\"#mb54f9cd40a\" y=\"60.610909\"/>\r\n      </g>\r\n     </g>\r\n     <g id=\"text_15\">\r\n      <!-- 20 -->\r\n      <g transform=\"translate(15.579688 64.410128)scale(0.1 -0.1)\">\r\n       <use xlink:href=\"#DejaVuSans-50\"/>\r\n       <use x=\"63.623047\" xlink:href=\"#DejaVuSans-48\"/>\r\n      </g>\r\n     </g>\r\n    </g>\r\n    <g id=\"ytick_8\">\r\n     <g id=\"line2d_15\">\r\n      <g>\r\n       <use style=\"stroke:#000000;stroke-width:0.8;\" x=\"35.304688\" xlink:href=\"#mb54f9cd40a\" y=\"38.356364\"/>\r\n      </g>\r\n     </g>\r\n     <g id=\"text_16\">\r\n      <!-- 25 -->\r\n      <g transform=\"translate(15.579688 42.155582)scale(0.1 -0.1)\">\r\n       <use xlink:href=\"#DejaVuSans-50\"/>\r\n       <use x=\"63.623047\" xlink:href=\"#DejaVuSans-53\"/>\r\n      </g>\r\n     </g>\r\n    </g>\r\n    <g id=\"ytick_9\">\r\n     <g id=\"line2d_16\">\r\n      <g>\r\n       <use style=\"stroke:#000000;stroke-width:0.8;\" x=\"35.304688\" xlink:href=\"#mb54f9cd40a\" y=\"16.101818\"/>\r\n      </g>\r\n     </g>\r\n     <g id=\"text_17\">\r\n      <!-- 30 -->\r\n      <g transform=\"translate(15.579688 19.901037)scale(0.1 -0.1)\">\r\n       <use xlink:href=\"#DejaVuSans-51\"/>\r\n       <use x=\"63.623047\" xlink:href=\"#DejaVuSans-48\"/>\r\n      </g>\r\n     </g>\r\n    </g>\r\n   </g>\r\n   <g id=\"line2d_17\">\r\n    <path clip-path=\"url(#p0ec167446b)\" d=\"M 50.522869 38.356364 \r\nL 50.522869 171.883636 \r\nL 50.522869 162.981818 \r\nL 52.141825 154.08 \r\nL 52.141825 154.08 \r\nL 52.141825 109.570909 \r\nL 52.141825 180.785455 \r\nL 53.76078 158.530909 \r\nL 53.76078 149.629091 \r\nL 53.76078 149.629091 \r\nL 55.379736 25.003636 \r\nL 55.379736 158.530909 \r\nL 55.379736 149.629091 \r\nL 56.998691 140.727273 \r\nL 56.998691 100.669091 \r\nL 56.998691 154.08 \r\nL 56.998691 149.629091 \r\nL 58.617647 154.08 \r\nL 58.617647 154.08 \r\nL 58.617647 149.629091 \r\nL 58.617647 171.883636 \r\nL 58.617647 149.629091 \r\nL 60.236602 42.807273 \r\nL 60.236602 20.552727 \r\nL 60.236602 176.334545 \r\nL 61.855558 158.530909 \r\nL 61.855558 149.629091 \r\nL 61.855558 185.236364 \r\nL 61.855558 149.629091 \r\nL 63.474513 154.08 \r\nL 63.474513 38.356364 \r\nL 63.474513 167.432727 \r\nL 63.474513 149.629091 \r\nL 65.093469 149.629091 \r\nL 65.093469 149.629091 \r\nL 65.093469 189.687273 \r\nL 65.093469 154.08 \r\nL 66.712424 149.629091 \r\nL 66.712424 149.629091 \r\nL 66.712424 167.432727 \r\nL 66.712424 65.061818 \r\nL 68.33138 60.610909 \r\nL 68.33138 47.258182 \r\nL 68.33138 171.883636 \r\nL 68.33138 149.629091 \r\nL 69.950335 149.629091 \r\nL 69.950335 149.629091 \r\nL 69.950335 167.432727 \r\nL 69.950335 65.061818 \r\nL 69.950335 154.08 \r\nL 71.569291 154.08 \r\nL 71.569291 154.08 \r\nL 71.569291 145.178182 \r\nL 71.569291 158.530909 \r\nL 71.569291 149.629091 \r\nL 73.188246 140.727273 \r\nL 73.188246 51.709091 \r\nL 73.188246 154.08 \r\nL 73.188246 149.629091 \r\nL 74.807202 149.629091 \r\nL 74.807202 149.629091 \r\nL 95.853624 20.552727 \r\nL 95.853624 162.981818 \r\nL 95.853624 149.629091 \r\nL 97.472579 154.08 \r\nL 97.472579 154.08 \r\nL 97.472579 149.629091 \r\nL 97.472579 167.432727 \r\nL 97.472579 149.629091 \r\nL 99.091535 154.08 \r\nL 99.091535 154.08 \r\nL 100.71049 154.08 \r\nL 100.71049 154.08 \r\nL 100.71049 149.629091 \r\nL 100.71049 149.629091 \r\nL 102.329446 149.629091 \r\nL 102.329446 154.08 \r\nL 102.329446 149.629091 \r\nL 103.948401 154.08 \r\nL 103.948401 154.08 \r\nL 103.948401 149.629091 \r\nL 103.948401 149.629091 \r\nL 112.043179 154.08 \r\nL 112.043179 149.629091 \r\nL 112.043179 158.530909 \r\nL 112.043179 149.629091 \r\nL 113.662134 149.629091 \r\nL 113.662134 149.629091 \r\nL 113.662134 167.432727 \r\nL 113.662134 149.629091 \r\nL 116.900045 167.432727 \r\nL 116.900045 176.334545 \r\nL 116.900045 154.08 \r\nL 116.900045 154.08 \r\nL 118.519001 149.629091 \r\nL 118.519001 162.981818 \r\nL 120.137956 158.530909 \r\nL 120.137956 149.629091 \r\nL 120.137956 154.08 \r\nL 121.756912 154.08 \r\nL 121.756912 154.08 \r\nL 121.756912 171.883636 \r\nL 121.756912 149.629091 \r\nL 121.756912 149.629091 \r\nL 123.375867 51.709091 \r\nL 123.375867 29.454545 \r\nL 123.375867 154.08 \r\nL 123.375867 154.08 \r\nL 124.994823 154.08 \r\nL 124.994823 162.981818 \r\nL 124.994823 149.629091 \r\nL 124.994823 158.530909 \r\nL 126.613778 91.767273 \r\nL 126.613778 25.003636 \r\nL 126.613778 189.687273 \r\nL 126.613778 149.629091 \r\nL 128.232734 176.334545 \r\nL 128.232734 149.629091 \r\nL 128.232734 149.629091 \r\nL 183.277221 154.08 \r\nL 183.277221 149.629091 \r\nL 183.277221 149.629091 \r\nL 184.896177 149.629091 \r\nL 184.896177 149.629091 \r\nL 184.896177 171.883636 \r\nL 184.896177 149.629091 \r\nL 186.515132 149.629091 \r\nL 186.515132 167.432727 \r\nL 186.515132 149.629091 \r\nL 192.990954 154.08 \r\nL 192.990954 176.334545 \r\nL 192.990954 158.530909 \r\nL 194.60991 154.08 \r\nL 194.60991 162.981818 \r\nL 194.60991 149.629091 \r\nL 194.60991 149.629091 \r\nL 196.228865 149.629091 \r\nL 196.228865 149.629091 \r\nL 196.228865 20.552727 \r\nL 196.228865 154.08 \r\nL 196.228865 149.629091 \r\nL 197.847821 149.629091 \r\nL 197.847821 149.629091 \r\nL 197.847821 171.883636 \r\nL 197.847821 149.629091 \r\nL 199.466776 149.629091 \r\nL 199.466776 149.629091 \r\nL 199.466776 158.530909 \r\nL 199.466776 42.807273 \r\nL 199.466776 154.08 \r\nL 201.085732 149.629091 \r\nL 201.085732 149.629091 \r\nL 201.085732 180.785455 \r\nL 201.085732 162.981818 \r\nL 202.704688 167.432727 \r\nL 202.704688 149.629091 \r\nL 202.704688 171.883636 \r\nL 202.704688 149.629091 \r\nL 204.323643 149.629091 \r\nL 204.323643 167.432727 \r\nL 214.037376 154.08 \r\nL 214.037376 176.334545 \r\nL 214.037376 162.981818 \r\nL 220.513198 51.709091 \r\nL 220.513198 51.709091 \r\nL 220.513198 158.530909 \r\nL 220.513198 154.08 \r\nL 222.132154 149.629091 \r\nL 222.132154 158.530909 \r\nL 222.132154 158.530909 \r\nL 223.751109 149.629091 \r\nL 223.751109 149.629091 \r\nL 223.751109 154.08 \r\nL 223.751109 149.629091 \r\nL 225.370065 154.08 \r\nL 225.370065 149.629091 \r\nL 226.98902 56.16 \r\nL 226.98902 25.003636 \r\nL 226.98902 154.08 \r\nL 226.98902 154.08 \r\nL 228.607976 149.629091 \r\nL 228.607976 149.629091 \r\nL 228.607976 154.08 \r\nL 228.607976 149.629091 \r\nL 230.226931 149.629091 \r\nL 230.226931 149.629091 \r\nL 230.226931 154.08 \r\nL 230.226931 154.08 \r\nL 231.845887 149.629091 \r\nL 231.845887 149.629091 \r\nL 231.845887 82.865455 \r\nL 231.845887 149.629091 \r\nL 244.797531 149.629091 \r\nL 244.797531 149.629091 \r\nL 244.797531 154.08 \r\nL 244.797531 149.629091 \r\nL 246.416486 149.629091 \r\nL 246.416486 171.883636 \r\nL 246.416486 149.629091 \r\nL 248.035442 149.629091 \r\nL 248.035442 149.629091 \r\nL 248.035442 158.530909 \r\nL 248.035442 20.552727 \r\nL 248.035442 149.629091 \r\nL 249.654397 149.629091 \r\nL 249.654397 149.629091 \r\nL 249.654397 162.981818 \r\nL 249.654397 154.08 \r\nL 251.273353 154.08 \r\nL 251.273353 154.08 \r\nL 251.273353 158.530909 \r\nL 251.273353 47.258182 \r\nL 252.892308 33.905455 \r\nL 252.892308 167.432727 \r\nL 252.892308 149.629091 \r\nL 254.511264 149.629091 \r\nL 254.511264 149.629091 \r\nL 254.511264 158.530909 \r\nL 254.511264 149.629091 \r\nL 256.130219 154.08 \r\nL 256.130219 154.08 \r\nL 256.130219 167.432727 \r\nL 256.130219 149.629091 \r\nL 256.130219 154.08 \r\nL 257.749175 154.08 \r\nL 257.749175 149.629091 \r\nL 257.749175 154.08 \r\nL 259.36813 154.08 \r\nL 259.36813 149.629091 \r\nL 259.36813 149.629091 \r\nL 260.987086 149.629091 \r\nL 260.987086 149.629091 \r\nL 260.987086 154.08 \r\nL 260.987086 154.08 \r\nL 262.606041 158.530909 \r\nL 262.606041 149.629091 \r\nL 262.606041 149.629091 \r\nL 264.224997 149.629091 \r\nL 264.224997 149.629091 \r\nL 267.462908 154.08 \r\nL 267.462908 154.08 \r\nL 267.462908 149.629091 \r\nL 267.462908 158.530909 \r\nL 267.462908 154.08 \r\nL 269.081864 154.08 \r\nL 269.081864 154.08 \r\nL 269.081864 149.629091 \r\nL 269.081864 167.432727 \r\nL 269.081864 154.08 \r\nL 270.700819 154.08 \r\nL 270.700819 158.530909 \r\nL 270.700819 149.629091 \r\nL 270.700819 149.629091 \r\nL 272.319775 176.334545 \r\nL 272.319775 149.629091 \r\nL 272.319775 149.629091 \r\nL 273.93873 149.629091 \r\nL 273.93873 158.530909 \r\nL 273.93873 149.629091 \r\nL 275.557686 29.454545 \r\nL 275.557686 162.981818 \r\nL 275.557686 149.629091 \r\nL 277.176641 154.08 \r\nL 277.176641 149.629091 \r\nL 277.176641 158.530909 \r\nL 277.176641 149.629091 \r\nL 278.795597 149.629091 \r\nL 278.795597 149.629091 \r\nL 278.795597 158.530909 \r\nL 278.795597 154.08 \r\nL 280.414552 149.629091 \r\nL 280.414552 154.08 \r\nL 280.414552 154.08 \r\nL 282.033508 158.530909 \r\nL 282.033508 149.629091 \r\nL 282.033508 154.08 \r\nL 283.652463 149.629091 \r\nL 283.652463 149.629091 \r\nL 283.652463 167.432727 \r\nL 283.652463 154.08 \r\nL 285.271419 149.629091 \r\nL 285.271419 149.629091 \r\nL 285.271419 171.883636 \r\nL 285.271419 38.356364 \r\nL 285.271419 149.629091 \r\nL 286.890374 154.08 \r\nL 286.890374 154.08 \r\nL 286.890374 149.629091 \r\nL 286.890374 167.432727 \r\nL 286.890374 149.629091 \r\nL 288.50933 33.905455 \r\nL 288.50933 16.101818 \r\nL 288.50933 154.08 \r\nL 288.50933 149.629091 \r\nL 290.128285 149.629091 \r\nL 290.128285 149.629091 \r\nL 290.128285 154.08 \r\nL 290.128285 149.629091 \r\nL 291.747241 149.629091 \r\nL 291.747241 149.629091 \r\nL 291.747241 158.530909 \r\nL 291.747241 149.629091 \r\nL 293.366196 149.629091 \r\nL 293.366196 149.629091 \r\nL 293.366196 154.08 \r\nL 293.366196 149.629091 \r\nL 294.985152 149.629091 \r\nL 294.985152 149.629091 \r\nL 294.985152 154.08 \r\nL 294.985152 149.629091 \r\nL 296.604107 149.629091 \r\nL 296.604107 154.08 \r\nL 296.604107 149.629091 \r\nL 298.223063 149.629091 \r\nL 298.223063 149.629091 \r\nL 298.223063 158.530909 \r\nL 298.223063 154.08 \r\nL 299.842018 154.08 \r\nL 299.842018 149.629091 \r\nL 299.842018 167.432727 \r\nL 299.842018 154.08 \r\nL 301.460974 154.08 \r\nL 301.460974 154.08 \r\nL 301.460974 149.629091 \r\nL 301.460974 158.530909 \r\nL 301.460974 154.08 \r\nL 303.079929 154.08 \r\nL 303.079929 47.258182 \r\nL 303.079929 149.629091 \r\nL 304.698885 149.629091 \r\nL 304.698885 149.629091 \r\nL 304.698885 154.08 \r\nL 304.698885 149.629091 \r\nL 306.31784 149.629091 \r\nL 306.31784 158.530909 \r\nL 306.31784 154.08 \r\nL 307.936796 149.629091 \r\nL 307.936796 149.629091 \r\nL 307.936796 158.530909 \r\nL 307.936796 25.003636 \r\nL 307.936796 149.629091 \r\nL 309.555751 149.629091 \r\nL 309.555751 154.08 \r\nL 309.555751 154.08 \r\nL 311.174707 149.629091 \r\nL 311.174707 149.629091 \r\nL 311.174707 154.08 \r\nL 311.174707 149.629091 \r\nL 312.793662 154.08 \r\nL 312.793662 51.709091 \r\nL 312.793662 194.138182 \r\nL 312.793662 154.08 \r\nL 314.412618 158.530909 \r\nL 314.412618 149.629091 \r\nL 314.412618 162.981818 \r\nL 314.412618 162.981818 \r\nL 317.650529 96.218182 \r\nL 317.650529 140.727273 \r\nL 319.269484 149.629091 \r\nL 319.269484 154.08 \r\nL 319.269484 154.08 \r\nL 320.88844 149.629091 \r\nL 320.88844 149.629091 \r\nL 320.88844 154.08 \r\nL 320.88844 154.08 \r\nL 322.507395 149.629091 \r\nL 322.507395 149.629091 \r\nL 322.507395 158.530909 \r\nL 322.507395 29.454545 \r\nL 322.507395 136.276364 \r\nL 324.126351 149.629091 \r\nL 324.126351 154.08 \r\nL 324.126351 149.629091 \r\nL 325.745306 149.629091 \r\nL 325.745306 149.629091 \r\nL 325.745306 154.08 \r\nL 325.745306 149.629091 \r\nL 327.364262 149.629091 \r\nL 327.364262 149.629091 \r\nL 341.934862 171.883636 \r\nL 341.934862 149.629091 \r\nL 341.934862 149.629091 \r\nL 343.553817 149.629091 \r\nL 343.553817 149.629091 \r\nL 343.553817 154.08 \r\nL 343.553817 149.629091 \r\nL 345.172773 149.629091 \r\nL 345.172773 158.530909 \r\nL 345.172773 149.629091 \r\nL 350.029639 154.08 \r\nL 350.029639 149.629091 \r\nL 350.029639 189.687273 \r\nL 350.029639 149.629091 \r\nL 351.648595 154.08 \r\nL 351.648595 38.356364 \r\nL 351.648595 167.432727 \r\nL 351.648595 149.629091 \r\nL 353.26755 154.08 \r\nL 353.26755 149.629091 \r\nL 353.26755 167.432727 \r\nL 353.26755 149.629091 \r\nL 354.886506 154.08 \r\nL 354.886506 149.629091 \r\nL 354.886506 149.629091 \r\n\" style=\"fill:none;stroke:#1f77b4;stroke-linecap:square;stroke-width:1.5;\"/>\r\n   </g>\r\n   <g id=\"line2d_18\">\r\n    <path clip-path=\"url(#p0ec167446b)\" d=\"M 50.522869 145.178182 \r\nL 50.522869 149.629091 \r\nL 50.522869 149.629091 \r\nL 52.141825 149.629091 \r\nL 52.141825 149.629091 \r\nL 52.141825 145.178182 \r\nL 52.141825 149.629091 \r\nL 55.379736 149.629091 \r\nL 55.379736 149.629091 \r\nL 55.379736 145.178182 \r\nL 55.379736 149.629091 \r\nL 56.998691 145.178182 \r\nL 56.998691 149.629091 \r\nL 56.998691 149.629091 \r\nL 60.236602 149.629091 \r\nL 60.236602 149.629091 \r\nL 60.236602 145.178182 \r\nL 60.236602 149.629091 \r\nL 63.474513 149.629091 \r\nL 63.474513 145.178182 \r\nL 63.474513 149.629091 \r\nL 66.712424 149.629091 \r\nL 66.712424 149.629091 \r\nL 66.712424 145.178182 \r\nL 68.33138 149.629091 \r\nL 68.33138 149.629091 \r\nL 68.33138 145.178182 \r\nL 68.33138 149.629091 \r\nL 69.950335 149.629091 \r\nL 69.950335 149.629091 \r\nL 69.950335 145.178182 \r\nL 69.950335 149.629091 \r\nL 71.569291 149.629091 \r\nL 71.569291 149.629091 \r\nL 73.188246 145.178182 \r\nL 73.188246 149.629091 \r\nL 73.188246 149.629091 \r\nL 74.807202 149.629091 \r\nL 74.807202 149.629091 \r\nL 95.853624 145.178182 \r\nL 95.853624 149.629091 \r\nL 95.853624 149.629091 \r\nL 121.756912 149.629091 \r\nL 121.756912 149.629091 \r\nL 123.375867 145.178182 \r\nL 123.375867 149.629091 \r\nL 123.375867 149.629091 \r\nL 124.994823 149.629091 \r\nL 124.994823 149.629091 \r\nL 126.613778 145.178182 \r\nL 126.613778 149.629091 \r\nL 126.613778 149.629091 \r\nL 196.228865 149.629091 \r\nL 196.228865 149.629091 \r\nL 196.228865 145.178182 \r\nL 196.228865 149.629091 \r\nL 199.466776 149.629091 \r\nL 199.466776 149.629091 \r\nL 199.466776 145.178182 \r\nL 199.466776 149.629091 \r\nL 214.037376 149.629091 \r\nL 214.037376 149.629091 \r\nL 218.894243 145.178182 \r\nL 220.513198 149.629091 \r\nL 220.513198 149.629091 \r\nL 220.513198 145.178182 \r\nL 220.513198 149.629091 \r\nL 225.370065 149.629091 \r\nL 225.370065 149.629091 \r\nL 226.98902 145.178182 \r\nL 226.98902 149.629091 \r\nL 226.98902 149.629091 \r\nL 231.845887 149.629091 \r\nL 231.845887 145.178182 \r\nL 231.845887 145.178182 \r\nL 244.797531 149.629091 \r\nL 244.797531 149.629091 \r\nL 248.035442 149.629091 \r\nL 248.035442 149.629091 \r\nL 248.035442 145.178182 \r\nL 248.035442 145.178182 \r\nL 249.654397 149.629091 \r\nL 249.654397 149.629091 \r\nL 251.273353 149.629091 \r\nL 251.273353 149.629091 \r\nL 251.273353 145.178182 \r\nL 251.273353 149.629091 \r\nL 252.892308 145.178182 \r\nL 252.892308 149.629091 \r\nL 252.892308 149.629091 \r\nL 262.606041 149.629091 \r\nL 262.606041 149.629091 \r\nL 262.606041 145.178182 \r\nL 262.606041 145.178182 \r\nL 264.224997 149.629091 \r\nL 275.557686 149.629091 \r\nL 275.557686 149.629091 \r\nL 275.557686 145.178182 \r\nL 275.557686 149.629091 \r\nL 285.271419 149.629091 \r\nL 285.271419 149.629091 \r\nL 285.271419 145.178182 \r\nL 285.271419 149.629091 \r\nL 286.890374 149.629091 \r\nL 286.890374 149.629091 \r\nL 288.50933 145.178182 \r\nL 288.50933 149.629091 \r\nL 288.50933 149.629091 \r\nL 303.079929 149.629091 \r\nL 303.079929 145.178182 \r\nL 303.079929 149.629091 \r\nL 307.936796 149.629091 \r\nL 307.936796 149.629091 \r\nL 307.936796 145.178182 \r\nL 307.936796 149.629091 \r\nL 312.793662 149.629091 \r\nL 312.793662 149.629091 \r\nL 312.793662 145.178182 \r\nL 312.793662 149.629091 \r\nL 322.507395 149.629091 \r\nL 322.507395 149.629091 \r\nL 322.507395 145.178182 \r\nL 322.507395 145.178182 \r\nL 324.126351 149.629091 \r\nL 324.126351 149.629091 \r\nL 351.648595 149.629091 \r\nL 351.648595 149.629091 \r\nL 351.648595 145.178182 \r\nL 351.648595 149.629091 \r\nL 354.886506 149.629091 \r\nL 354.886506 149.629091 \r\n\" style=\"fill:none;stroke:#ff7f0e;stroke-linecap:square;stroke-width:1.5;\"/>\r\n   </g>\r\n   <g id=\"patch_3\">\r\n    <path d=\"M 35.304688 203.04 \r\nL 35.304688 7.2 \r\n\" style=\"fill:none;stroke:#000000;stroke-linecap:square;stroke-linejoin:miter;stroke-width:0.8;\"/>\r\n   </g>\r\n   <g id=\"patch_4\">\r\n    <path d=\"M 370.104688 203.04 \r\nL 370.104688 7.2 \r\n\" style=\"fill:none;stroke:#000000;stroke-linecap:square;stroke-linejoin:miter;stroke-width:0.8;\"/>\r\n   </g>\r\n   <g id=\"patch_5\">\r\n    <path d=\"M 35.304688 203.04 \r\nL 370.104688 203.04 \r\n\" style=\"fill:none;stroke:#000000;stroke-linecap:square;stroke-linejoin:miter;stroke-width:0.8;\"/>\r\n   </g>\r\n   <g id=\"patch_6\">\r\n    <path d=\"M 35.304688 7.2 \r\nL 370.104688 7.2 \r\n\" style=\"fill:none;stroke:#000000;stroke-linecap:square;stroke-linejoin:miter;stroke-width:0.8;\"/>\r\n   </g>\r\n   <g id=\"legend_1\">\r\n    <g id=\"patch_7\">\r\n     <path d=\"M 145.623437 121.57625 \r\nL 259.785938 121.57625 \r\nQ 261.785938 121.57625 261.785938 119.57625 \r\nL 261.785938 90.66375 \r\nQ 261.785938 88.66375 259.785938 88.66375 \r\nL 145.623437 88.66375 \r\nQ 143.623437 88.66375 143.623437 90.66375 \r\nL 143.623437 119.57625 \r\nQ 143.623437 121.57625 145.623437 121.57625 \r\nz\r\n\" style=\"fill:#ffffff;opacity:0.8;stroke:#cccccc;stroke-linejoin:miter;\"/>\r\n    </g>\r\n    <g id=\"line2d_19\">\r\n     <path d=\"M 147.623437 96.762187 \r\nL 167.623437 96.762187 \r\n\" style=\"fill:none;stroke:#1f77b4;stroke-linecap:square;stroke-width:1.5;\"/>\r\n    </g>\r\n    <g id=\"line2d_20\"/>\r\n    <g id=\"text_18\">\r\n     <!-- battery_level -->\r\n     <g transform=\"translate(175.623437 100.262187)scale(0.1 -0.1)\">\r\n      <defs>\r\n       <path d=\"M 48.6875 27.296875 \r\nQ 48.6875 37.203125 44.609375 42.84375 \r\nQ 40.53125 48.484375 33.40625 48.484375 \r\nQ 26.265625 48.484375 22.1875 42.84375 \r\nQ 18.109375 37.203125 18.109375 27.296875 \r\nQ 18.109375 17.390625 22.1875 11.75 \r\nQ 26.265625 6.109375 33.40625 6.109375 \r\nQ 40.53125 6.109375 44.609375 11.75 \r\nQ 48.6875 17.390625 48.6875 27.296875 \r\nz\r\nM 18.109375 46.390625 \r\nQ 20.953125 51.265625 25.265625 53.625 \r\nQ 29.59375 56 35.59375 56 \r\nQ 45.5625 56 51.78125 48.09375 \r\nQ 58.015625 40.1875 58.015625 27.296875 \r\nQ 58.015625 14.40625 51.78125 6.484375 \r\nQ 45.5625 -1.421875 35.59375 -1.421875 \r\nQ 29.59375 -1.421875 25.265625 0.953125 \r\nQ 20.953125 3.328125 18.109375 8.203125 \r\nL 18.109375 0 \r\nL 9.078125 0 \r\nL 9.078125 75.984375 \r\nL 18.109375 75.984375 \r\nz\r\n\" id=\"DejaVuSans-98\"/>\r\n       <path d=\"M 34.28125 27.484375 \r\nQ 23.390625 27.484375 19.1875 25 \r\nQ 14.984375 22.515625 14.984375 16.5 \r\nQ 14.984375 11.71875 18.140625 8.90625 \r\nQ 21.296875 6.109375 26.703125 6.109375 \r\nQ 34.1875 6.109375 38.703125 11.40625 \r\nQ 43.21875 16.703125 43.21875 25.484375 \r\nL 43.21875 27.484375 \r\nz\r\nM 52.203125 31.203125 \r\nL 52.203125 0 \r\nL 43.21875 0 \r\nL 43.21875 8.296875 \r\nQ 40.140625 3.328125 35.546875 0.953125 \r\nQ 30.953125 -1.421875 24.3125 -1.421875 \r\nQ 15.921875 -1.421875 10.953125 3.296875 \r\nQ 6 8.015625 6 15.921875 \r\nQ 6 25.140625 12.171875 29.828125 \r\nQ 18.359375 34.515625 30.609375 34.515625 \r\nL 43.21875 34.515625 \r\nL 43.21875 35.40625 \r\nQ 43.21875 41.609375 39.140625 45 \r\nQ 35.0625 48.390625 27.6875 48.390625 \r\nQ 23 48.390625 18.546875 47.265625 \r\nQ 14.109375 46.140625 10.015625 43.890625 \r\nL 10.015625 52.203125 \r\nQ 14.9375 54.109375 19.578125 55.046875 \r\nQ 24.21875 56 28.609375 56 \r\nQ 40.484375 56 46.34375 49.84375 \r\nQ 52.203125 43.703125 52.203125 31.203125 \r\nz\r\n\" id=\"DejaVuSans-97\"/>\r\n       <path d=\"M 41.109375 46.296875 \r\nQ 39.59375 47.171875 37.8125 47.578125 \r\nQ 36.03125 48 33.890625 48 \r\nQ 26.265625 48 22.1875 43.046875 \r\nQ 18.109375 38.09375 18.109375 28.8125 \r\nL 18.109375 0 \r\nL 9.078125 0 \r\nL 9.078125 54.6875 \r\nL 18.109375 54.6875 \r\nL 18.109375 46.1875 \r\nQ 20.953125 51.171875 25.484375 53.578125 \r\nQ 30.03125 56 36.53125 56 \r\nQ 37.453125 56 38.578125 55.875 \r\nQ 39.703125 55.765625 41.0625 55.515625 \r\nz\r\n\" id=\"DejaVuSans-114\"/>\r\n       <path d=\"M 32.171875 -5.078125 \r\nQ 28.375 -14.84375 24.75 -17.8125 \r\nQ 21.140625 -20.796875 15.09375 -20.796875 \r\nL 7.90625 -20.796875 \r\nL 7.90625 -13.28125 \r\nL 13.1875 -13.28125 \r\nQ 16.890625 -13.28125 18.9375 -11.515625 \r\nQ 21 -9.765625 23.484375 -3.21875 \r\nL 25.09375 0.875 \r\nL 2.984375 54.6875 \r\nL 12.5 54.6875 \r\nL 29.59375 11.921875 \r\nL 46.6875 54.6875 \r\nL 56.203125 54.6875 \r\nz\r\n\" id=\"DejaVuSans-121\"/>\r\n       <path d=\"M 50.984375 -16.609375 \r\nL 50.984375 -23.578125 \r\nL -0.984375 -23.578125 \r\nL -0.984375 -16.609375 \r\nz\r\n\" id=\"DejaVuSans-95\"/>\r\n       <path d=\"M 9.421875 75.984375 \r\nL 18.40625 75.984375 \r\nL 18.40625 0 \r\nL 9.421875 0 \r\nz\r\n\" id=\"DejaVuSans-108\"/>\r\n       <path d=\"M 2.984375 54.6875 \r\nL 12.5 54.6875 \r\nL 29.59375 8.796875 \r\nL 46.6875 54.6875 \r\nL 56.203125 54.6875 \r\nL 35.6875 0 \r\nL 23.484375 0 \r\nz\r\n\" id=\"DejaVuSans-118\"/>\r\n      </defs>\r\n      <use xlink:href=\"#DejaVuSans-98\"/>\r\n      <use x=\"63.476562\" xlink:href=\"#DejaVuSans-97\"/>\r\n      <use x=\"124.755859\" xlink:href=\"#DejaVuSans-116\"/>\r\n      <use x=\"163.964844\" xlink:href=\"#DejaVuSans-116\"/>\r\n      <use x=\"203.173828\" xlink:href=\"#DejaVuSans-101\"/>\r\n      <use x=\"264.697266\" xlink:href=\"#DejaVuSans-114\"/>\r\n      <use x=\"305.810547\" xlink:href=\"#DejaVuSans-121\"/>\r\n      <use x=\"364.990234\" xlink:href=\"#DejaVuSans-95\"/>\r\n      <use x=\"414.990234\" xlink:href=\"#DejaVuSans-108\"/>\r\n      <use x=\"442.773438\" xlink:href=\"#DejaVuSans-101\"/>\r\n      <use x=\"504.296875\" xlink:href=\"#DejaVuSans-118\"/>\r\n      <use x=\"563.476562\" xlink:href=\"#DejaVuSans-101\"/>\r\n      <use x=\"625\" xlink:href=\"#DejaVuSans-108\"/>\r\n     </g>\r\n    </g>\r\n    <g id=\"line2d_21\">\r\n     <path d=\"M 147.623437 111.718437 \r\nL 167.623437 111.718437 \r\n\" style=\"fill:none;stroke:#ff7f0e;stroke-linecap:square;stroke-width:1.5;\"/>\r\n    </g>\r\n    <g id=\"line2d_22\"/>\r\n    <g id=\"text_19\">\r\n     <!-- battery_plugged -->\r\n     <g transform=\"translate(175.623437 115.218437)scale(0.1 -0.1)\">\r\n      <defs>\r\n       <path d=\"M 18.109375 8.203125 \r\nL 18.109375 -20.796875 \r\nL 9.078125 -20.796875 \r\nL 9.078125 54.6875 \r\nL 18.109375 54.6875 \r\nL 18.109375 46.390625 \r\nQ 20.953125 51.265625 25.265625 53.625 \r\nQ 29.59375 56 35.59375 56 \r\nQ 45.5625 56 51.78125 48.09375 \r\nQ 58.015625 40.1875 58.015625 27.296875 \r\nQ 58.015625 14.40625 51.78125 6.484375 \r\nQ 45.5625 -1.421875 35.59375 -1.421875 \r\nQ 29.59375 -1.421875 25.265625 0.953125 \r\nQ 20.953125 3.328125 18.109375 8.203125 \r\nz\r\nM 48.6875 27.296875 \r\nQ 48.6875 37.203125 44.609375 42.84375 \r\nQ 40.53125 48.484375 33.40625 48.484375 \r\nQ 26.265625 48.484375 22.1875 42.84375 \r\nQ 18.109375 37.203125 18.109375 27.296875 \r\nQ 18.109375 17.390625 22.1875 11.75 \r\nQ 26.265625 6.109375 33.40625 6.109375 \r\nQ 40.53125 6.109375 44.609375 11.75 \r\nQ 48.6875 17.390625 48.6875 27.296875 \r\nz\r\n\" id=\"DejaVuSans-112\"/>\r\n       <path d=\"M 8.5 21.578125 \r\nL 8.5 54.6875 \r\nL 17.484375 54.6875 \r\nL 17.484375 21.921875 \r\nQ 17.484375 14.15625 20.5 10.265625 \r\nQ 23.53125 6.390625 29.59375 6.390625 \r\nQ 36.859375 6.390625 41.078125 11.03125 \r\nQ 45.3125 15.671875 45.3125 23.6875 \r\nL 45.3125 54.6875 \r\nL 54.296875 54.6875 \r\nL 54.296875 0 \r\nL 45.3125 0 \r\nL 45.3125 8.40625 \r\nQ 42.046875 3.421875 37.71875 1 \r\nQ 33.40625 -1.421875 27.6875 -1.421875 \r\nQ 18.265625 -1.421875 13.375 4.4375 \r\nQ 8.5 10.296875 8.5 21.578125 \r\nz\r\nM 31.109375 56 \r\nz\r\n\" id=\"DejaVuSans-117\"/>\r\n       <path d=\"M 45.40625 27.984375 \r\nQ 45.40625 37.75 41.375 43.109375 \r\nQ 37.359375 48.484375 30.078125 48.484375 \r\nQ 22.859375 48.484375 18.828125 43.109375 \r\nQ 14.796875 37.75 14.796875 27.984375 \r\nQ 14.796875 18.265625 18.828125 12.890625 \r\nQ 22.859375 7.515625 30.078125 7.515625 \r\nQ 37.359375 7.515625 41.375 12.890625 \r\nQ 45.40625 18.265625 45.40625 27.984375 \r\nz\r\nM 54.390625 6.78125 \r\nQ 54.390625 -7.171875 48.1875 -13.984375 \r\nQ 42 -20.796875 29.203125 -20.796875 \r\nQ 24.46875 -20.796875 20.265625 -20.09375 \r\nQ 16.0625 -19.390625 12.109375 -17.921875 \r\nL 12.109375 -9.1875 \r\nQ 16.0625 -11.328125 19.921875 -12.34375 \r\nQ 23.78125 -13.375 27.78125 -13.375 \r\nQ 36.625 -13.375 41.015625 -8.765625 \r\nQ 45.40625 -4.15625 45.40625 5.171875 \r\nL 45.40625 9.625 \r\nQ 42.625 4.78125 38.28125 2.390625 \r\nQ 33.9375 0 27.875 0 \r\nQ 17.828125 0 11.671875 7.65625 \r\nQ 5.515625 15.328125 5.515625 27.984375 \r\nQ 5.515625 40.671875 11.671875 48.328125 \r\nQ 17.828125 56 27.875 56 \r\nQ 33.9375 56 38.28125 53.609375 \r\nQ 42.625 51.21875 45.40625 46.390625 \r\nL 45.40625 54.6875 \r\nL 54.390625 54.6875 \r\nz\r\n\" id=\"DejaVuSans-103\"/>\r\n       <path d=\"M 45.40625 46.390625 \r\nL 45.40625 75.984375 \r\nL 54.390625 75.984375 \r\nL 54.390625 0 \r\nL 45.40625 0 \r\nL 45.40625 8.203125 \r\nQ 42.578125 3.328125 38.25 0.953125 \r\nQ 33.9375 -1.421875 27.875 -1.421875 \r\nQ 17.96875 -1.421875 11.734375 6.484375 \r\nQ 5.515625 14.40625 5.515625 27.296875 \r\nQ 5.515625 40.1875 11.734375 48.09375 \r\nQ 17.96875 56 27.875 56 \r\nQ 33.9375 56 38.25 53.625 \r\nQ 42.578125 51.265625 45.40625 46.390625 \r\nz\r\nM 14.796875 27.296875 \r\nQ 14.796875 17.390625 18.875 11.75 \r\nQ 22.953125 6.109375 30.078125 6.109375 \r\nQ 37.203125 6.109375 41.296875 11.75 \r\nQ 45.40625 17.390625 45.40625 27.296875 \r\nQ 45.40625 37.203125 41.296875 42.84375 \r\nQ 37.203125 48.484375 30.078125 48.484375 \r\nQ 22.953125 48.484375 18.875 42.84375 \r\nQ 14.796875 37.203125 14.796875 27.296875 \r\nz\r\n\" id=\"DejaVuSans-100\"/>\r\n      </defs>\r\n      <use xlink:href=\"#DejaVuSans-98\"/>\r\n      <use x=\"63.476562\" xlink:href=\"#DejaVuSans-97\"/>\r\n      <use x=\"124.755859\" xlink:href=\"#DejaVuSans-116\"/>\r\n      <use x=\"163.964844\" xlink:href=\"#DejaVuSans-116\"/>\r\n      <use x=\"203.173828\" xlink:href=\"#DejaVuSans-101\"/>\r\n      <use x=\"264.697266\" xlink:href=\"#DejaVuSans-114\"/>\r\n      <use x=\"305.810547\" xlink:href=\"#DejaVuSans-121\"/>\r\n      <use x=\"364.990234\" xlink:href=\"#DejaVuSans-95\"/>\r\n      <use x=\"414.990234\" xlink:href=\"#DejaVuSans-112\"/>\r\n      <use x=\"478.466797\" xlink:href=\"#DejaVuSans-108\"/>\r\n      <use x=\"506.25\" xlink:href=\"#DejaVuSans-117\"/>\r\n      <use x=\"569.628906\" xlink:href=\"#DejaVuSans-103\"/>\r\n      <use x=\"633.105469\" xlink:href=\"#DejaVuSans-103\"/>\r\n      <use x=\"696.582031\" xlink:href=\"#DejaVuSans-101\"/>\r\n      <use x=\"758.105469\" xlink:href=\"#DejaVuSans-100\"/>\r\n     </g>\r\n    </g>\r\n   </g>\r\n  </g>\r\n </g>\r\n <defs>\r\n  <clipPath id=\"p0ec167446b\">\r\n   <rect height=\"195.84\" width=\"334.8\" x=\"35.304688\" y=\"7.2\"/>\r\n  </clipPath>\r\n </defs>\r\n</svg>\r\n",
      "image/png": "[encoded data removed]"
     },
     "metadata": {
      "needs_background": "light"
     }
    }
   ],
   "source": [
    "\n",
    "batterie.set_index(['time'],inplace=True)\n",
    "batterie.plot()"
   ]
  },
  {
   "cell_type": "code",
   "execution_count": 81,
   "metadata": {},
   "outputs": [
    {
     "output_type": "execute_result",
     "data": {
      "text/plain": [
       "<AxesSubplot:>"
      ]
     },
     "metadata": {},
     "execution_count": 81
    },
    {
     "output_type": "display_data",
     "data": {
      "text/plain": "<Figure size 432x288 with 1 Axes>",
      "image/svg+xml": "<?xml version=\"1.0\" encoding=\"utf-8\" standalone=\"no\"?>\r\n<!DOCTYPE svg PUBLIC \"-//W3C//DTD SVG 1.1//EN\"\r\n  \"http://www.w3.org/Graphics/SVG/1.1/DTD/svg11.dtd\">\r\n<!-- Created with matplotlib (https://matplotlib.org/) -->\r\n<svg height=\"248.518125pt\" version=\"1.1\" viewBox=\"0 0 378.757874 248.518125\" width=\"378.757874pt\" xmlns=\"http://www.w3.org/2000/svg\" xmlns:xlink=\"http://www.w3.org/1999/xlink\">\r\n <metadata>\r\n  <rdf:RDF xmlns:cc=\"http://creativecommons.org/ns#\" xmlns:dc=\"http://purl.org/dc/elements/1.1/\" xmlns:rdf=\"http://www.w3.org/1999/02/22-rdf-syntax-ns#\">\r\n   <cc:Work>\r\n    <dc:type rdf:resource=\"http://purl.org/dc/dcmitype/StillImage\"/>\r\n    <dc:date>2020-12-06T19:10:30.290620</dc:date>\r\n    <dc:format>image/svg+xml</dc:format>\r\n    <dc:creator>\r\n     <cc:Agent>\r\n      <dc:title>Matplotlib v3.3.2, https://matplotlib.org/</dc:title>\r\n     </cc:Agent>\r\n    </dc:creator>\r\n   </cc:Work>\r\n  </rdf:RDF>\r\n </metadata>\r\n <defs>\r\n  <style type=\"text/css\">*{stroke-linecap:butt;stroke-linejoin:round;}</style>\r\n </defs>\r\n <g id=\"figure_1\">\r\n  <g id=\"patch_1\">\r\n   <path d=\"M 0 248.518125 \r\nL 378.757874 248.518125 \r\nL 378.757874 0 \r\nL 0 0 \r\nz\r\n\" style=\"fill:none;\"/>\r\n  </g>\r\n  <g id=\"axes_1\">\r\n   <g id=\"patch_2\">\r\n    <path d=\"M 35.304688 224.64 \r\nL 370.104688 224.64 \r\nL 370.104688 7.2 \r\nL 35.304688 7.2 \r\nz\r\n\" style=\"fill:#ffffff;\"/>\r\n   </g>\r\n   <g id=\"matplotlib.axis_1\">\r\n    <g id=\"xtick_1\">\r\n     <g id=\"line2d_1\">\r\n      <defs>\r\n       <path d=\"M 0 0 \r\nL 0 3.5 \r\n\" id=\"maeb1844a70\" style=\"stroke:#000000;stroke-width:0.8;\"/>\r\n      </defs>\r\n      <g>\r\n       <use style=\"stroke:#000000;stroke-width:0.8;\" x=\"50.522869\" xlink:href=\"#maeb1844a70\" y=\"224.64\"/>\r\n      </g>\r\n     </g>\r\n     <g id=\"text_1\">\r\n      <!-- 0 -->\r\n      <g transform=\"translate(47.341619 239.238437)scale(0.1 -0.1)\">\r\n       <defs>\r\n        <path d=\"M 31.78125 66.40625 \r\nQ 24.171875 66.40625 20.328125 58.90625 \r\nQ 16.5 51.421875 16.5 36.375 \r\nQ 16.5 21.390625 20.328125 13.890625 \r\nQ 24.171875 6.390625 31.78125 6.390625 \r\nQ 39.453125 6.390625 43.28125 13.890625 \r\nQ 47.125 21.390625 47.125 36.375 \r\nQ 47.125 51.421875 43.28125 58.90625 \r\nQ 39.453125 66.40625 31.78125 66.40625 \r\nz\r\nM 31.78125 74.21875 \r\nQ 44.046875 74.21875 50.515625 64.515625 \r\nQ 56.984375 54.828125 56.984375 36.375 \r\nQ 56.984375 17.96875 50.515625 8.265625 \r\nQ 44.046875 -1.421875 31.78125 -1.421875 \r\nQ 19.53125 -1.421875 13.0625 8.265625 \r\nQ 6.59375 17.96875 6.59375 36.375 \r\nQ 6.59375 54.828125 13.0625 64.515625 \r\nQ 19.53125 74.21875 31.78125 74.21875 \r\nz\r\n\" id=\"DejaVuSans-48\"/>\r\n       </defs>\r\n       <use xlink:href=\"#DejaVuSans-48\"/>\r\n      </g>\r\n     </g>\r\n    </g>\r\n    <g id=\"xtick_2\">\r\n     <g id=\"line2d_2\">\r\n      <g>\r\n       <use style=\"stroke:#000000;stroke-width:0.8;\" x=\"112.18487\" xlink:href=\"#maeb1844a70\" y=\"224.64\"/>\r\n      </g>\r\n     </g>\r\n     <g id=\"text_2\">\r\n      <!-- 500 -->\r\n      <g transform=\"translate(102.64112 239.238437)scale(0.1 -0.1)\">\r\n       <defs>\r\n        <path d=\"M 10.796875 72.90625 \r\nL 49.515625 72.90625 \r\nL 49.515625 64.59375 \r\nL 19.828125 64.59375 \r\nL 19.828125 46.734375 \r\nQ 21.96875 47.46875 24.109375 47.828125 \r\nQ 26.265625 48.1875 28.421875 48.1875 \r\nQ 40.625 48.1875 47.75 41.5 \r\nQ 54.890625 34.8125 54.890625 23.390625 \r\nQ 54.890625 11.625 47.5625 5.09375 \r\nQ 40.234375 -1.421875 26.90625 -1.421875 \r\nQ 22.3125 -1.421875 17.546875 -0.640625 \r\nQ 12.796875 0.140625 7.71875 1.703125 \r\nL 7.71875 11.625 \r\nQ 12.109375 9.234375 16.796875 8.0625 \r\nQ 21.484375 6.890625 26.703125 6.890625 \r\nQ 35.15625 6.890625 40.078125 11.328125 \r\nQ 45.015625 15.765625 45.015625 23.390625 \r\nQ 45.015625 31 40.078125 35.4375 \r\nQ 35.15625 39.890625 26.703125 39.890625 \r\nQ 22.75 39.890625 18.8125 39.015625 \r\nQ 14.890625 38.140625 10.796875 36.28125 \r\nz\r\n\" id=\"DejaVuSans-53\"/>\r\n       </defs>\r\n       <use xlink:href=\"#DejaVuSans-53\"/>\r\n       <use x=\"63.623047\" xlink:href=\"#DejaVuSans-48\"/>\r\n       <use x=\"127.246094\" xlink:href=\"#DejaVuSans-48\"/>\r\n      </g>\r\n     </g>\r\n    </g>\r\n    <g id=\"xtick_3\">\r\n     <g id=\"line2d_3\">\r\n      <g>\r\n       <use style=\"stroke:#000000;stroke-width:0.8;\" x=\"173.846871\" xlink:href=\"#maeb1844a70\" y=\"224.64\"/>\r\n      </g>\r\n     </g>\r\n     <g id=\"text_3\">\r\n      <!-- 1000 -->\r\n      <g transform=\"translate(161.121871 239.238437)scale(0.1 -0.1)\">\r\n       <defs>\r\n        <path d=\"M 12.40625 8.296875 \r\nL 28.515625 8.296875 \r\nL 28.515625 63.921875 \r\nL 10.984375 60.40625 \r\nL 10.984375 69.390625 \r\nL 28.421875 72.90625 \r\nL 38.28125 72.90625 \r\nL 38.28125 8.296875 \r\nL 54.390625 8.296875 \r\nL 54.390625 0 \r\nL 12.40625 0 \r\nz\r\n\" id=\"DejaVuSans-49\"/>\r\n       </defs>\r\n       <use xlink:href=\"#DejaVuSans-49\"/>\r\n       <use x=\"63.623047\" xlink:href=\"#DejaVuSans-48\"/>\r\n       <use x=\"127.246094\" xlink:href=\"#DejaVuSans-48\"/>\r\n       <use x=\"190.869141\" xlink:href=\"#DejaVuSans-48\"/>\r\n      </g>\r\n     </g>\r\n    </g>\r\n    <g id=\"xtick_4\">\r\n     <g id=\"line2d_4\">\r\n      <g>\r\n       <use style=\"stroke:#000000;stroke-width:0.8;\" x=\"235.508872\" xlink:href=\"#maeb1844a70\" y=\"224.64\"/>\r\n      </g>\r\n     </g>\r\n     <g id=\"text_4\">\r\n      <!-- 1500 -->\r\n      <g transform=\"translate(222.783872 239.238437)scale(0.1 -0.1)\">\r\n       <use xlink:href=\"#DejaVuSans-49\"/>\r\n       <use x=\"63.623047\" xlink:href=\"#DejaVuSans-53\"/>\r\n       <use x=\"127.246094\" xlink:href=\"#DejaVuSans-48\"/>\r\n       <use x=\"190.869141\" xlink:href=\"#DejaVuSans-48\"/>\r\n      </g>\r\n     </g>\r\n    </g>\r\n    <g id=\"xtick_5\">\r\n     <g id=\"line2d_5\">\r\n      <g>\r\n       <use style=\"stroke:#000000;stroke-width:0.8;\" x=\"297.170873\" xlink:href=\"#maeb1844a70\" y=\"224.64\"/>\r\n      </g>\r\n     </g>\r\n     <g id=\"text_5\">\r\n      <!-- 2000 -->\r\n      <g transform=\"translate(284.445873 239.238437)scale(0.1 -0.1)\">\r\n       <defs>\r\n        <path d=\"M 19.1875 8.296875 \r\nL 53.609375 8.296875 \r\nL 53.609375 0 \r\nL 7.328125 0 \r\nL 7.328125 8.296875 \r\nQ 12.9375 14.109375 22.625 23.890625 \r\nQ 32.328125 33.6875 34.8125 36.53125 \r\nQ 39.546875 41.84375 41.421875 45.53125 \r\nQ 43.3125 49.21875 43.3125 52.78125 \r\nQ 43.3125 58.59375 39.234375 62.25 \r\nQ 35.15625 65.921875 28.609375 65.921875 \r\nQ 23.96875 65.921875 18.8125 64.3125 \r\nQ 13.671875 62.703125 7.8125 59.421875 \r\nL 7.8125 69.390625 \r\nQ 13.765625 71.78125 18.9375 73 \r\nQ 24.125 74.21875 28.421875 74.21875 \r\nQ 39.75 74.21875 46.484375 68.546875 \r\nQ 53.21875 62.890625 53.21875 53.421875 \r\nQ 53.21875 48.921875 51.53125 44.890625 \r\nQ 49.859375 40.875 45.40625 35.40625 \r\nQ 44.1875 33.984375 37.640625 27.21875 \r\nQ 31.109375 20.453125 19.1875 8.296875 \r\nz\r\n\" id=\"DejaVuSans-50\"/>\r\n       </defs>\r\n       <use xlink:href=\"#DejaVuSans-50\"/>\r\n       <use x=\"63.623047\" xlink:href=\"#DejaVuSans-48\"/>\r\n       <use x=\"127.246094\" xlink:href=\"#DejaVuSans-48\"/>\r\n       <use x=\"190.869141\" xlink:href=\"#DejaVuSans-48\"/>\r\n      </g>\r\n     </g>\r\n    </g>\r\n    <g id=\"xtick_6\">\r\n     <g id=\"line2d_6\">\r\n      <g>\r\n       <use style=\"stroke:#000000;stroke-width:0.8;\" x=\"358.832874\" xlink:href=\"#maeb1844a70\" y=\"224.64\"/>\r\n      </g>\r\n     </g>\r\n     <g id=\"text_6\">\r\n      <!-- 2500 -->\r\n      <g transform=\"translate(346.107874 239.238437)scale(0.1 -0.1)\">\r\n       <use xlink:href=\"#DejaVuSans-50\"/>\r\n       <use x=\"63.623047\" xlink:href=\"#DejaVuSans-53\"/>\r\n       <use x=\"127.246094\" xlink:href=\"#DejaVuSans-48\"/>\r\n       <use x=\"190.869141\" xlink:href=\"#DejaVuSans-48\"/>\r\n      </g>\r\n     </g>\r\n    </g>\r\n   </g>\r\n   <g id=\"matplotlib.axis_2\">\r\n    <g id=\"ytick_1\">\r\n     <g id=\"line2d_7\">\r\n      <defs>\r\n       <path d=\"M 0 0 \r\nL -3.5 0 \r\n\" id=\"m38fedc43ef\" style=\"stroke:#000000;stroke-width:0.8;\"/>\r\n      </defs>\r\n      <g>\r\n       <use style=\"stroke:#000000;stroke-width:0.8;\" x=\"35.304688\" xlink:href=\"#m38fedc43ef\" y=\"214.756364\"/>\r\n      </g>\r\n     </g>\r\n     <g id=\"text_7\">\r\n      <!-- −10 -->\r\n      <g transform=\"translate(7.2 218.555582)scale(0.1 -0.1)\">\r\n       <defs>\r\n        <path d=\"M 10.59375 35.5 \r\nL 73.1875 35.5 \r\nL 73.1875 27.203125 \r\nL 10.59375 27.203125 \r\nz\r\n\" id=\"DejaVuSans-8722\"/>\r\n       </defs>\r\n       <use xlink:href=\"#DejaVuSans-8722\"/>\r\n       <use x=\"83.789062\" xlink:href=\"#DejaVuSans-49\"/>\r\n       <use x=\"147.412109\" xlink:href=\"#DejaVuSans-48\"/>\r\n      </g>\r\n     </g>\r\n    </g>\r\n    <g id=\"ytick_2\">\r\n     <g id=\"line2d_8\">\r\n      <g>\r\n       <use style=\"stroke:#000000;stroke-width:0.8;\" x=\"35.304688\" xlink:href=\"#m38fedc43ef\" y=\"190.047273\"/>\r\n      </g>\r\n     </g>\r\n     <g id=\"text_8\">\r\n      <!-- −5 -->\r\n      <g transform=\"translate(13.5625 193.846491)scale(0.1 -0.1)\">\r\n       <use xlink:href=\"#DejaVuSans-8722\"/>\r\n       <use x=\"83.789062\" xlink:href=\"#DejaVuSans-53\"/>\r\n      </g>\r\n     </g>\r\n    </g>\r\n    <g id=\"ytick_3\">\r\n     <g id=\"line2d_9\">\r\n      <g>\r\n       <use style=\"stroke:#000000;stroke-width:0.8;\" x=\"35.304688\" xlink:href=\"#m38fedc43ef\" y=\"165.338182\"/>\r\n      </g>\r\n     </g>\r\n     <g id=\"text_9\">\r\n      <!-- 0 -->\r\n      <g transform=\"translate(21.942188 169.137401)scale(0.1 -0.1)\">\r\n       <use xlink:href=\"#DejaVuSans-48\"/>\r\n      </g>\r\n     </g>\r\n    </g>\r\n    <g id=\"ytick_4\">\r\n     <g id=\"line2d_10\">\r\n      <g>\r\n       <use style=\"stroke:#000000;stroke-width:0.8;\" x=\"35.304688\" xlink:href=\"#m38fedc43ef\" y=\"140.629091\"/>\r\n      </g>\r\n     </g>\r\n     <g id=\"text_10\">\r\n      <!-- 5 -->\r\n      <g transform=\"translate(21.942188 144.42831)scale(0.1 -0.1)\">\r\n       <use xlink:href=\"#DejaVuSans-53\"/>\r\n      </g>\r\n     </g>\r\n    </g>\r\n    <g id=\"ytick_5\">\r\n     <g id=\"line2d_11\">\r\n      <g>\r\n       <use style=\"stroke:#000000;stroke-width:0.8;\" x=\"35.304688\" xlink:href=\"#m38fedc43ef\" y=\"115.92\"/>\r\n      </g>\r\n     </g>\r\n     <g id=\"text_11\">\r\n      <!-- 10 -->\r\n      <g transform=\"translate(15.579688 119.719219)scale(0.1 -0.1)\">\r\n       <use xlink:href=\"#DejaVuSans-49\"/>\r\n       <use x=\"63.623047\" xlink:href=\"#DejaVuSans-48\"/>\r\n      </g>\r\n     </g>\r\n    </g>\r\n    <g id=\"ytick_6\">\r\n     <g id=\"line2d_12\">\r\n      <g>\r\n       <use style=\"stroke:#000000;stroke-width:0.8;\" x=\"35.304688\" xlink:href=\"#m38fedc43ef\" y=\"91.210909\"/>\r\n      </g>\r\n     </g>\r\n     <g id=\"text_12\">\r\n      <!-- 15 -->\r\n      <g transform=\"translate(15.579688 95.010128)scale(0.1 -0.1)\">\r\n       <use xlink:href=\"#DejaVuSans-49\"/>\r\n       <use x=\"63.623047\" xlink:href=\"#DejaVuSans-53\"/>\r\n      </g>\r\n     </g>\r\n    </g>\r\n    <g id=\"ytick_7\">\r\n     <g id=\"line2d_13\">\r\n      <g>\r\n       <use style=\"stroke:#000000;stroke-width:0.8;\" x=\"35.304688\" xlink:href=\"#m38fedc43ef\" y=\"66.501818\"/>\r\n      </g>\r\n     </g>\r\n     <g id=\"text_13\">\r\n      <!-- 20 -->\r\n      <g transform=\"translate(15.579688 70.301037)scale(0.1 -0.1)\">\r\n       <use xlink:href=\"#DejaVuSans-50\"/>\r\n       <use x=\"63.623047\" xlink:href=\"#DejaVuSans-48\"/>\r\n      </g>\r\n     </g>\r\n    </g>\r\n    <g id=\"ytick_8\">\r\n     <g id=\"line2d_14\">\r\n      <g>\r\n       <use style=\"stroke:#000000;stroke-width:0.8;\" x=\"35.304688\" xlink:href=\"#m38fedc43ef\" y=\"41.792727\"/>\r\n      </g>\r\n     </g>\r\n     <g id=\"text_14\">\r\n      <!-- 25 -->\r\n      <g transform=\"translate(15.579688 45.591946)scale(0.1 -0.1)\">\r\n       <use xlink:href=\"#DejaVuSans-50\"/>\r\n       <use x=\"63.623047\" xlink:href=\"#DejaVuSans-53\"/>\r\n      </g>\r\n     </g>\r\n    </g>\r\n    <g id=\"ytick_9\">\r\n     <g id=\"line2d_15\">\r\n      <g>\r\n       <use style=\"stroke:#000000;stroke-width:0.8;\" x=\"35.304688\" xlink:href=\"#m38fedc43ef\" y=\"17.083636\"/>\r\n      </g>\r\n     </g>\r\n     <g id=\"text_15\">\r\n      <!-- 30 -->\r\n      <g transform=\"translate(15.579688 20.882855)scale(0.1 -0.1)\">\r\n       <defs>\r\n        <path d=\"M 40.578125 39.3125 \r\nQ 47.65625 37.796875 51.625 33 \r\nQ 55.609375 28.21875 55.609375 21.1875 \r\nQ 55.609375 10.40625 48.1875 4.484375 \r\nQ 40.765625 -1.421875 27.09375 -1.421875 \r\nQ 22.515625 -1.421875 17.65625 -0.515625 \r\nQ 12.796875 0.390625 7.625 2.203125 \r\nL 7.625 11.71875 \r\nQ 11.71875 9.328125 16.59375 8.109375 \r\nQ 21.484375 6.890625 26.8125 6.890625 \r\nQ 36.078125 6.890625 40.9375 10.546875 \r\nQ 45.796875 14.203125 45.796875 21.1875 \r\nQ 45.796875 27.640625 41.28125 31.265625 \r\nQ 36.765625 34.90625 28.71875 34.90625 \r\nL 20.21875 34.90625 \r\nL 20.21875 43.015625 \r\nL 29.109375 43.015625 \r\nQ 36.375 43.015625 40.234375 45.921875 \r\nQ 44.09375 48.828125 44.09375 54.296875 \r\nQ 44.09375 59.90625 40.109375 62.90625 \r\nQ 36.140625 65.921875 28.71875 65.921875 \r\nQ 24.65625 65.921875 20.015625 65.03125 \r\nQ 15.375 64.15625 9.8125 62.3125 \r\nL 9.8125 71.09375 \r\nQ 15.4375 72.65625 20.34375 73.4375 \r\nQ 25.25 74.21875 29.59375 74.21875 \r\nQ 40.828125 74.21875 47.359375 69.109375 \r\nQ 53.90625 64.015625 53.90625 55.328125 \r\nQ 53.90625 49.265625 50.4375 45.09375 \r\nQ 46.96875 40.921875 40.578125 39.3125 \r\nz\r\n\" id=\"DejaVuSans-51\"/>\r\n       </defs>\r\n       <use xlink:href=\"#DejaVuSans-51\"/>\r\n       <use x=\"63.623047\" xlink:href=\"#DejaVuSans-48\"/>\r\n      </g>\r\n     </g>\r\n    </g>\r\n   </g>\r\n   <g id=\"line2d_16\">\r\n    <path clip-path=\"url(#p66ae1fea40)\" d=\"M 50.522869 41.792727 \r\nL 50.646193 150.512727 \r\nL 50.892841 165.338182 \r\nL 51.139489 165.338182 \r\nL 51.386137 180.163636 \r\nL 51.756109 180.163636 \r\nL 51.879433 165.338182 \r\nL 52.496053 165.338182 \r\nL 52.742701 175.221818 \r\nL 52.866025 165.338182 \r\nL 52.989349 190.047273 \r\nL 53.359321 165.338182 \r\nL 53.482645 170.28 \r\nL 53.605969 180.163636 \r\nL 53.729293 170.28 \r\nL 53.975941 170.28 \r\nL 54.222589 120.861818 \r\nL 54.345913 165.338182 \r\nL 55.702477 165.338182 \r\nL 55.825801 170.28 \r\nL 55.949125 185.105455 \r\nL 56.072449 175.221818 \r\nL 56.195773 185.105455 \r\nL 56.442421 175.221818 \r\nL 56.565745 180.163636 \r\nL 56.689069 165.338182 \r\nL 57.182365 165.338182 \r\nL 57.305689 170.28 \r\nL 57.429013 199.930909 \r\nL 57.675661 170.28 \r\nL 58.168957 170.28 \r\nL 58.292281 165.338182 \r\nL 58.415605 170.28 \r\nL 58.538929 165.338182 \r\nL 58.662253 170.28 \r\nL 58.785577 165.338182 \r\nL 58.908901 165.338182 \r\nL 59.032225 170.28 \r\nL 59.155549 165.338182 \r\nL 59.278873 165.338182 \r\nL 59.402197 175.221818 \r\nL 59.525521 170.28 \r\nL 59.772169 170.28 \r\nL 59.895493 165.338182 \r\nL 60.265465 165.338182 \r\nL 60.388789 170.28 \r\nL 60.512113 170.28 \r\nL 60.635437 165.338182 \r\nL 60.758761 165.338182 \r\nL 61.005409 26.967273 \r\nL 61.128733 46.734545 \r\nL 61.375381 145.570909 \r\nL 61.498705 165.338182 \r\nL 61.868677 165.338182 \r\nL 62.115325 175.221818 \r\nL 62.238649 175.221818 \r\nL 62.361973 170.28 \r\nL 62.485297 170.28 \r\nL 62.608621 165.338182 \r\nL 62.731945 165.338182 \r\nL 62.855269 170.28 \r\nL 63.225242 170.28 \r\nL 63.348566 165.338182 \r\nL 63.718538 165.338182 \r\nL 63.841862 170.28 \r\nL 63.965186 165.338182 \r\nL 64.335158 165.338182 \r\nL 64.458482 155.454545 \r\nL 64.70513 110.978182 \r\nL 65.075102 165.338182 \r\nL 65.32175 165.338182 \r\nL 65.445074 170.28 \r\nL 65.93837 170.28 \r\nL 66.061694 165.338182 \r\nL 66.185018 170.28 \r\nL 66.308342 170.28 \r\nL 66.431666 165.338182 \r\nL 66.55499 165.338182 \r\nL 66.678314 170.28 \r\nL 66.801638 165.338182 \r\nL 66.924962 170.28 \r\nL 67.048286 165.338182 \r\nL 67.664906 165.338182 \r\nL 67.78823 170.28 \r\nL 67.911554 170.28 \r\nL 68.034878 165.338182 \r\nL 68.774822 165.338182 \r\nL 69.02147 175.221818 \r\nL 69.144794 175.221818 \r\nL 69.391442 185.105455 \r\nL 69.63809 170.28 \r\nL 69.761414 180.163636 \r\nL 69.884738 175.221818 \r\nL 70.131386 190.047273 \r\nL 70.25471 190.047273 \r\nL 70.378034 170.28 \r\nL 70.501358 170.28 \r\nL 70.624682 165.338182 \r\nL 70.87133 165.338182 \r\nL 70.994654 170.28 \r\nL 71.117978 165.338182 \r\nL 71.48795 22.025455 \r\nL 71.611274 56.618182 \r\nL 71.857922 165.338182 \r\nL 72.597866 165.338182 \r\nL 72.72119 170.28 \r\nL 72.844514 165.338182 \r\nL 72.967838 170.28 \r\nL 73.091162 170.28 \r\nL 73.214486 165.338182 \r\nL 73.461134 165.338182 \r\nL 73.584458 170.28 \r\nL 73.707782 165.338182 \r\nL 73.831106 165.338182 \r\nL 73.95443 194.989091 \r\nL 74.201078 165.338182 \r\nL 74.57105 165.338182 \r\nL 74.694374 170.28 \r\nL 74.817698 165.338182 \r\nL 74.941022 165.338182 \r\nL 75.064346 170.28 \r\nL 75.18767 165.338182 \r\nL 75.310994 170.28 \r\nL 75.434318 170.28 \r\nL 75.557642 165.338182 \r\nL 76.174262 165.338182 \r\nL 76.297586 170.28 \r\nL 76.544234 204.872727 \r\nL 76.914206 165.338182 \r\nL 77.284178 165.338182 \r\nL 77.407502 170.28 \r\nL 77.65415 41.792727 \r\nL 78.147446 165.338182 \r\nL 78.640742 165.338182 \r\nL 78.764066 170.28 \r\nL 78.88739 185.105455 \r\nL 79.134038 165.338182 \r\nL 80.243954 165.338182 \r\nL 80.367278 209.814545 \r\nL 80.613926 165.338182 \r\nL 81.35387 165.338182 \r\nL 81.477194 170.28 \r\nL 81.600518 170.28 \r\nL 81.723842 165.338182 \r\nL 81.847166 165.338182 \r\nL 81.97049 170.28 \r\nL 82.093814 165.338182 \r\nL 82.217138 175.221818 \r\nL 82.340462 175.221818 \r\nL 82.463786 170.28 \r\nL 82.58711 170.28 \r\nL 82.710434 165.338182 \r\nL 83.327054 165.338182 \r\nL 83.450378 170.28 \r\nL 83.573702 165.338182 \r\nL 83.697026 165.338182 \r\nL 83.943674 175.221818 \r\nL 84.190322 165.338182 \r\nL 84.313646 175.221818 \r\nL 84.43697 175.221818 \r\nL 84.560294 170.28 \r\nL 84.683618 175.221818 \r\nL 84.806942 175.221818 \r\nL 85.05359 185.105455 \r\nL 85.176914 185.105455 \r\nL 85.423562 175.221818 \r\nL 85.546886 185.105455 \r\nL 85.67021 71.443636 \r\nL 85.793534 66.501818 \r\nL 85.916858 51.676364 \r\nL 86.040182 76.385455 \r\nL 86.28683 165.338182 \r\nL 86.90345 165.338182 \r\nL 87.026774 180.163636 \r\nL 87.150098 170.28 \r\nL 87.273422 170.28 \r\nL 87.396746 165.338182 \r\nL 87.52007 170.28 \r\nL 87.766718 170.28 \r\nL 87.890042 175.221818 \r\nL 88.013366 165.338182 \r\nL 88.260014 175.221818 \r\nL 88.383338 175.221818 \r\nL 88.506662 170.28 \r\nL 88.75331 190.047273 \r\nL 88.876634 180.163636 \r\nL 88.999958 185.105455 \r\nL 89.123282 175.221818 \r\nL 89.246606 190.047273 \r\nL 89.36993 165.338182 \r\nL 89.493254 170.28 \r\nL 89.616578 170.28 \r\nL 89.863226 145.570909 \r\nL 89.98655 165.338182 \r\nL 90.356522 165.338182 \r\nL 90.479846 170.28 \r\nL 90.60317 165.338182 \r\nL 90.726494 71.443636 \r\nL 90.849818 71.443636 \r\nL 91.096466 165.338182 \r\nL 91.589762 165.338182 \r\nL 91.83641 185.105455 \r\nL 91.959734 175.221818 \r\nL 92.083058 175.221818 \r\nL 92.206382 170.28 \r\nL 92.329706 180.163636 \r\nL 92.699678 165.338182 \r\nL 92.946326 165.338182 \r\nL 93.06965 170.28 \r\nL 93.192974 165.338182 \r\nL 93.439622 165.338182 \r\nL 93.562946 170.28 \r\nL 93.932918 170.28 \r\nL 94.056242 165.338182 \r\nL 94.179566 170.28 \r\nL 94.30289 170.28 \r\nL 94.426214 165.338182 \r\nL 94.549538 170.28 \r\nL 94.672862 165.338182 \r\nL 94.796186 170.28 \r\nL 94.91951 165.338182 \r\nL 95.042834 170.28 \r\nL 95.166158 170.28 \r\nL 95.289482 175.221818 \r\nL 95.412806 170.28 \r\nL 95.53613 175.221818 \r\nL 95.659454 165.338182 \r\nL 95.782778 170.28 \r\nL 95.906102 170.28 \r\nL 96.029426 165.338182 \r\nL 96.399398 160.396364 \r\nL 96.522722 165.338182 \r\nL 97.016018 165.338182 \r\nL 97.139342 170.28 \r\nL 97.262666 165.338182 \r\nL 97.509314 165.338182 \r\nL 97.632638 155.454545 \r\nL 97.879286 56.618182 \r\nL 98.00261 66.501818 \r\nL 98.249258 155.454545 \r\nL 98.372582 165.338182 \r\nL 98.61923 165.338182 \r\nL 98.742554 170.28 \r\nL 98.865878 165.338182 \r\nL 99.23585 165.338182 \r\nL 99.359174 170.28 \r\nL 99.482498 170.28 \r\nL 99.605822 165.338182 \r\nL 99.729146 165.338182 \r\nL 99.85247 170.28 \r\nL 99.975794 170.28 \r\nL 100.099118 165.338182 \r\nL 101.209034 165.338182 \r\nL 101.332358 22.025455 \r\nL 101.455682 61.56 \r\nL 101.70233 160.396364 \r\nL 101.825654 165.338182 \r\nL 101.948978 175.221818 \r\nL 102.072302 165.338182 \r\nL 102.195626 170.28 \r\nL 102.31895 165.338182 \r\nL 102.688922 165.338182 \r\nL 102.812246 170.28 \r\nL 102.93557 180.163636 \r\nL 103.058894 170.28 \r\nL 103.305542 170.28 \r\nL 103.428866 165.338182 \r\nL 103.55219 170.28 \r\nL 103.675514 165.338182 \r\nL 103.798838 170.28 \r\nL 104.045486 170.28 \r\nL 104.16881 165.338182 \r\nL 104.415458 165.338182 \r\nL 104.538782 170.28 \r\nL 104.662106 170.28 \r\nL 104.908754 185.105455 \r\nL 105.032078 185.105455 \r\nL 105.155402 170.28 \r\nL 105.40205 180.163636 \r\nL 105.525374 175.221818 \r\nL 105.648698 175.221818 \r\nL 105.772022 170.28 \r\nL 105.895346 170.28 \r\nL 106.01867 165.338182 \r\nL 106.141994 165.338182 \r\nL 106.265318 175.221818 \r\nL 106.388642 170.28 \r\nL 106.511966 180.163636 \r\nL 106.63529 165.338182 \r\nL 106.758614 165.338182 \r\nL 106.881938 170.28 \r\nL 107.25191 170.28 \r\nL 107.375234 165.338182 \r\nL 107.498558 170.28 \r\nL 107.621882 170.28 \r\nL 107.745206 165.338182 \r\nL 107.991854 165.338182 \r\nL 108.115178 170.28 \r\nL 108.238502 165.338182 \r\nL 109.841714 165.338182 \r\nL 109.965038 170.28 \r\nL 110.088362 165.338182 \r\nL 110.211686 170.28 \r\nL 110.33501 165.338182 \r\nL 110.458334 165.338182 \r\nL 110.581658 170.28 \r\nL 110.704982 170.28 \r\nL 110.828306 165.338182 \r\nL 111.691574 165.338182 \r\nL 111.814898 170.28 \r\nL 111.938222 165.338182 \r\nL 112.18487 165.338182 \r\nL 112.308194 170.28 \r\nL 112.924814 170.28 \r\nL 113.048138 175.221818 \r\nL 113.171462 175.221818 \r\nL 113.294786 170.28 \r\nL 113.664758 170.28 \r\nL 113.788082 175.221818 \r\nL 113.911406 175.221818 \r\nL 114.03473 170.28 \r\nL 114.158054 170.28 \r\nL 114.281378 175.221818 \r\nL 114.404702 170.28 \r\nL 114.65135 170.28 \r\nL 114.774674 165.338182 \r\nL 115.391294 165.338182 \r\nL 115.514618 170.28 \r\nL 115.761266 170.28 \r\nL 115.88459 165.338182 \r\nL 116.007914 170.28 \r\nL 116.131238 170.28 \r\nL 116.254562 165.338182 \r\nL 116.50121 175.221818 \r\nL 116.624534 170.28 \r\nL 116.747858 185.105455 \r\nL 116.871182 180.163636 \r\nL 116.994506 180.163636 \r\nL 117.241154 165.338182 \r\nL 117.364478 175.221818 \r\nL 117.487802 165.338182 \r\nL 117.611126 170.28 \r\nL 117.73445 165.338182 \r\nL 117.857774 165.338182 \r\nL 117.981098 170.28 \r\nL 118.104422 165.338182 \r\nL 118.35107 194.989091 \r\nL 118.597718 194.989091 \r\nL 118.721042 190.047273 \r\nL 118.844366 180.163636 \r\nL 119.091014 180.163636 \r\nL 119.214338 185.105455 \r\nL 119.460986 185.105455 \r\nL 119.58431 180.163636 \r\nL 119.707634 180.163636 \r\nL 119.830958 170.28 \r\nL 119.954282 180.163636 \r\nL 120.077606 175.221818 \r\nL 120.20093 175.221818 \r\nL 120.324254 170.28 \r\nL 120.570902 170.28 \r\nL 120.694226 165.338182 \r\nL 120.81755 170.28 \r\nL 120.940874 165.338182 \r\nL 121.064198 165.338182 \r\nL 121.187522 170.28 \r\nL 121.310846 165.338182 \r\nL 121.557494 165.338182 \r\nL 121.680818 180.163636 \r\nL 121.804142 175.221818 \r\nL 121.927466 165.338182 \r\nL 122.420762 165.338182 \r\nL 122.544086 170.28 \r\nL 122.66741 165.338182 \r\nL 123.037382 165.338182 \r\nL 123.160706 170.28 \r\nL 124.887242 170.28 \r\nL 125.010566 175.221818 \r\nL 125.13389 170.28 \r\nL 125.627186 170.28 \r\nL 125.75051 165.338182 \r\nL 125.873834 170.28 \r\nL 126.120482 170.28 \r\nL 126.243806 165.338182 \r\nL 126.36713 175.221818 \r\nL 126.490454 170.28 \r\nL 126.98375 190.047273 \r\nL 127.230398 175.221818 \r\nL 127.477046 165.338182 \r\nL 127.723694 165.338182 \r\nL 127.847018 175.221818 \r\nL 127.970342 165.338182 \r\nL 128.093666 56.618182 \r\nL 128.340314 31.909091 \r\nL 128.710286 165.338182 \r\nL 129.203582 165.338182 \r\nL 129.326906 170.28 \r\nL 130.436822 170.28 \r\nL 130.560146 175.221818 \r\nL 130.68347 170.28 \r\nL 131.423414 170.28 \r\nL 131.670062 180.163636 \r\nL 131.793386 180.163636 \r\nL 131.91671 170.28 \r\nL 132.163358 170.28 \r\nL 132.286682 165.338182 \r\nL 132.410006 165.338182 \r\nL 132.53333 170.28 \r\nL 132.656654 170.28 \r\nL 132.779978 175.221818 \r\nL 132.903302 170.28 \r\nL 133.149951 170.28 \r\nL 133.273275 175.221818 \r\nL 133.396599 170.28 \r\nL 133.766571 170.28 \r\nL 133.889895 175.221818 \r\nL 134.013219 175.221818 \r\nL 134.259867 26.967273 \r\nL 134.383191 46.734545 \r\nL 134.629839 155.454545 \r\nL 134.753163 165.338182 \r\nL 135.123135 165.338182 \r\nL 135.246459 170.28 \r\nL 135.369783 165.338182 \r\nL 136.233051 165.338182 \r\nL 136.479699 209.814545 \r\nL 136.603023 165.338182 \r\nL 136.972995 165.338182 \r\nL 137.096319 194.989091 \r\nL 137.219643 165.338182 \r\nL 137.342967 165.338182 \r\nL 137.466291 170.28 \r\nL 137.712939 170.28 \r\nL 137.836263 165.338182 \r\nL 138.699531 165.338182 \r\nL 138.822855 170.28 \r\nL 138.946179 165.338182 \r\nL 140.056095 165.338182 \r\nL 140.179419 170.28 \r\nL 140.302743 165.338182 \r\nL 140.796039 165.338182 \r\nL 140.919363 170.28 \r\nL 141.042687 165.338182 \r\nL 141.166011 165.338182 \r\nL 141.289335 190.047273 \r\nL 141.412659 170.28 \r\nL 141.535983 185.105455 \r\nL 141.782631 175.221818 \r\nL 141.905955 165.338182 \r\nL 142.029279 170.28 \r\nL 142.275927 170.28 \r\nL 142.399251 165.338182 \r\nL 142.522575 170.28 \r\nL 142.645899 165.338182 \r\nL 143.015871 165.338182 \r\nL 143.139195 170.28 \r\nL 143.262519 165.338182 \r\nL 143.385843 170.28 \r\nL 143.509167 165.338182 \r\nL 143.632491 165.338182 \r\nL 143.755815 170.28 \r\nL 143.879139 185.105455 \r\nL 144.002463 170.28 \r\nL 144.125787 175.221818 \r\nL 144.372435 165.338182 \r\nL 144.495759 165.338182 \r\nL 144.619083 170.28 \r\nL 144.865731 194.989091 \r\nL 144.989055 170.28 \r\nL 145.112379 175.221818 \r\nL 145.235703 170.28 \r\nL 145.359027 175.221818 \r\nL 145.482351 175.221818 \r\nL 145.605675 170.28 \r\nL 145.728999 170.28 \r\nL 145.852323 165.338182 \r\nL 146.222295 165.338182 \r\nL 146.345619 170.28 \r\nL 146.592267 170.28 \r\nL 146.715591 165.338182 \r\nL 146.838915 180.163636 \r\nL 146.962239 175.221818 \r\nL 147.085563 175.221818 \r\nL 147.208887 165.338182 \r\nL 147.332211 165.338182 \r\nL 147.578859 175.221818 \r\nL 147.702183 175.221818 \r\nL 147.948831 165.338182 \r\nL 149.182071 165.338182 \r\nL 149.428719 22.025455 \r\nL 149.922015 165.338182 \r\nL 150.415311 165.338182 \r\nL 150.538635 170.28 \r\nL 150.661959 165.338182 \r\nL 150.908607 165.338182 \r\nL 151.031931 170.28 \r\nL 151.155255 165.338182 \r\nL 151.278579 170.28 \r\nL 151.401903 165.338182 \r\nL 152.758467 165.338182 \r\nL 152.881791 170.28 \r\nL 153.128439 185.105455 \r\nL 153.251763 190.047273 \r\nL 153.375087 175.221818 \r\nL 153.498411 190.047273 \r\nL 153.868383 175.221818 \r\nL 153.991707 175.221818 \r\nL 154.115031 170.28 \r\nL 154.238355 170.28 \r\nL 154.361679 165.338182 \r\nL 155.224947 165.338182 \r\nL 155.348271 170.28 \r\nL 155.471595 165.338182 \r\nL 155.718243 165.338182 \r\nL 155.841567 170.28 \r\nL 155.964891 165.338182 \r\nL 156.088215 125.803636 \r\nL 156.211539 46.734545 \r\nL 156.334863 56.618182 \r\nL 156.704835 165.338182 \r\nL 157.321455 165.338182 \r\nL 157.444779 175.221818 \r\nL 157.568103 165.338182 \r\nL 157.814751 175.221818 \r\nL 157.938075 175.221818 \r\nL 158.061399 165.338182 \r\nL 158.554695 165.338182 \r\nL 158.678019 170.28 \r\nL 158.801343 165.338182 \r\nL 158.924667 170.28 \r\nL 159.047991 165.338182 \r\nL 159.664611 165.338182 \r\nL 159.787935 170.28 \r\nL 159.911259 165.338182 \r\nL 160.527879 165.338182 \r\nL 160.651203 170.28 \r\nL 160.774527 165.338182 \r\nL 160.897851 165.338182 \r\nL 161.021175 170.28 \r\nL 161.144499 170.28 \r\nL 161.267823 199.930909 \r\nL 161.391147 180.163636 \r\nL 161.514471 199.930909 \r\nL 161.761119 165.338182 \r\nL 161.884443 180.163636 \r\nL 162.007767 180.163636 \r\nL 162.131091 175.221818 \r\nL 162.254415 185.105455 \r\nL 162.624387 170.28 \r\nL 162.747711 175.221818 \r\nL 162.994359 165.338182 \r\nL 163.117683 170.28 \r\nL 163.364331 185.105455 \r\nL 163.487655 165.338182 \r\nL 163.980951 165.338182 \r\nL 164.104275 170.28 \r\nL 164.227599 165.338182 \r\nL 164.350923 170.28 \r\nL 164.474247 165.338182 \r\nL 164.597571 165.338182 \r\nL 164.844219 185.105455 \r\nL 164.967543 190.047273 \r\nL 165.090867 185.105455 \r\nL 165.214191 190.047273 \r\nL 165.337515 190.047273 \r\nL 165.460839 180.163636 \r\nL 165.584163 180.163636 \r\nL 165.707487 190.047273 \r\nL 165.954135 180.163636 \r\nL 166.077459 170.28 \r\nL 166.200783 180.163636 \r\nL 166.324107 170.28 \r\nL 166.570755 170.28 \r\nL 166.694079 175.221818 \r\nL 166.940727 165.338182 \r\nL 167.310699 165.338182 \r\nL 167.434023 170.28 \r\nL 167.557347 165.338182 \r\nL 168.420615 165.338182 \r\nL 168.543939 185.105455 \r\nL 168.913911 170.28 \r\nL 169.160559 180.163636 \r\nL 169.283883 170.28 \r\nL 169.530531 185.105455 \r\nL 169.653855 185.105455 \r\nL 169.777179 194.989091 \r\nL 169.900503 190.047273 \r\nL 170.023827 190.047273 \r\nL 170.270475 180.163636 \r\nL 170.517123 56.618182 \r\nL 170.640447 56.618182 \r\nL 170.763771 81.327273 \r\nL 171.010419 165.338182 \r\nL 171.750363 165.338182 \r\nL 171.873687 175.221818 \r\nL 172.243659 175.221818 \r\nL 172.366983 165.338182 \r\nL 172.613631 175.221818 \r\nL 172.736955 170.28 \r\nL 172.860279 170.28 \r\nL 172.983603 175.221818 \r\nL 173.106927 165.338182 \r\nL 173.230251 170.28 \r\nL 173.353575 170.28 \r\nL 173.476899 165.338182 \r\nL 173.846871 165.338182 \r\nL 173.970195 170.28 \r\nL 174.093519 165.338182 \r\nL 174.340167 175.221818 \r\nL 174.463491 165.338182 \r\nL 175.326759 165.338182 \r\nL 175.450083 170.28 \r\nL 175.573407 165.338182 \r\nL 175.696731 170.28 \r\nL 175.820055 165.338182 \r\nL 176.313351 165.338182 \r\nL 176.436675 170.28 \r\nL 176.559999 170.28 \r\nL 176.683323 165.338182 \r\nL 177.053295 165.338182 \r\nL 177.176619 175.221818 \r\nL 177.299943 165.338182 \r\nL 177.423267 165.338182 \r\nL 177.546591 170.28 \r\nL 177.669915 165.338182 \r\nL 177.916563 165.338182 \r\nL 178.039887 170.28 \r\nL 178.163211 165.338182 \r\nL 178.286535 165.338182 \r\nL 178.409859 170.28 \r\nL 178.656507 170.28 \r\nL 178.779831 165.338182 \r\nL 178.903155 170.28 \r\nL 179.026479 165.338182 \r\nL 179.396451 165.338182 \r\nL 179.519775 170.28 \r\nL 179.643099 165.338182 \r\nL 180.506367 165.338182 \r\nL 180.629691 170.28 \r\nL 180.753015 165.338182 \r\nL 180.999663 36.850909 \r\nL 181.122987 26.967273 \r\nL 181.369635 160.396364 \r\nL 181.492959 170.28 \r\nL 181.616283 165.338182 \r\nL 181.986255 165.338182 \r\nL 182.109579 170.28 \r\nL 182.232903 165.338182 \r\nL 182.602875 165.338182 \r\nL 182.726199 170.28 \r\nL 182.849523 165.338182 \r\nL 183.466143 165.338182 \r\nL 183.589467 170.28 \r\nL 183.712791 165.338182 \r\nL 184.082763 165.338182 \r\nL 184.206087 170.28 \r\nL 184.329411 165.338182 \r\nL 184.452735 170.28 \r\nL 184.946031 170.28 \r\nL 185.069355 165.338182 \r\nL 185.562651 165.338182 \r\nL 185.685975 170.28 \r\nL 185.809299 165.338182 \r\nL 185.932623 165.338182 \r\nL 186.055947 170.28 \r\nL 186.179271 165.338182 \r\nL 186.302595 165.338182 \r\nL 186.425919 91.210909 \r\nL 186.549243 165.338182 \r\nL 187.782483 165.338182 \r\nL 187.905807 170.28 \r\nL 188.029131 165.338182 \r\nL 188.769075 165.338182 \r\nL 188.892399 170.28 \r\nL 189.015723 165.338182 \r\nL 190.125639 165.338182 \r\nL 190.248963 170.28 \r\nL 190.372287 165.338182 \r\nL 190.495611 165.338182 \r\nL 190.618935 170.28 \r\nL 190.742259 165.338182 \r\nL 190.865583 170.28 \r\nL 190.988907 165.338182 \r\nL 191.482203 165.338182 \r\nL 191.605527 170.28 \r\nL 192.098823 170.28 \r\nL 192.222147 165.338182 \r\nL 192.345471 165.338182 \r\nL 192.468795 190.047273 \r\nL 192.592119 170.28 \r\nL 192.715443 170.28 \r\nL 192.838767 175.221818 \r\nL 193.085415 165.338182 \r\nL 193.702035 165.338182 \r\nL 193.825359 170.28 \r\nL 193.948683 165.338182 \r\nL 194.565303 165.338182 \r\nL 194.688627 175.221818 \r\nL 194.811951 170.28 \r\nL 195.058599 170.28 \r\nL 195.181923 165.338182 \r\nL 195.551895 165.338182 \r\nL 195.675219 175.221818 \r\nL 195.798543 175.221818 \r\nL 196.168515 22.025455 \r\nL 196.538487 165.338182 \r\nL 197.771727 165.338182 \r\nL 197.895051 170.28 \r\nL 198.018375 165.338182 \r\nL 198.881643 165.338182 \r\nL 199.004967 180.163636 \r\nL 199.128291 170.28 \r\nL 199.621587 170.28 \r\nL 199.744911 180.163636 \r\nL 199.868235 165.338182 \r\nL 199.991559 175.221818 \r\nL 200.114883 165.338182 \r\nL 200.238207 165.338182 \r\nL 200.361531 175.221818 \r\nL 200.484855 170.28 \r\nL 201.101475 170.28 \r\nL 201.224799 165.338182 \r\nL 201.718095 165.338182 \r\nL 201.841419 170.28 \r\nL 202.334715 170.28 \r\nL 202.458039 175.221818 \r\nL 202.704688 165.338182 \r\nL 202.828012 170.28 \r\nL 202.951336 165.338182 \r\nL 203.07466 170.28 \r\nL 203.197984 165.338182 \r\nL 203.321308 170.28 \r\nL 203.444632 170.28 \r\nL 203.567956 175.221818 \r\nL 203.69128 170.28 \r\nL 204.184576 170.28 \r\nL 204.3079 165.338182 \r\nL 204.431224 165.338182 \r\nL 204.554548 155.454545 \r\nL 204.801196 36.850909 \r\nL 204.92452 46.734545 \r\nL 205.171168 150.512727 \r\nL 205.294492 165.338182 \r\nL 205.664464 165.338182 \r\nL 205.787788 170.28 \r\nL 206.281084 170.28 \r\nL 206.404408 165.338182 \r\nL 206.527732 165.338182 \r\nL 206.651056 185.105455 \r\nL 206.77438 170.28 \r\nL 206.897704 175.221818 \r\nL 207.021028 170.28 \r\nL 207.514324 170.28 \r\nL 207.637648 165.338182 \r\nL 208.00762 165.338182 \r\nL 208.130944 170.28 \r\nL 208.747564 170.28 \r\nL 208.870888 165.338182 \r\nL 209.364184 165.338182 \r\nL 209.487508 170.28 \r\nL 209.610832 165.338182 \r\nL 209.734156 170.28 \r\nL 209.980804 170.28 \r\nL 210.104128 175.221818 \r\nL 210.350776 165.338182 \r\nL 210.4741 170.28 \r\nL 210.597424 165.338182 \r\nL 210.720748 165.338182 \r\nL 210.844072 170.28 \r\nL 210.967396 165.338182 \r\nL 211.214044 165.338182 \r\nL 211.337368 170.28 \r\nL 211.460692 165.338182 \r\nL 211.584016 170.28 \r\nL 211.70734 170.28 \r\nL 211.830664 185.105455 \r\nL 211.953988 180.163636 \r\nL 212.200636 165.338182 \r\nL 212.32396 165.338182 \r\nL 212.447284 170.28 \r\nL 212.570608 165.338182 \r\nL 212.693932 170.28 \r\nL 212.94058 170.28 \r\nL 213.063904 165.338182 \r\nL 213.187228 165.338182 \r\nL 213.310552 170.28 \r\nL 213.433876 170.28 \r\nL 213.5572 165.338182 \r\nL 213.680524 165.338182 \r\nL 213.803848 170.28 \r\nL 213.927172 165.338182 \r\nL 214.420468 165.338182 \r\nL 214.543792 170.28 \r\nL 214.667116 170.28 \r\nL 214.79044 165.338182 \r\nL 214.913764 170.28 \r\nL 215.037088 165.338182 \r\nL 215.530384 165.338182 \r\nL 215.653708 170.28 \r\nL 215.777032 165.338182 \r\nL 216.516976 165.338182 \r\nL 216.6403 170.28 \r\nL 217.010272 170.28 \r\nL 217.133596 165.338182 \r\nL 217.380244 165.338182 \r\nL 217.503568 170.28 \r\nL 217.626892 170.28 \r\nL 217.750216 165.338182 \r\nL 218.49016 165.338182 \r\nL 218.613484 170.28 \r\nL 218.736808 165.338182 \r\nL 218.983456 165.338182 \r\nL 219.10678 170.28 \r\nL 219.230104 165.338182 \r\nL 219.353428 170.28 \r\nL 219.476752 170.28 \r\nL 219.600076 165.338182 \r\nL 219.970048 165.338182 \r\nL 220.093372 170.28 \r\nL 220.216696 165.338182 \r\nL 220.709992 165.338182 \r\nL 220.833316 170.28 \r\nL 221.079964 170.28 \r\nL 221.203288 165.338182 \r\nL 221.449936 165.338182 \r\nL 221.696584 175.221818 \r\nL 221.819908 165.338182 \r\nL 221.943232 165.338182 \r\nL 222.066556 170.28 \r\nL 222.18988 165.338182 \r\nL 222.313204 170.28 \r\nL 222.436528 165.338182 \r\nL 222.559852 170.28 \r\nL 222.683176 170.28 \r\nL 222.8065 165.338182 \r\nL 223.299796 165.338182 \r\nL 223.42312 170.28 \r\nL 223.793092 170.28 \r\nL 223.916416 165.338182 \r\nL 224.163064 175.221818 \r\nL 224.286388 165.338182 \r\nL 224.409712 170.28 \r\nL 224.65636 170.28 \r\nL 224.779684 165.338182 \r\nL 224.903008 170.28 \r\nL 225.642952 170.28 \r\nL 225.766276 165.338182 \r\nL 225.8896 165.338182 \r\nL 226.012924 170.28 \r\nL 226.136248 170.28 \r\nL 226.259572 185.105455 \r\nL 226.50622 170.28 \r\nL 226.629544 175.221818 \r\nL 226.752868 165.338182 \r\nL 227.246164 165.338182 \r\nL 227.369488 170.28 \r\nL 227.492812 165.338182 \r\nL 227.616136 170.28 \r\nL 227.862784 170.28 \r\nL 227.986108 165.338182 \r\nL 228.109432 170.28 \r\nL 228.602728 170.28 \r\nL 228.726052 165.338182 \r\nL 228.849376 170.28 \r\nL 229.219348 170.28 \r\nL 229.342672 175.221818 \r\nL 229.465996 170.28 \r\nL 230.082616 170.28 \r\nL 230.20594 165.338182 \r\nL 230.329264 175.221818 \r\nL 230.575912 165.338182 \r\nL 230.699236 194.989091 \r\nL 230.945884 170.28 \r\nL 231.069208 185.105455 \r\nL 231.192532 185.105455 \r\nL 231.315856 180.163636 \r\nL 231.43918 180.163636 \r\nL 231.562504 170.28 \r\nL 232.302448 170.28 \r\nL 232.425772 165.338182 \r\nL 232.67242 165.338182 \r\nL 232.795744 170.28 \r\nL 232.919068 165.338182 \r\nL 233.659012 165.338182 \r\nL 233.782336 170.28 \r\nL 233.90566 170.28 \r\nL 234.028984 165.338182 \r\nL 234.275632 165.338182 \r\nL 234.398956 175.221818 \r\nL 234.52228 165.338182 \r\nL 234.645604 170.28 \r\nL 234.768928 165.338182 \r\nL 234.892252 170.28 \r\nL 235.015576 165.338182 \r\nL 235.1389 170.28 \r\nL 235.262224 165.338182 \r\nL 235.508872 175.221818 \r\nL 235.632196 170.28 \r\nL 235.75552 170.28 \r\nL 235.878844 175.221818 \r\nL 236.002168 170.28 \r\nL 236.125492 170.28 \r\nL 236.248816 165.338182 \r\nL 236.37214 165.338182 \r\nL 236.618788 31.909091 \r\nL 236.742112 41.792727 \r\nL 236.98876 155.454545 \r\nL 237.112084 165.338182 \r\nL 237.852028 165.338182 \r\nL 238.222 180.163636 \r\nL 238.345324 180.163636 \r\nL 238.715296 165.338182 \r\nL 240.07186 165.338182 \r\nL 240.195184 170.28 \r\nL 240.318508 165.338182 \r\nL 240.565156 165.338182 \r\nL 240.68848 170.28 \r\nL 240.811804 165.338182 \r\nL 240.935128 175.221818 \r\nL 241.058452 170.28 \r\nL 241.428424 170.28 \r\nL 241.551748 165.338182 \r\nL 241.675072 165.338182 \r\nL 241.798396 170.28 \r\nL 241.92172 165.338182 \r\nL 242.168368 165.338182 \r\nL 242.291692 170.28 \r\nL 242.415016 165.338182 \r\nL 242.53834 165.338182 \r\nL 242.661664 170.28 \r\nL 242.784988 165.338182 \r\nL 243.401608 165.338182 \r\nL 243.524932 170.28 \r\nL 243.648256 170.28 \r\nL 243.77158 165.338182 \r\nL 244.758172 165.338182 \r\nL 245.00482 175.221818 \r\nL 245.128144 170.28 \r\nL 245.62144 170.28 \r\nL 245.744764 165.338182 \r\nL 245.991412 165.338182 \r\nL 246.114736 170.28 \r\nL 246.23806 170.28 \r\nL 246.361384 165.338182 \r\nL 246.608032 165.338182 \r\nL 246.731356 170.28 \r\nL 246.85468 165.338182 \r\nL 246.978004 170.28 \r\nL 247.101328 170.28 \r\nL 247.224652 175.221818 \r\nL 247.347976 165.338182 \r\nL 247.594624 165.338182 \r\nL 247.717948 170.28 \r\nL 247.841272 165.338182 \r\nL 248.211244 165.338182 \r\nL 248.334568 170.28 \r\nL 248.457892 165.338182 \r\nL 248.581216 165.338182 \r\nL 248.70454 170.28 \r\nL 248.827864 165.338182 \r\nL 249.197836 165.338182 \r\nL 249.32116 170.28 \r\nL 249.444484 165.338182 \r\nL 249.567808 165.338182 \r\nL 249.691132 170.28 \r\nL 249.814456 165.338182 \r\nL 250.184428 165.338182 \r\nL 250.307752 170.28 \r\nL 250.431076 165.338182 \r\nL 250.801048 165.338182 \r\nL 250.924372 170.28 \r\nL 251.047696 165.338182 \r\nL 251.417668 165.338182 \r\nL 251.540992 170.28 \r\nL 251.664316 165.338182 \r\nL 251.78764 170.28 \r\nL 252.157612 170.28 \r\nL 252.280936 185.105455 \r\nL 252.40426 170.28 \r\nL 252.527584 175.221818 \r\nL 252.650908 170.28 \r\nL 252.774232 170.28 \r\nL 252.897556 165.338182 \r\nL 253.02088 175.221818 \r\nL 253.144204 170.28 \r\nL 253.267528 170.28 \r\nL 253.390852 165.338182 \r\nL 253.514176 170.28 \r\nL 253.6375 170.28 \r\nL 253.760824 165.338182 \r\nL 253.884148 165.338182 \r\nL 254.130796 175.221818 \r\nL 254.377444 175.221818 \r\nL 254.500768 170.28 \r\nL 254.624092 170.28 \r\nL 254.747416 165.338182 \r\nL 254.87074 170.28 \r\nL 255.117388 170.28 \r\nL 255.240712 190.047273 \r\nL 255.364036 165.338182 \r\nL 255.610684 41.792727 \r\nL 255.980656 165.338182 \r\nL 256.473952 165.338182 \r\nL 256.597276 170.28 \r\nL 257.213896 170.28 \r\nL 257.33722 165.338182 \r\nL 258.077164 165.338182 \r\nL 258.200488 170.28 \r\nL 258.323812 165.338182 \r\nL 258.447136 170.28 \r\nL 258.693784 170.28 \r\nL 258.817108 175.221818 \r\nL 258.940432 170.28 \r\nL 259.063756 170.28 \r\nL 259.18708 175.221818 \r\nL 259.310404 165.338182 \r\nL 259.433728 185.105455 \r\nL 259.680376 170.28 \r\nL 259.8037 170.28 \r\nL 259.927024 165.338182 \r\nL 260.050348 165.338182 \r\nL 260.296996 17.083636 \r\nL 260.666968 160.396364 \r\nL 260.790292 165.338182 \r\nL 261.65356 165.338182 \r\nL 261.776884 170.28 \r\nL 261.900208 165.338182 \r\nL 262.640152 165.338182 \r\nL 262.763476 170.28 \r\nL 262.8868 165.338182 \r\nL 263.010124 165.338182 \r\nL 263.133448 170.28 \r\nL 263.256772 165.338182 \r\nL 263.380096 170.28 \r\nL 263.50342 165.338182 \r\nL 263.996716 165.338182 \r\nL 264.12004 170.28 \r\nL 264.243364 165.338182 \r\nL 264.613336 165.338182 \r\nL 264.73666 170.28 \r\nL 264.859984 165.338182 \r\nL 265.229956 165.338182 \r\nL 265.35328 170.28 \r\nL 265.476604 165.338182 \r\nL 265.599928 165.338182 \r\nL 265.723252 170.28 \r\nL 266.093224 170.28 \r\nL 266.216548 165.338182 \r\nL 268.189732 165.338182 \r\nL 268.313056 170.28 \r\nL 268.43638 165.338182 \r\nL 268.806352 165.338182 \r\nL 268.929676 170.28 \r\nL 269.053 165.338182 \r\nL 269.422972 165.338182 \r\nL 269.66962 175.221818 \r\nL 269.916268 175.221818 \r\nL 270.039592 170.28 \r\nL 270.162916 170.28 \r\nL 270.28624 165.338182 \r\nL 270.409564 170.28 \r\nL 270.532888 165.338182 \r\nL 271.026184 165.338182 \r\nL 271.149508 170.28 \r\nL 271.396156 170.28 \r\nL 271.51948 165.338182 \r\nL 271.766128 165.338182 \r\nL 271.889452 170.28 \r\nL 272.012776 165.338182 \r\nL 272.1361 165.338182 \r\nL 272.259424 170.28 \r\nL 272.382748 165.338182 \r\nL 272.752721 165.338182 \r\nL 272.876045 170.28 \r\nL 272.999369 165.338182 \r\nL 273.369341 165.338182 \r\nL 273.492665 170.28 \r\nL 273.615989 165.338182 \r\nL 274.355933 165.338182 \r\nL 274.479257 170.28 \r\nL 274.602581 165.338182 \r\nL 275.342525 165.338182 \r\nL 275.465849 170.28 \r\nL 275.589173 165.338182 \r\nL 275.959145 165.338182 \r\nL 276.082469 170.28 \r\nL 276.452441 170.28 \r\nL 276.575765 165.338182 \r\nL 276.699089 165.338182 \r\nL 276.822413 170.28 \r\nL 276.945737 165.338182 \r\nL 277.069061 170.28 \r\nL 277.192385 165.338182 \r\nL 277.439033 165.338182 \r\nL 277.562357 170.28 \r\nL 277.685681 165.338182 \r\nL 278.178977 165.338182 \r\nL 278.302301 170.28 \r\nL 278.425625 165.338182 \r\nL 278.672273 165.338182 \r\nL 278.795597 170.28 \r\nL 278.918921 170.28 \r\nL 279.042245 165.338182 \r\nL 280.275485 165.338182 \r\nL 280.398809 175.221818 \r\nL 280.522133 170.28 \r\nL 281.015429 170.28 \r\nL 281.138753 165.338182 \r\nL 281.262077 170.28 \r\nL 281.508725 170.28 \r\nL 281.632049 165.338182 \r\nL 281.755373 165.338182 \r\nL 281.878697 170.28 \r\nL 282.002021 170.28 \r\nL 282.125345 185.105455 \r\nL 282.248669 170.28 \r\nL 282.371993 170.28 \r\nL 282.495317 175.221818 \r\nL 282.741965 165.338182 \r\nL 282.865289 170.28 \r\nL 283.358585 170.28 \r\nL 283.481909 165.338182 \r\nL 283.728557 175.221818 \r\nL 283.851881 170.28 \r\nL 283.975205 170.28 \r\nL 284.098529 165.338182 \r\nL 284.715149 165.338182 \r\nL 284.961797 175.221818 \r\nL 285.208445 165.338182 \r\nL 285.331769 170.28 \r\nL 285.455093 165.338182 \r\nL 285.578417 165.338182 \r\nL 285.701741 170.28 \r\nL 285.825065 165.338182 \r\nL 285.948389 170.28 \r\nL 286.071713 170.28 \r\nL 286.195037 175.221818 \r\nL 286.318361 170.28 \r\nL 286.441685 170.28 \r\nL 286.565009 175.221818 \r\nL 286.688333 170.28 \r\nL 286.811657 170.28 \r\nL 287.058305 51.676364 \r\nL 287.181629 51.676364 \r\nL 287.304953 76.385455 \r\nL 287.551601 165.338182 \r\nL 289.894757 165.338182 \r\nL 290.018081 170.28 \r\nL 290.141405 165.338182 \r\nL 290.511377 165.338182 \r\nL 290.634701 170.28 \r\nL 290.758025 165.338182 \r\nL 291.867941 165.338182 \r\nL 291.991265 170.28 \r\nL 292.114589 165.338182 \r\nL 292.237913 165.338182 \r\nL 292.361237 170.28 \r\nL 292.484561 165.338182 \r\nL 292.607885 165.338182 \r\nL 292.731209 170.28 \r\nL 292.854533 165.338182 \r\nL 293.101181 165.338182 \r\nL 293.224505 170.28 \r\nL 293.347829 165.338182 \r\nL 293.594477 175.221818 \r\nL 293.717801 170.28 \r\nL 293.841125 170.28 \r\nL 293.964449 165.338182 \r\nL 294.457745 165.338182 \r\nL 294.581069 170.28 \r\nL 294.704393 165.338182 \r\nL 294.827717 165.338182 \r\nL 294.951041 170.28 \r\nL 295.197689 170.28 \r\nL 295.321013 165.338182 \r\nL 295.444337 165.338182 \r\nL 295.567661 170.28 \r\nL 295.690985 170.28 \r\nL 295.814309 165.338182 \r\nL 296.060957 165.338182 \r\nL 296.184281 170.28 \r\nL 296.307605 165.338182 \r\nL 297.294197 165.338182 \r\nL 297.417521 175.221818 \r\nL 297.540845 170.28 \r\nL 298.034141 170.28 \r\nL 298.157465 165.338182 \r\nL 298.774085 165.338182 \r\nL 298.897409 170.28 \r\nL 299.020733 125.803636 \r\nL 299.144057 31.909091 \r\nL 299.267381 26.967273 \r\nL 299.760677 165.338182 \r\nL 300.007325 165.338182 \r\nL 300.130649 170.28 \r\nL 300.253973 165.338182 \r\nL 300.993917 165.338182 \r\nL 301.117241 170.28 \r\nL 301.240565 165.338182 \r\nL 302.597129 165.338182 \r\nL 302.720453 170.28 \r\nL 302.843777 165.338182 \r\nL 303.213749 165.338182 \r\nL 303.337073 170.28 \r\nL 303.460397 165.338182 \r\nL 304.446989 165.338182 \r\nL 304.570313 170.28 \r\nL 304.940285 170.28 \r\nL 305.063609 165.338182 \r\nL 305.186933 165.338182 \r\nL 305.310257 170.28 \r\nL 305.433581 165.338182 \r\nL 305.556905 170.28 \r\nL 305.680229 165.338182 \r\nL 305.926877 165.338182 \r\nL 306.050201 170.28 \r\nL 306.296849 170.28 \r\nL 306.420173 165.338182 \r\nL 307.160117 165.338182 \r\nL 307.283441 170.28 \r\nL 307.406765 170.28 \r\nL 307.530089 165.338182 \r\nL 307.776737 165.338182 \r\nL 307.900061 170.28 \r\nL 308.023385 165.338182 \r\nL 308.270033 175.221818 \r\nL 308.393357 170.28 \r\nL 308.516681 175.221818 \r\nL 308.763329 56.618182 \r\nL 309.009977 165.338182 \r\nL 309.133301 170.28 \r\nL 309.256625 165.338182 \r\nL 309.379949 165.338182 \r\nL 309.503273 214.756364 \r\nL 309.749921 170.28 \r\nL 309.873245 170.28 \r\nL 309.996569 165.338182 \r\nL 310.119893 170.28 \r\nL 310.366541 170.28 \r\nL 310.489865 165.338182 \r\nL 310.613189 175.221818 \r\nL 310.736513 170.28 \r\nL 310.859837 175.221818 \r\nL 310.983161 170.28 \r\nL 311.106485 170.28 \r\nL 311.353133 180.163636 \r\nL 311.476457 180.163636 \r\nL 311.599781 175.221818 \r\nL 311.723105 165.338182 \r\nL 311.846429 175.221818 \r\nL 311.969753 175.221818 \r\nL 312.093077 170.28 \r\nL 312.216401 170.28 \r\nL 312.339725 180.163636 \r\nL 312.586373 106.036364 \r\nL 312.709697 110.978182 \r\nL 312.833021 110.978182 \r\nL 313.079669 120.861818 \r\nL 313.202993 155.454545 \r\nL 313.572965 170.28 \r\nL 313.696289 165.338182 \r\nL 314.066261 165.338182 \r\nL 314.189585 170.28 \r\nL 314.312909 165.338182 \r\nL 314.436233 165.338182 \r\nL 314.559557 170.28 \r\nL 314.682881 170.28 \r\nL 314.806205 165.338182 \r\nL 314.929529 165.338182 \r\nL 315.052853 170.28 \r\nL 315.176177 165.338182 \r\nL 315.792797 165.338182 \r\nL 315.916121 170.28 \r\nL 316.039445 165.338182 \r\nL 316.162769 165.338182 \r\nL 316.286093 170.28 \r\nL 316.409417 165.338182 \r\nL 316.532741 170.28 \r\nL 316.656065 165.338182 \r\nL 317.026037 165.338182 \r\nL 317.149361 170.28 \r\nL 317.272685 165.338182 \r\nL 317.396009 170.28 \r\nL 317.765981 170.28 \r\nL 317.889305 165.338182 \r\nL 318.259277 165.338182 \r\nL 318.382601 170.28 \r\nL 318.505925 165.338182 \r\nL 318.752573 165.338182 \r\nL 318.875897 170.28 \r\nL 318.999221 165.338182 \r\nL 319.369193 165.338182 \r\nL 319.492517 170.28 \r\nL 319.615841 165.338182 \r\nL 319.985813 165.338182 \r\nL 320.109137 170.28 \r\nL 320.232461 165.338182 \r\nL 321.095729 165.338182 \r\nL 321.219053 175.221818 \r\nL 321.342377 170.28 \r\nL 321.465701 175.221818 \r\nL 321.589025 175.221818 \r\nL 321.712349 170.28 \r\nL 321.835673 170.28 \r\nL 321.958997 165.338182 \r\nL 322.082321 165.338182 \r\nL 322.205645 170.28 \r\nL 322.328969 165.338182 \r\nL 322.575617 165.338182 \r\nL 322.698941 170.28 \r\nL 323.068913 31.909091 \r\nL 323.192237 51.676364 \r\nL 323.438885 150.512727 \r\nL 323.685533 170.28 \r\nL 323.808857 170.28 \r\nL 323.932181 165.338182 \r\nL 324.055505 165.338182 \r\nL 324.178829 170.28 \r\nL 324.302153 165.338182 \r\nL 324.918773 165.338182 \r\nL 325.042097 170.28 \r\nL 325.165421 165.338182 \r\nL 325.905365 165.338182 \r\nL 326.028689 170.28 \r\nL 326.152013 165.338182 \r\nL 327.261929 165.338182 \r\nL 327.385253 170.28 \r\nL 327.508577 165.338182 \r\nL 327.878549 165.338182 \r\nL 328.001873 170.28 \r\nL 328.495169 170.28 \r\nL 328.618493 165.338182 \r\nL 328.741817 170.28 \r\nL 328.865141 165.338182 \r\nL 329.605085 165.338182 \r\nL 329.728409 170.28 \r\nL 329.851733 165.338182 \r\nL 330.715001 165.338182 \r\nL 330.838325 190.047273 \r\nL 330.961649 170.28 \r\nL 331.084973 170.28 \r\nL 331.208297 165.338182 \r\nL 331.454945 165.338182 \r\nL 331.578269 170.28 \r\nL 331.701593 165.338182 \r\nL 331.824917 170.28 \r\nL 331.948241 165.338182 \r\nL 332.688185 165.338182 \r\nL 332.811509 170.28 \r\nL 332.934833 165.338182 \r\nL 333.304805 165.338182 \r\nL 333.428129 170.28 \r\nL 333.551453 165.338182 \r\nL 333.674777 170.28 \r\nL 333.798101 165.338182 \r\nL 333.921425 170.28 \r\nL 334.044749 165.338182 \r\nL 334.414721 165.338182 \r\nL 334.538045 170.28 \r\nL 334.661369 165.338182 \r\nL 334.784693 170.28 \r\nL 335.154665 170.28 \r\nL 335.277989 165.338182 \r\nL 335.401313 165.338182 \r\nL 335.524637 170.28 \r\nL 335.647961 165.338182 \r\nL 335.771285 170.28 \r\nL 335.894609 165.338182 \r\nL 336.387905 165.338182 \r\nL 336.511229 170.28 \r\nL 336.634553 165.338182 \r\nL 337.251173 165.338182 \r\nL 337.374497 175.221818 \r\nL 337.497821 165.338182 \r\nL 337.744469 165.338182 \r\nL 337.867793 170.28 \r\nL 337.991117 165.338182 \r\nL 338.114441 165.338182 \r\nL 338.237765 170.28 \r\nL 338.361089 165.338182 \r\nL 338.607737 165.338182 \r\nL 338.731061 175.221818 \r\nL 338.854385 170.28 \r\nL 338.977709 170.28 \r\nL 339.101033 165.338182 \r\nL 339.224357 170.28 \r\nL 339.347681 165.338182 \r\nL 339.840977 165.338182 \r\nL 339.964301 170.28 \r\nL 340.087625 165.338182 \r\nL 340.210949 185.105455 \r\nL 340.334273 165.338182 \r\nL 340.457597 165.338182 \r\nL 340.580921 170.28 \r\nL 340.704245 180.163636 \r\nL 341.074217 165.338182 \r\nL 341.197541 170.28 \r\nL 341.567513 170.28 \r\nL 341.690837 165.338182 \r\nL 341.814161 170.28 \r\nL 341.937485 170.28 \r\nL 342.060809 175.221818 \r\nL 342.184133 175.221818 \r\nL 342.307458 170.28 \r\nL 342.430782 170.28 \r\nL 342.554106 209.814545 \r\nL 342.67743 170.28 \r\nL 342.924078 170.28 \r\nL 343.047402 165.338182 \r\nL 343.170726 170.28 \r\nL 343.29405 165.338182 \r\nL 343.417374 170.28 \r\nL 343.540698 165.338182 \r\nL 343.664022 170.28 \r\nL 343.787346 170.28 \r\nL 343.91067 165.338182 \r\nL 344.033994 165.338182 \r\nL 344.280642 175.221818 \r\nL 344.403966 170.28 \r\nL 344.650614 170.28 \r\nL 344.773938 165.338182 \r\nL 344.897262 185.105455 \r\nL 345.020586 165.338182 \r\nL 345.267234 46.734545 \r\nL 345.390558 41.792727 \r\nL 345.76053 165.338182 \r\nL 346.007178 165.338182 \r\nL 346.130502 170.28 \r\nL 346.253826 165.338182 \r\nL 346.37715 165.338182 \r\nL 346.500474 170.28 \r\nL 346.623798 165.338182 \r\nL 346.747122 165.338182 \r\nL 346.870446 170.28 \r\nL 346.99377 165.338182 \r\nL 347.117094 170.28 \r\nL 347.240418 165.338182 \r\nL 347.487066 165.338182 \r\nL 347.61039 170.28 \r\nL 347.733714 165.338182 \r\nL 347.857038 170.28 \r\nL 347.980362 165.338182 \r\nL 348.103686 170.28 \r\nL 348.22701 165.338182 \r\nL 348.473658 165.338182 \r\nL 348.596982 175.221818 \r\nL 348.720306 165.338182 \r\nL 349.46025 165.338182 \r\nL 349.583574 185.105455 \r\nL 349.706898 185.105455 \r\nL 349.830222 170.28 \r\nL 349.953546 170.28 \r\nL 350.07687 165.338182 \r\nL 350.200194 165.338182 \r\nL 350.323518 170.28 \r\nL 350.446842 165.338182 \r\nL 351.433434 165.338182 \r\nL 351.556758 170.28 \r\nL 351.680082 165.338182 \r\nL 351.803406 170.28 \r\nL 351.92673 165.338182 \r\nL 352.050054 170.28 \r\nL 352.173378 170.28 \r\nL 352.296702 165.338182 \r\nL 353.036646 165.338182 \r\nL 353.15997 170.28 \r\nL 353.283294 165.338182 \r\nL 353.529942 165.338182 \r\nL 353.653266 170.28 \r\nL 353.899914 170.28 \r\nL 354.023238 165.338182 \r\nL 354.39321 165.338182 \r\nL 354.516534 170.28 \r\nL 354.639858 170.28 \r\nL 354.763182 165.338182 \r\nL 354.886506 165.338182 \r\nL 354.886506 165.338182 \r\n\" style=\"fill:none;stroke:#1f77b4;stroke-linecap:square;stroke-width:1.5;\"/>\r\n   </g>\r\n   <g id=\"patch_3\">\r\n    <path d=\"M 35.304688 224.64 \r\nL 35.304688 7.2 \r\n\" style=\"fill:none;stroke:#000000;stroke-linecap:square;stroke-linejoin:miter;stroke-width:0.8;\"/>\r\n   </g>\r\n   <g id=\"patch_4\">\r\n    <path d=\"M 370.104688 224.64 \r\nL 370.104688 7.2 \r\n\" style=\"fill:none;stroke:#000000;stroke-linecap:square;stroke-linejoin:miter;stroke-width:0.8;\"/>\r\n   </g>\r\n   <g id=\"patch_5\">\r\n    <path d=\"M 35.304688 224.64 \r\nL 370.104688 224.64 \r\n\" style=\"fill:none;stroke:#000000;stroke-linecap:square;stroke-linejoin:miter;stroke-width:0.8;\"/>\r\n   </g>\r\n   <g id=\"patch_6\">\r\n    <path d=\"M 35.304688 7.2 \r\nL 370.104688 7.2 \r\n\" style=\"fill:none;stroke:#000000;stroke-linecap:square;stroke-linejoin:miter;stroke-width:0.8;\"/>\r\n   </g>\r\n   <g id=\"legend_1\">\r\n    <g id=\"patch_7\">\r\n     <path d=\"M 154.064063 219.64 \r\nL 251.345313 219.64 \r\nQ 253.345313 219.64 253.345313 217.64 \r\nL 253.345313 203.68375 \r\nQ 253.345313 201.68375 251.345313 201.68375 \r\nL 154.064063 201.68375 \r\nQ 152.064063 201.68375 152.064063 203.68375 \r\nL 152.064063 217.64 \r\nQ 152.064063 219.64 154.064063 219.64 \r\nz\r\n\" style=\"fill:#ffffff;opacity:0.8;stroke:#cccccc;stroke-linejoin:miter;\"/>\r\n    </g>\r\n    <g id=\"line2d_17\">\r\n     <path d=\"M 156.064063 209.782187 \r\nL 176.064063 209.782187 \r\n\" style=\"fill:none;stroke:#1f77b4;stroke-linecap:square;stroke-width:1.5;\"/>\r\n    </g>\r\n    <g id=\"line2d_18\"/>\r\n    <g id=\"text_16\">\r\n     <!-- battery_level -->\r\n     <g transform=\"translate(184.064063 213.282187)scale(0.1 -0.1)\">\r\n      <defs>\r\n       <path d=\"M 48.6875 27.296875 \r\nQ 48.6875 37.203125 44.609375 42.84375 \r\nQ 40.53125 48.484375 33.40625 48.484375 \r\nQ 26.265625 48.484375 22.1875 42.84375 \r\nQ 18.109375 37.203125 18.109375 27.296875 \r\nQ 18.109375 17.390625 22.1875 11.75 \r\nQ 26.265625 6.109375 33.40625 6.109375 \r\nQ 40.53125 6.109375 44.609375 11.75 \r\nQ 48.6875 17.390625 48.6875 27.296875 \r\nz\r\nM 18.109375 46.390625 \r\nQ 20.953125 51.265625 25.265625 53.625 \r\nQ 29.59375 56 35.59375 56 \r\nQ 45.5625 56 51.78125 48.09375 \r\nQ 58.015625 40.1875 58.015625 27.296875 \r\nQ 58.015625 14.40625 51.78125 6.484375 \r\nQ 45.5625 -1.421875 35.59375 -1.421875 \r\nQ 29.59375 -1.421875 25.265625 0.953125 \r\nQ 20.953125 3.328125 18.109375 8.203125 \r\nL 18.109375 0 \r\nL 9.078125 0 \r\nL 9.078125 75.984375 \r\nL 18.109375 75.984375 \r\nz\r\n\" id=\"DejaVuSans-98\"/>\r\n       <path d=\"M 34.28125 27.484375 \r\nQ 23.390625 27.484375 19.1875 25 \r\nQ 14.984375 22.515625 14.984375 16.5 \r\nQ 14.984375 11.71875 18.140625 8.90625 \r\nQ 21.296875 6.109375 26.703125 6.109375 \r\nQ 34.1875 6.109375 38.703125 11.40625 \r\nQ 43.21875 16.703125 43.21875 25.484375 \r\nL 43.21875 27.484375 \r\nz\r\nM 52.203125 31.203125 \r\nL 52.203125 0 \r\nL 43.21875 0 \r\nL 43.21875 8.296875 \r\nQ 40.140625 3.328125 35.546875 0.953125 \r\nQ 30.953125 -1.421875 24.3125 -1.421875 \r\nQ 15.921875 -1.421875 10.953125 3.296875 \r\nQ 6 8.015625 6 15.921875 \r\nQ 6 25.140625 12.171875 29.828125 \r\nQ 18.359375 34.515625 30.609375 34.515625 \r\nL 43.21875 34.515625 \r\nL 43.21875 35.40625 \r\nQ 43.21875 41.609375 39.140625 45 \r\nQ 35.0625 48.390625 27.6875 48.390625 \r\nQ 23 48.390625 18.546875 47.265625 \r\nQ 14.109375 46.140625 10.015625 43.890625 \r\nL 10.015625 52.203125 \r\nQ 14.9375 54.109375 19.578125 55.046875 \r\nQ 24.21875 56 28.609375 56 \r\nQ 40.484375 56 46.34375 49.84375 \r\nQ 52.203125 43.703125 52.203125 31.203125 \r\nz\r\n\" id=\"DejaVuSans-97\"/>\r\n       <path d=\"M 18.3125 70.21875 \r\nL 18.3125 54.6875 \r\nL 36.8125 54.6875 \r\nL 36.8125 47.703125 \r\nL 18.3125 47.703125 \r\nL 18.3125 18.015625 \r\nQ 18.3125 11.328125 20.140625 9.421875 \r\nQ 21.96875 7.515625 27.59375 7.515625 \r\nL 36.8125 7.515625 \r\nL 36.8125 0 \r\nL 27.59375 0 \r\nQ 17.1875 0 13.234375 3.875 \r\nQ 9.28125 7.765625 9.28125 18.015625 \r\nL 9.28125 47.703125 \r\nL 2.6875 47.703125 \r\nL 2.6875 54.6875 \r\nL 9.28125 54.6875 \r\nL 9.28125 70.21875 \r\nz\r\n\" id=\"DejaVuSans-116\"/>\r\n       <path d=\"M 56.203125 29.59375 \r\nL 56.203125 25.203125 \r\nL 14.890625 25.203125 \r\nQ 15.484375 15.921875 20.484375 11.0625 \r\nQ 25.484375 6.203125 34.421875 6.203125 \r\nQ 39.59375 6.203125 44.453125 7.46875 \r\nQ 49.3125 8.734375 54.109375 11.28125 \r\nL 54.109375 2.78125 \r\nQ 49.265625 0.734375 44.1875 -0.34375 \r\nQ 39.109375 -1.421875 33.890625 -1.421875 \r\nQ 20.796875 -1.421875 13.15625 6.1875 \r\nQ 5.515625 13.8125 5.515625 26.8125 \r\nQ 5.515625 40.234375 12.765625 48.109375 \r\nQ 20.015625 56 32.328125 56 \r\nQ 43.359375 56 49.78125 48.890625 \r\nQ 56.203125 41.796875 56.203125 29.59375 \r\nz\r\nM 47.21875 32.234375 \r\nQ 47.125 39.59375 43.09375 43.984375 \r\nQ 39.0625 48.390625 32.421875 48.390625 \r\nQ 24.90625 48.390625 20.390625 44.140625 \r\nQ 15.875 39.890625 15.1875 32.171875 \r\nz\r\n\" id=\"DejaVuSans-101\"/>\r\n       <path d=\"M 41.109375 46.296875 \r\nQ 39.59375 47.171875 37.8125 47.578125 \r\nQ 36.03125 48 33.890625 48 \r\nQ 26.265625 48 22.1875 43.046875 \r\nQ 18.109375 38.09375 18.109375 28.8125 \r\nL 18.109375 0 \r\nL 9.078125 0 \r\nL 9.078125 54.6875 \r\nL 18.109375 54.6875 \r\nL 18.109375 46.1875 \r\nQ 20.953125 51.171875 25.484375 53.578125 \r\nQ 30.03125 56 36.53125 56 \r\nQ 37.453125 56 38.578125 55.875 \r\nQ 39.703125 55.765625 41.0625 55.515625 \r\nz\r\n\" id=\"DejaVuSans-114\"/>\r\n       <path d=\"M 32.171875 -5.078125 \r\nQ 28.375 -14.84375 24.75 -17.8125 \r\nQ 21.140625 -20.796875 15.09375 -20.796875 \r\nL 7.90625 -20.796875 \r\nL 7.90625 -13.28125 \r\nL 13.1875 -13.28125 \r\nQ 16.890625 -13.28125 18.9375 -11.515625 \r\nQ 21 -9.765625 23.484375 -3.21875 \r\nL 25.09375 0.875 \r\nL 2.984375 54.6875 \r\nL 12.5 54.6875 \r\nL 29.59375 11.921875 \r\nL 46.6875 54.6875 \r\nL 56.203125 54.6875 \r\nz\r\n\" id=\"DejaVuSans-121\"/>\r\n       <path d=\"M 50.984375 -16.609375 \r\nL 50.984375 -23.578125 \r\nL -0.984375 -23.578125 \r\nL -0.984375 -16.609375 \r\nz\r\n\" id=\"DejaVuSans-95\"/>\r\n       <path d=\"M 9.421875 75.984375 \r\nL 18.40625 75.984375 \r\nL 18.40625 0 \r\nL 9.421875 0 \r\nz\r\n\" id=\"DejaVuSans-108\"/>\r\n       <path d=\"M 2.984375 54.6875 \r\nL 12.5 54.6875 \r\nL 29.59375 8.796875 \r\nL 46.6875 54.6875 \r\nL 56.203125 54.6875 \r\nL 35.6875 0 \r\nL 23.484375 0 \r\nz\r\n\" id=\"DejaVuSans-118\"/>\r\n      </defs>\r\n      <use xlink:href=\"#DejaVuSans-98\"/>\r\n      <use x=\"63.476562\" xlink:href=\"#DejaVuSans-97\"/>\r\n      <use x=\"124.755859\" xlink:href=\"#DejaVuSans-116\"/>\r\n      <use x=\"163.964844\" xlink:href=\"#DejaVuSans-116\"/>\r\n      <use x=\"203.173828\" xlink:href=\"#DejaVuSans-101\"/>\r\n      <use x=\"264.697266\" xlink:href=\"#DejaVuSans-114\"/>\r\n      <use x=\"305.810547\" xlink:href=\"#DejaVuSans-121\"/>\r\n      <use x=\"364.990234\" xlink:href=\"#DejaVuSans-95\"/>\r\n      <use x=\"414.990234\" xlink:href=\"#DejaVuSans-108\"/>\r\n      <use x=\"442.773438\" xlink:href=\"#DejaVuSans-101\"/>\r\n      <use x=\"504.296875\" xlink:href=\"#DejaVuSans-118\"/>\r\n      <use x=\"563.476562\" xlink:href=\"#DejaVuSans-101\"/>\r\n      <use x=\"625\" xlink:href=\"#DejaVuSans-108\"/>\r\n     </g>\r\n    </g>\r\n   </g>\r\n  </g>\r\n </g>\r\n <defs>\r\n  <clipPath id=\"p66ae1fea40\">\r\n   <rect height=\"217.44\" width=\"334.8\" x=\"35.304688\" y=\"7.2\"/>\r\n  </clipPath>\r\n </defs>\r\n</svg>\r\n",
      "image/png": "[encoded data removed]"
     },
     "metadata": {
      "needs_background": "light"
     }
    }
   ],
   "source": [
    "batterie.plot(y='battery_level')"
   ]
  },
  {
   "cell_type": "code",
   "execution_count": 415,
   "metadata": {},
   "outputs": [],
   "source": [
    "class MarkovChain(object):\n",
    "    def __init__(self, matrix):\n",
    "        \"\"\"\n",
    "        Initialize the MarkovChain instance.\n",
    " \n",
    "        Parameters\n",
    "        ----------\n",
    "        transition_prob: dict\n",
    "            A dict object representing the transition \n",
    "            probabilities in Markov Chain. \n",
    "            Should be of the form: \n",
    "                {'state1': {'state1': 0.1, 'state2': 0.4}, \n",
    "                 'state2': {...}}\n",
    "        \"\"\"\n",
    "        self.matrix = matrix\n",
    " \n",
    "    def next_state(self, current_state):\n",
    "        \"\"\"\n",
    "        Returns the state of the random variable at the next time \n",
    "        instance.\n",
    " \n",
    "        Parameters\n",
    "        ----------\n",
    "        current_state: str\n",
    "            The current state of the system.\n",
    "        \"\"\"\n",
    "        nextState = np.matmul(self.matrix, current_state)\n",
    "        candidates = []\n",
    "        weight = []\n",
    "        for i in range(len(nextState)):\n",
    "            if(nextState[i] != 0):\n",
    "                candidates.append(i)\n",
    "                weight.append(nextState[i])\n",
    "                \n",
    "        if(len(candidates) == 0 or len(weight) == 0):\n",
    "            print(\"Last States Error\")\n",
    "            return current_state\n",
    "\n",
    "        s = random.choices(candidates, weights=weight, k=1)\n",
    "        res = np.full((640,1), 0.0)\n",
    "        res[s] = 1\n",
    "        return res\n",
    "\n",
    " \n",
    "    def generate_states(self, current_state, no=10):\n",
    "        \"\"\"\n",
    "        Generates the next states of the system.\n",
    " \n",
    "        Parameters\n",
    "        ----------\n",
    "        current_state: str\n",
    "            The state of the current random variable.\n",
    " \n",
    "        no: int\n",
    "            The number of future states to generate.\n",
    "        \"\"\"\n",
    "        future_states = []\n",
    "        for i in range(no):\n",
    "            next_state = self.next_state(current_state)\n",
    "            future_states.append(next_state)\n",
    "            current_state = next_state\n",
    "        return future_states"
   ]
  },
  {
   "cell_type": "code",
   "execution_count": null,
   "metadata": {},
   "outputs": [],
   "source": [
    "d0 = date(2008, 8, 18)\n",
    "d1 = date(2008, 9, 26)\n",
    "delta = d1 - d0\n",
    "print(delta.days)"
   ]
  },
  {
   "cell_type": "code",
   "execution_count": 159,
   "metadata": {
    "tags": []
   },
   "outputs": [],
   "source": [
    "t = batterie['time'].to_numpy()\n",
    "pre = t[0]\n",
    "c = 0\n",
    "cArray = []\n",
    "for i in t:\n",
    "   diff = i - pre\n",
    "   pre = i\n",
    "   cArray.append(c)\n",
    "   if(diff.astype('timedelta64[m]') > np.timedelta64(2,'m')):\n",
    "       #print(diff.astype('timedelta64[m]'))  \n",
    "       #print(c)\n",
    "       c = c + 1\n",
    "#batterie['time']"
   ]
  },
  {
   "cell_type": "code",
   "execution_count": 161,
   "metadata": {},
   "outputs": [],
   "source": [
    "df['group'] = cArray"
   ]
  },
  {
   "cell_type": "code",
   "execution_count": 162,
   "metadata": {},
   "outputs": [
    {
     "output_type": "execute_result",
     "data": {
      "text/plain": [
       "      battery_level  battery_plugged  battery_status day month  \\\n",
       "0              25.0              1.0             2.0  31     8   \n",
       "1               3.0              0.0             0.0  31     8   \n",
       "2               1.0              1.0             4.5  31     8   \n",
       "3               0.0              1.0             5.0  31     8   \n",
       "5               0.0              0.0             0.0  31     8   \n",
       "...             ...              ...             ...  ..   ...   \n",
       "2464            0.0              0.0             0.0   7     3   \n",
       "2465           -1.0              0.0             3.0   7     3   \n",
       "2466           -1.0              0.0             3.0   7     3   \n",
       "2467            0.0              0.0             0.0   7     3   \n",
       "2468            0.0              0.0             0.0   7     3   \n",
       "\n",
       "      packages_running_ch.smalltech.battery.free  \\\n",
       "0                                            0.0   \n",
       "1                                            0.0   \n",
       "2                                            0.0   \n",
       "3                                            0.0   \n",
       "5                                            0.0   \n",
       "...                                          ...   \n",
       "2464                                         1.0   \n",
       "2465                                         1.0   \n",
       "2466                                         1.0   \n",
       "2467                                         1.0   \n",
       "2468                                         1.0   \n",
       "\n",
       "      packages_running_com.android.bluetooth  \\\n",
       "0                                        0.0   \n",
       "1                                        0.0   \n",
       "2                                        0.0   \n",
       "3                                        0.0   \n",
       "5                                        0.0   \n",
       "...                                      ...   \n",
       "2464                                     0.0   \n",
       "2465                                     0.0   \n",
       "2466                                     0.0   \n",
       "2467                                     0.0   \n",
       "2468                                     0.0   \n",
       "\n",
       "      packages_running_com.android.calculator2  \\\n",
       "0                                          0.0   \n",
       "1                                          0.0   \n",
       "2                                          0.0   \n",
       "3                                          0.0   \n",
       "5                                          0.0   \n",
       "...                                        ...   \n",
       "2464                                       0.0   \n",
       "2465                                       0.0   \n",
       "2466                                       0.0   \n",
       "2467                                       0.0   \n",
       "2468                                       0.0   \n",
       "\n",
       "      packages_running_com.android.chrome  \\\n",
       "0                                     1.0   \n",
       "1                                     1.0   \n",
       "2                                     1.0   \n",
       "3                                     1.0   \n",
       "5                                     0.0   \n",
       "...                                   ...   \n",
       "2464                                  0.0   \n",
       "2465                                  0.0   \n",
       "2466                                  0.0   \n",
       "2467                                  0.0   \n",
       "2468                                  0.0   \n",
       "\n",
       "      packages_running_com.android.contacts  ...  \\\n",
       "0                                       0.0  ...   \n",
       "1                                       0.0  ...   \n",
       "2                                       0.0  ...   \n",
       "3                                       0.0  ...   \n",
       "5                                       0.0  ...   \n",
       "...                                     ...  ...   \n",
       "2464                                    0.0  ...   \n",
       "2465                                    0.0  ...   \n",
       "2466                                    0.0  ...   \n",
       "2467                                    0.0  ...   \n",
       "2468                                    0.0  ...   \n",
       "\n",
       "      packages_running_com.halfbrick.fruitninjafree  \\\n",
       "0                                               0.0   \n",
       "1                                               0.0   \n",
       "2                                               0.0   \n",
       "3                                               0.0   \n",
       "5                                               0.0   \n",
       "...                                             ...   \n",
       "2464                                            0.0   \n",
       "2465                                            0.0   \n",
       "2466                                            0.0   \n",
       "2467                                            0.0   \n",
       "2468                                            0.0   \n",
       "\n",
       "      packages_running_com.rovio.angrybirdsspace.ads  \\\n",
       "0                                                0.0   \n",
       "1                                                0.0   \n",
       "2                                                0.0   \n",
       "3                                                0.0   \n",
       "5                                                0.0   \n",
       "...                                              ...   \n",
       "2464                                             0.0   \n",
       "2465                                             0.0   \n",
       "2466                                             0.0   \n",
       "2467                                             0.0   \n",
       "2468                                             0.0   \n",
       "\n",
       "      packages_running_com.tf.thinkdroid.sg  \\\n",
       "0                                       0.0   \n",
       "1                                       0.0   \n",
       "2                                       0.0   \n",
       "3                                       0.0   \n",
       "5                                       0.0   \n",
       "...                                     ...   \n",
       "2464                                    1.0   \n",
       "2465                                    1.0   \n",
       "2466                                    1.0   \n",
       "2467                                    1.0   \n",
       "2468                                    1.0   \n",
       "\n",
       "      packages_running_de.kicktipp.mbookmark  \\\n",
       "0                                        0.0   \n",
       "1                                        0.0   \n",
       "2                                        0.0   \n",
       "3                                        0.0   \n",
       "5                                        0.0   \n",
       "...                                      ...   \n",
       "2464                                     1.0   \n",
       "2465                                     1.0   \n",
       "2466                                     1.0   \n",
       "2467                                     1.0   \n",
       "2468                                     1.0   \n",
       "\n",
       "      packages_running_edu.udo.cs.ess.mobidac.target  \\\n",
       "0                                                1.0   \n",
       "1                                                1.0   \n",
       "2                                                1.0   \n",
       "3                                                1.0   \n",
       "5                                                1.0   \n",
       "...                                              ...   \n",
       "2464                                             1.0   \n",
       "2465                                             1.0   \n",
       "2466                                             1.0   \n",
       "2467                                             1.0   \n",
       "2468                                             1.0   \n",
       "\n",
       "      packages_running_org.openintents.filemanager  slot  year       time  \\\n",
       "0                                              0.0   3.0  2012 2012-08-31   \n",
       "1                                              0.0   4.0  2012 2012-08-31   \n",
       "2                                              0.0   8.0  2012 2012-08-31   \n",
       "3                                              0.0  12.0  2012 2012-08-31   \n",
       "5                                              0.0  17.0  2012 2012-08-31   \n",
       "...                                            ...   ...   ...        ...   \n",
       "2464                                           0.0  31.0  2013 2013-03-07   \n",
       "2465                                           0.0  32.0  2013 2013-03-07   \n",
       "2466                                           0.0  36.0  2013 2013-03-07   \n",
       "2467                                           0.0  38.0  2013 2013-03-07   \n",
       "2468                                           0.0  39.0  2013 2013-03-07   \n",
       "\n",
       "      group  \n",
       "0         0  \n",
       "1         0  \n",
       "2         0  \n",
       "3         0  \n",
       "5         0  \n",
       "...     ...  \n",
       "2464    109  \n",
       "2465    109  \n",
       "2466    109  \n",
       "2467    109  \n",
       "2468    109  \n",
       "\n",
       "[2444 rows x 55 columns]"
      ],
      "text/html": "<div>\n<style scoped>\n    .dataframe tbody tr th:only-of-type {\n        vertical-align: middle;\n    }\n\n    .dataframe tbody tr th {\n        vertical-align: top;\n    }\n\n    .dataframe thead th {\n        text-align: right;\n    }\n</style>\n<table border=\"1\" class=\"dataframe\">\n  <thead>\n    <tr style=\"text-align: right;\">\n      <th></th>\n      <th>battery_level</th>\n      <th>battery_plugged</th>\n      <th>battery_status</th>\n      <th>day</th>\n      <th>month</th>\n      <th>packages_running_ch.smalltech.battery.free</th>\n      <th>packages_running_com.android.bluetooth</th>\n      <th>packages_running_com.android.calculator2</th>\n      <th>packages_running_com.android.chrome</th>\n      <th>packages_running_com.android.contacts</th>\n      <th>...</th>\n      <th>packages_running_com.halfbrick.fruitninjafree</th>\n      <th>packages_running_com.rovio.angrybirdsspace.ads</th>\n      <th>packages_running_com.tf.thinkdroid.sg</th>\n      <th>packages_running_de.kicktipp.mbookmark</th>\n      <th>packages_running_edu.udo.cs.ess.mobidac.target</th>\n      <th>packages_running_org.openintents.filemanager</th>\n      <th>slot</th>\n      <th>year</th>\n      <th>time</th>\n      <th>group</th>\n    </tr>\n  </thead>\n  <tbody>\n    <tr>\n      <th>0</th>\n      <td>25.0</td>\n      <td>1.0</td>\n      <td>2.0</td>\n      <td>31</td>\n      <td>8</td>\n      <td>0.0</td>\n      <td>0.0</td>\n      <td>0.0</td>\n      <td>1.0</td>\n      <td>0.0</td>\n      <td>...</td>\n      <td>0.0</td>\n      <td>0.0</td>\n      <td>0.0</td>\n      <td>0.0</td>\n      <td>1.0</td>\n      <td>0.0</td>\n      <td>3.0</td>\n      <td>2012</td>\n      <td>2012-08-31</td>\n      <td>0</td>\n    </tr>\n    <tr>\n      <th>1</th>\n      <td>3.0</td>\n      <td>0.0</td>\n      <td>0.0</td>\n      <td>31</td>\n      <td>8</td>\n      <td>0.0</td>\n      <td>0.0</td>\n      <td>0.0</td>\n      <td>1.0</td>\n      <td>0.0</td>\n      <td>...</td>\n      <td>0.0</td>\n      <td>0.0</td>\n      <td>0.0</td>\n      <td>0.0</td>\n      <td>1.0</td>\n      <td>0.0</td>\n      <td>4.0</td>\n      <td>2012</td>\n      <td>2012-08-31</td>\n      <td>0</td>\n    </tr>\n    <tr>\n      <th>2</th>\n      <td>1.0</td>\n      <td>1.0</td>\n      <td>4.5</td>\n      <td>31</td>\n      <td>8</td>\n      <td>0.0</td>\n      <td>0.0</td>\n      <td>0.0</td>\n      <td>1.0</td>\n      <td>0.0</td>\n      <td>...</td>\n      <td>0.0</td>\n      <td>0.0</td>\n      <td>0.0</td>\n      <td>0.0</td>\n      <td>1.0</td>\n      <td>0.0</td>\n      <td>8.0</td>\n      <td>2012</td>\n      <td>2012-08-31</td>\n      <td>0</td>\n    </tr>\n    <tr>\n      <th>3</th>\n      <td>0.0</td>\n      <td>1.0</td>\n      <td>5.0</td>\n      <td>31</td>\n      <td>8</td>\n      <td>0.0</td>\n      <td>0.0</td>\n      <td>0.0</td>\n      <td>1.0</td>\n      <td>0.0</td>\n      <td>...</td>\n      <td>0.0</td>\n      <td>0.0</td>\n      <td>0.0</td>\n      <td>0.0</td>\n      <td>1.0</td>\n      <td>0.0</td>\n      <td>12.0</td>\n      <td>2012</td>\n      <td>2012-08-31</td>\n      <td>0</td>\n    </tr>\n    <tr>\n      <th>5</th>\n      <td>0.0</td>\n      <td>0.0</td>\n      <td>0.0</td>\n      <td>31</td>\n      <td>8</td>\n      <td>0.0</td>\n      <td>0.0</td>\n      <td>0.0</td>\n      <td>0.0</td>\n      <td>0.0</td>\n      <td>...</td>\n      <td>0.0</td>\n      <td>0.0</td>\n      <td>0.0</td>\n      <td>0.0</td>\n      <td>1.0</td>\n      <td>0.0</td>\n      <td>17.0</td>\n      <td>2012</td>\n      <td>2012-08-31</td>\n      <td>0</td>\n    </tr>\n    <tr>\n      <th>...</th>\n      <td>...</td>\n      <td>...</td>\n      <td>...</td>\n      <td>...</td>\n      <td>...</td>\n      <td>...</td>\n      <td>...</td>\n      <td>...</td>\n      <td>...</td>\n      <td>...</td>\n      <td>...</td>\n      <td>...</td>\n      <td>...</td>\n      <td>...</td>\n      <td>...</td>\n      <td>...</td>\n      <td>...</td>\n      <td>...</td>\n      <td>...</td>\n      <td>...</td>\n      <td>...</td>\n    </tr>\n    <tr>\n      <th>2464</th>\n      <td>0.0</td>\n      <td>0.0</td>\n      <td>0.0</td>\n      <td>7</td>\n      <td>3</td>\n      <td>1.0</td>\n      <td>0.0</td>\n      <td>0.0</td>\n      <td>0.0</td>\n      <td>0.0</td>\n      <td>...</td>\n      <td>0.0</td>\n      <td>0.0</td>\n      <td>1.0</td>\n      <td>1.0</td>\n      <td>1.0</td>\n      <td>0.0</td>\n      <td>31.0</td>\n      <td>2013</td>\n      <td>2013-03-07</td>\n      <td>109</td>\n    </tr>\n    <tr>\n      <th>2465</th>\n      <td>-1.0</td>\n      <td>0.0</td>\n      <td>3.0</td>\n      <td>7</td>\n      <td>3</td>\n      <td>1.0</td>\n      <td>0.0</td>\n      <td>0.0</td>\n      <td>0.0</td>\n      <td>0.0</td>\n      <td>...</td>\n      <td>0.0</td>\n      <td>0.0</td>\n      <td>1.0</td>\n      <td>1.0</td>\n      <td>1.0</td>\n      <td>0.0</td>\n      <td>32.0</td>\n      <td>2013</td>\n      <td>2013-03-07</td>\n      <td>109</td>\n    </tr>\n    <tr>\n      <th>2466</th>\n      <td>-1.0</td>\n      <td>0.0</td>\n      <td>3.0</td>\n      <td>7</td>\n      <td>3</td>\n      <td>1.0</td>\n      <td>0.0</td>\n      <td>0.0</td>\n      <td>0.0</td>\n      <td>0.0</td>\n      <td>...</td>\n      <td>0.0</td>\n      <td>0.0</td>\n      <td>1.0</td>\n      <td>1.0</td>\n      <td>1.0</td>\n      <td>0.0</td>\n      <td>36.0</td>\n      <td>2013</td>\n      <td>2013-03-07</td>\n      <td>109</td>\n    </tr>\n    <tr>\n      <th>2467</th>\n      <td>0.0</td>\n      <td>0.0</td>\n      <td>0.0</td>\n      <td>7</td>\n      <td>3</td>\n      <td>1.0</td>\n      <td>0.0</td>\n      <td>0.0</td>\n      <td>0.0</td>\n      <td>0.0</td>\n      <td>...</td>\n      <td>0.0</td>\n      <td>0.0</td>\n      <td>1.0</td>\n      <td>1.0</td>\n      <td>1.0</td>\n      <td>0.0</td>\n      <td>38.0</td>\n      <td>2013</td>\n      <td>2013-03-07</td>\n      <td>109</td>\n    </tr>\n    <tr>\n      <th>2468</th>\n      <td>0.0</td>\n      <td>0.0</td>\n      <td>0.0</td>\n      <td>7</td>\n      <td>3</td>\n      <td>1.0</td>\n      <td>0.0</td>\n      <td>0.0</td>\n      <td>0.0</td>\n      <td>0.0</td>\n      <td>...</td>\n      <td>0.0</td>\n      <td>0.0</td>\n      <td>1.0</td>\n      <td>1.0</td>\n      <td>1.0</td>\n      <td>0.0</td>\n      <td>39.0</td>\n      <td>2013</td>\n      <td>2013-03-07</td>\n      <td>109</td>\n    </tr>\n  </tbody>\n</table>\n<p>2444 rows × 55 columns</p>\n</div>"
     },
     "metadata": {},
     "execution_count": 162
    }
   ],
   "source": [
    "df"
   ]
  },
  {
   "cell_type": "code",
   "execution_count": 166,
   "metadata": {},
   "outputs": [
    {
     "output_type": "execute_result",
     "data": {
      "text/plain": [
       "    battery_plugged  packages_running_ch.smalltech.battery.free  \\\n",
       "0               1.0                                         0.0   \n",
       "1               0.0                                         0.0   \n",
       "2               1.0                                         0.0   \n",
       "3               1.0                                         0.0   \n",
       "5               0.0                                         0.0   \n",
       "6               0.0                                         0.0   \n",
       "7               0.0                                         0.0   \n",
       "8               0.0                                         0.0   \n",
       "9               0.0                                         0.0   \n",
       "10              0.0                                         0.0   \n",
       "\n",
       "    packages_running_com.android.bluetooth  \\\n",
       "0                                      0.0   \n",
       "1                                      0.0   \n",
       "2                                      0.0   \n",
       "3                                      0.0   \n",
       "5                                      0.0   \n",
       "6                                      0.0   \n",
       "7                                      0.0   \n",
       "8                                      0.0   \n",
       "9                                      0.0   \n",
       "10                                     0.0   \n",
       "\n",
       "    packages_running_com.android.calculator2  \\\n",
       "0                                        0.0   \n",
       "1                                        0.0   \n",
       "2                                        0.0   \n",
       "3                                        0.0   \n",
       "5                                        0.0   \n",
       "6                                        0.0   \n",
       "7                                        0.0   \n",
       "8                                        0.0   \n",
       "9                                        0.0   \n",
       "10                                       0.0   \n",
       "\n",
       "    packages_running_com.android.chrome  \\\n",
       "0                                   1.0   \n",
       "1                                   1.0   \n",
       "2                                   1.0   \n",
       "3                                   1.0   \n",
       "5                                   0.0   \n",
       "6                                   0.0   \n",
       "7                                   0.0   \n",
       "8                                   0.0   \n",
       "9                                   0.0   \n",
       "10                                  0.0   \n",
       "\n",
       "    packages_running_com.android.contacts  \\\n",
       "0                                     0.0   \n",
       "1                                     0.0   \n",
       "2                                     0.0   \n",
       "3                                     0.0   \n",
       "5                                     0.0   \n",
       "6                                     0.0   \n",
       "7                                     0.0   \n",
       "8                                     0.0   \n",
       "9                                     0.0   \n",
       "10                                    0.0   \n",
       "\n",
       "    packages_running_com.android.defcontainer  \\\n",
       "0                                         0.0   \n",
       "1                                         0.0   \n",
       "2                                         0.0   \n",
       "3                                         0.0   \n",
       "5                                         0.0   \n",
       "6                                         0.0   \n",
       "7                                         0.0   \n",
       "8                                         0.0   \n",
       "9                                         0.0   \n",
       "10                                        0.0   \n",
       "\n",
       "    packages_running_com.android.keychain  packages_running_com.android.mms  \\\n",
       "0                                     0.0                               0.0   \n",
       "1                                     0.0                               0.0   \n",
       "2                                     0.0                               0.0   \n",
       "3                                     0.0                               0.0   \n",
       "5                                     0.0                               0.0   \n",
       "6                                     0.0                               0.0   \n",
       "7                                     0.0                               0.0   \n",
       "8                                     0.0                               0.0   \n",
       "9                                     0.0                               0.0   \n",
       "10                                    0.0                               0.0   \n",
       "\n",
       "    packages_running_com.android.musicfx  ...  \\\n",
       "0                                    0.0  ...   \n",
       "1                                    0.0  ...   \n",
       "2                                    0.0  ...   \n",
       "3                                    0.0  ...   \n",
       "5                                    0.0  ...   \n",
       "6                                    0.0  ...   \n",
       "7                                    0.0  ...   \n",
       "8                                    0.0  ...   \n",
       "9                                    0.0  ...   \n",
       "10                                   0.0  ...   \n",
       "\n",
       "    packages_running_com.google.android.partnersetup  \\\n",
       "0                                                0.0   \n",
       "1                                                0.0   \n",
       "2                                                0.0   \n",
       "3                                                0.0   \n",
       "5                                                0.0   \n",
       "6                                                0.0   \n",
       "7                                                0.0   \n",
       "8                                                0.0   \n",
       "9                                                0.0   \n",
       "10                                               0.0   \n",
       "\n",
       "    packages_running_com.google.android.setupwizard  \\\n",
       "0                                               0.0   \n",
       "1                                               0.0   \n",
       "2                                               0.0   \n",
       "3                                               0.0   \n",
       "5                                               0.0   \n",
       "6                                               0.0   \n",
       "7                                               0.0   \n",
       "8                                               0.0   \n",
       "9                                               0.0   \n",
       "10                                              0.0   \n",
       "\n",
       "    packages_running_com.google.android.youtube  \\\n",
       "0                                           1.0   \n",
       "1                                           1.0   \n",
       "2                                           1.0   \n",
       "3                                           1.0   \n",
       "5                                           1.0   \n",
       "6                                           1.0   \n",
       "7                                           1.0   \n",
       "8                                           1.0   \n",
       "9                                           1.0   \n",
       "10                                          1.0   \n",
       "\n",
       "    packages_running_com.googlecode.pythonforandroid  \\\n",
       "0                                                0.0   \n",
       "1                                                0.0   \n",
       "2                                                1.0   \n",
       "3                                                1.0   \n",
       "5                                                1.0   \n",
       "6                                                1.0   \n",
       "7                                                1.0   \n",
       "8                                                1.0   \n",
       "9                                                1.0   \n",
       "10                                               1.0   \n",
       "\n",
       "    packages_running_com.halfbrick.fruitninjafree  \\\n",
       "0                                             0.0   \n",
       "1                                             0.0   \n",
       "2                                             0.0   \n",
       "3                                             0.0   \n",
       "5                                             0.0   \n",
       "6                                             0.0   \n",
       "7                                             0.0   \n",
       "8                                             0.0   \n",
       "9                                             0.0   \n",
       "10                                            0.0   \n",
       "\n",
       "    packages_running_com.rovio.angrybirdsspace.ads  \\\n",
       "0                                              0.0   \n",
       "1                                              0.0   \n",
       "2                                              0.0   \n",
       "3                                              0.0   \n",
       "5                                              0.0   \n",
       "6                                              0.0   \n",
       "7                                              0.0   \n",
       "8                                              0.0   \n",
       "9                                              0.0   \n",
       "10                                             0.0   \n",
       "\n",
       "    packages_running_com.tf.thinkdroid.sg  \\\n",
       "0                                     0.0   \n",
       "1                                     0.0   \n",
       "2                                     0.0   \n",
       "3                                     0.0   \n",
       "5                                     0.0   \n",
       "6                                     0.0   \n",
       "7                                     0.0   \n",
       "8                                     0.0   \n",
       "9                                     0.0   \n",
       "10                                    0.0   \n",
       "\n",
       "    packages_running_de.kicktipp.mbookmark  \\\n",
       "0                                      0.0   \n",
       "1                                      0.0   \n",
       "2                                      0.0   \n",
       "3                                      0.0   \n",
       "5                                      0.0   \n",
       "6                                      0.0   \n",
       "7                                      0.0   \n",
       "8                                      0.0   \n",
       "9                                      0.0   \n",
       "10                                     0.0   \n",
       "\n",
       "    packages_running_edu.udo.cs.ess.mobidac.target  \\\n",
       "0                                              1.0   \n",
       "1                                              1.0   \n",
       "2                                              1.0   \n",
       "3                                              1.0   \n",
       "5                                              1.0   \n",
       "6                                              1.0   \n",
       "7                                              1.0   \n",
       "8                                              1.0   \n",
       "9                                              1.0   \n",
       "10                                             1.0   \n",
       "\n",
       "    packages_running_org.openintents.filemanager  \n",
       "0                                            0.0  \n",
       "1                                            0.0  \n",
       "2                                            0.0  \n",
       "3                                            0.0  \n",
       "5                                            0.0  \n",
       "6                                            0.0  \n",
       "7                                            0.0  \n",
       "8                                            0.0  \n",
       "9                                            0.0  \n",
       "10                                           0.0  \n",
       "\n",
       "[10 rows x 47 columns]"
      ],
      "text/html": "<div>\n<style scoped>\n    .dataframe tbody tr th:only-of-type {\n        vertical-align: middle;\n    }\n\n    .dataframe tbody tr th {\n        vertical-align: top;\n    }\n\n    .dataframe thead th {\n        text-align: right;\n    }\n</style>\n<table border=\"1\" class=\"dataframe\">\n  <thead>\n    <tr style=\"text-align: right;\">\n      <th></th>\n      <th>battery_plugged</th>\n      <th>packages_running_ch.smalltech.battery.free</th>\n      <th>packages_running_com.android.bluetooth</th>\n      <th>packages_running_com.android.calculator2</th>\n      <th>packages_running_com.android.chrome</th>\n      <th>packages_running_com.android.contacts</th>\n      <th>packages_running_com.android.defcontainer</th>\n      <th>packages_running_com.android.keychain</th>\n      <th>packages_running_com.android.mms</th>\n      <th>packages_running_com.android.musicfx</th>\n      <th>...</th>\n      <th>packages_running_com.google.android.partnersetup</th>\n      <th>packages_running_com.google.android.setupwizard</th>\n      <th>packages_running_com.google.android.youtube</th>\n      <th>packages_running_com.googlecode.pythonforandroid</th>\n      <th>packages_running_com.halfbrick.fruitninjafree</th>\n      <th>packages_running_com.rovio.angrybirdsspace.ads</th>\n      <th>packages_running_com.tf.thinkdroid.sg</th>\n      <th>packages_running_de.kicktipp.mbookmark</th>\n      <th>packages_running_edu.udo.cs.ess.mobidac.target</th>\n      <th>packages_running_org.openintents.filemanager</th>\n    </tr>\n  </thead>\n  <tbody>\n    <tr>\n      <th>0</th>\n      <td>1.0</td>\n      <td>0.0</td>\n      <td>0.0</td>\n      <td>0.0</td>\n      <td>1.0</td>\n      <td>0.0</td>\n      <td>0.0</td>\n      <td>0.0</td>\n      <td>0.0</td>\n      <td>0.0</td>\n      <td>...</td>\n      <td>0.0</td>\n      <td>0.0</td>\n      <td>1.0</td>\n      <td>0.0</td>\n      <td>0.0</td>\n      <td>0.0</td>\n      <td>0.0</td>\n      <td>0.0</td>\n      <td>1.0</td>\n      <td>0.0</td>\n    </tr>\n    <tr>\n      <th>1</th>\n      <td>0.0</td>\n      <td>0.0</td>\n      <td>0.0</td>\n      <td>0.0</td>\n      <td>1.0</td>\n      <td>0.0</td>\n      <td>0.0</td>\n      <td>0.0</td>\n      <td>0.0</td>\n      <td>0.0</td>\n      <td>...</td>\n      <td>0.0</td>\n      <td>0.0</td>\n      <td>1.0</td>\n      <td>0.0</td>\n      <td>0.0</td>\n      <td>0.0</td>\n      <td>0.0</td>\n      <td>0.0</td>\n      <td>1.0</td>\n      <td>0.0</td>\n    </tr>\n    <tr>\n      <th>2</th>\n      <td>1.0</td>\n      <td>0.0</td>\n      <td>0.0</td>\n      <td>0.0</td>\n      <td>1.0</td>\n      <td>0.0</td>\n      <td>0.0</td>\n      <td>0.0</td>\n      <td>0.0</td>\n      <td>0.0</td>\n      <td>...</td>\n      <td>0.0</td>\n      <td>0.0</td>\n      <td>1.0</td>\n      <td>1.0</td>\n      <td>0.0</td>\n      <td>0.0</td>\n      <td>0.0</td>\n      <td>0.0</td>\n      <td>1.0</td>\n      <td>0.0</td>\n    </tr>\n    <tr>\n      <th>3</th>\n      <td>1.0</td>\n      <td>0.0</td>\n      <td>0.0</td>\n      <td>0.0</td>\n      <td>1.0</td>\n      <td>0.0</td>\n      <td>0.0</td>\n      <td>0.0</td>\n      <td>0.0</td>\n      <td>0.0</td>\n      <td>...</td>\n      <td>0.0</td>\n      <td>0.0</td>\n      <td>1.0</td>\n      <td>1.0</td>\n      <td>0.0</td>\n      <td>0.0</td>\n      <td>0.0</td>\n      <td>0.0</td>\n      <td>1.0</td>\n      <td>0.0</td>\n    </tr>\n    <tr>\n      <th>5</th>\n      <td>0.0</td>\n      <td>0.0</td>\n      <td>0.0</td>\n      <td>0.0</td>\n      <td>0.0</td>\n      <td>0.0</td>\n      <td>0.0</td>\n      <td>0.0</td>\n      <td>0.0</td>\n      <td>0.0</td>\n      <td>...</td>\n      <td>0.0</td>\n      <td>0.0</td>\n      <td>1.0</td>\n      <td>1.0</td>\n      <td>0.0</td>\n      <td>0.0</td>\n      <td>0.0</td>\n      <td>0.0</td>\n      <td>1.0</td>\n      <td>0.0</td>\n    </tr>\n    <tr>\n      <th>6</th>\n      <td>0.0</td>\n      <td>0.0</td>\n      <td>0.0</td>\n      <td>0.0</td>\n      <td>0.0</td>\n      <td>0.0</td>\n      <td>0.0</td>\n      <td>0.0</td>\n      <td>0.0</td>\n      <td>0.0</td>\n      <td>...</td>\n      <td>0.0</td>\n      <td>0.0</td>\n      <td>1.0</td>\n      <td>1.0</td>\n      <td>0.0</td>\n      <td>0.0</td>\n      <td>0.0</td>\n      <td>0.0</td>\n      <td>1.0</td>\n      <td>0.0</td>\n    </tr>\n    <tr>\n      <th>7</th>\n      <td>0.0</td>\n      <td>0.0</td>\n      <td>0.0</td>\n      <td>0.0</td>\n      <td>0.0</td>\n      <td>0.0</td>\n      <td>0.0</td>\n      <td>0.0</td>\n      <td>0.0</td>\n      <td>0.0</td>\n      <td>...</td>\n      <td>0.0</td>\n      <td>0.0</td>\n      <td>1.0</td>\n      <td>1.0</td>\n      <td>0.0</td>\n      <td>0.0</td>\n      <td>0.0</td>\n      <td>0.0</td>\n      <td>1.0</td>\n      <td>0.0</td>\n    </tr>\n    <tr>\n      <th>8</th>\n      <td>0.0</td>\n      <td>0.0</td>\n      <td>0.0</td>\n      <td>0.0</td>\n      <td>0.0</td>\n      <td>0.0</td>\n      <td>0.0</td>\n      <td>0.0</td>\n      <td>0.0</td>\n      <td>0.0</td>\n      <td>...</td>\n      <td>0.0</td>\n      <td>0.0</td>\n      <td>1.0</td>\n      <td>1.0</td>\n      <td>0.0</td>\n      <td>0.0</td>\n      <td>0.0</td>\n      <td>0.0</td>\n      <td>1.0</td>\n      <td>0.0</td>\n    </tr>\n    <tr>\n      <th>9</th>\n      <td>0.0</td>\n      <td>0.0</td>\n      <td>0.0</td>\n      <td>0.0</td>\n      <td>0.0</td>\n      <td>0.0</td>\n      <td>0.0</td>\n      <td>0.0</td>\n      <td>0.0</td>\n      <td>0.0</td>\n      <td>...</td>\n      <td>0.0</td>\n      <td>0.0</td>\n      <td>1.0</td>\n      <td>1.0</td>\n      <td>0.0</td>\n      <td>0.0</td>\n      <td>0.0</td>\n      <td>0.0</td>\n      <td>1.0</td>\n      <td>0.0</td>\n    </tr>\n    <tr>\n      <th>10</th>\n      <td>0.0</td>\n      <td>0.0</td>\n      <td>0.0</td>\n      <td>0.0</td>\n      <td>0.0</td>\n      <td>0.0</td>\n      <td>0.0</td>\n      <td>0.0</td>\n      <td>0.0</td>\n      <td>0.0</td>\n      <td>...</td>\n      <td>0.0</td>\n      <td>0.0</td>\n      <td>1.0</td>\n      <td>1.0</td>\n      <td>0.0</td>\n      <td>0.0</td>\n      <td>0.0</td>\n      <td>0.0</td>\n      <td>1.0</td>\n      <td>0.0</td>\n    </tr>\n  </tbody>\n</table>\n<p>10 rows × 47 columns</p>\n</div>"
     },
     "metadata": {},
     "execution_count": 166
    }
   ],
   "source": [
    "pkVGroup = df.drop(['battery_level','year','slot','time','day','month', 'battery_status'], axis=1)\n",
    "pkV = df.drop(['battery_level','year','slot','time','day','month', 'battery_status', 'group'], axis=1)\n",
    "pkV.head(10)"
   ]
  },
  {
   "cell_type": "code",
   "execution_count": 167,
   "metadata": {},
   "outputs": [
    {
     "output_type": "execute_result",
     "data": {
      "text/plain": [
       "2444"
      ]
     },
     "metadata": {},
     "execution_count": 167
    }
   ],
   "source": [
    "len(pkV)"
   ]
  },
  {
   "cell_type": "code",
   "execution_count": 168,
   "metadata": {},
   "outputs": [
    {
     "output_type": "execute_result",
     "data": {
      "text/plain": [
       "640"
      ]
     },
     "metadata": {},
     "execution_count": 168
    }
   ],
   "source": [
    "len(pkV.drop_duplicates())"
   ]
  },
  {
   "cell_type": "code",
   "execution_count": 170,
   "metadata": {},
   "outputs": [
    {
     "output_type": "execute_result",
     "data": {
      "text/plain": [
       "array([[1., 0., 0., ..., 0., 1., 0.],\n",
       "       [0., 0., 0., ..., 0., 1., 0.],\n",
       "       [1., 0., 0., ..., 0., 1., 0.],\n",
       "       ...,\n",
       "       [0., 1., 0., ..., 1., 1., 0.],\n",
       "       [0., 1., 0., ..., 1., 1., 0.],\n",
       "       [0., 1., 0., ..., 1., 1., 0.]])"
      ]
     },
     "metadata": {},
     "execution_count": 170
    }
   ],
   "source": [
    "states = pkV.drop_duplicates().to_numpy()\n",
    "states"
   ]
  },
  {
   "cell_type": "code",
   "execution_count": 171,
   "metadata": {},
   "outputs": [
    {
     "output_type": "execute_result",
     "data": {
      "text/plain": [
       "640"
      ]
     },
     "metadata": {},
     "execution_count": 171
    }
   ],
   "source": [
    "len(states)"
   ]
  },
  {
   "cell_type": "code",
   "execution_count": 180,
   "metadata": {},
   "outputs": [],
   "source": [
    "dfArray = pkVGroup.to_numpy()"
   ]
  },
  {
   "cell_type": "code",
   "execution_count": 181,
   "metadata": {},
   "outputs": [
    {
     "output_type": "execute_result",
     "data": {
      "text/plain": [
       "array([[  1.,   0.,   0., ...,   1.,   0.,   0.],\n",
       "       [  0.,   0.,   0., ...,   1.,   0.,   0.],\n",
       "       [  1.,   0.,   0., ...,   1.,   0.,   0.],\n",
       "       ...,\n",
       "       [  0.,   1.,   0., ...,   1.,   0., 109.],\n",
       "       [  0.,   1.,   0., ...,   1.,   0., 109.],\n",
       "       [  0.,   1.,   0., ...,   1.,   0., 109.]])"
      ]
     },
     "metadata": {},
     "execution_count": 181
    }
   ],
   "source": [
    "dfArray"
   ]
  },
  {
   "cell_type": "code",
   "execution_count": 268,
   "metadata": {},
   "outputs": [],
   "source": [
    "StateMatrix = np.full((640, 640), 0)"
   ]
  },
  {
   "cell_type": "code",
   "execution_count": 232,
   "metadata": {},
   "outputs": [
    {
     "output_type": "execute_result",
     "data": {
      "text/plain": [
       "(640, 640)"
      ]
     },
     "metadata": {},
     "execution_count": 232
    }
   ],
   "source": [
    "StateMatrix.shape"
   ]
  },
  {
   "cell_type": "code",
   "execution_count": 255,
   "metadata": {},
   "outputs": [],
   "source": [
    "def findIndexInStates(_states, entry):\n",
    "    for i in range(len(_states)):\n",
    "        #print(_states[i])\n",
    "        #print(entry)\n",
    "        #print(np.all(_states[i]==entry))\n",
    "        if(np.all(_states[i]==entry)):\n",
    "            return i"
   ]
  },
  {
   "cell_type": "code",
   "execution_count": 185,
   "metadata": {},
   "outputs": [
    {
     "output_type": "execute_result",
     "data": {
      "text/plain": [
       "48"
      ]
     },
     "metadata": {},
     "execution_count": 185
    }
   ],
   "source": [
    "len(dfArray[1])"
   ]
  },
  {
   "cell_type": "code",
   "execution_count": 269,
   "metadata": {
    "tags": []
   },
   "outputs": [],
   "source": [
    "gruppe = len(dfArray[1]) -1\n",
    "for i in range(len(dfArray) -1):\n",
    "    act = dfArray[i]\n",
    "    nex = dfArray[i+1]\n",
    "    actState = act[0:gruppe]\n",
    "    nexState = nex[0:gruppe]\n",
    "    if(act[gruppe] == nex[gruppe]):\n",
    "        indexActState = findIndexInStates(states, actState)\n",
    "        indexNexState = findIndexInStates(states, nexState)\n",
    "        StateMatrix[indexActState,indexNexState] += 1\n",
    "        #print(result)\n"
   ]
  },
  {
   "cell_type": "code",
   "execution_count": 376,
   "metadata": {},
   "outputs": [
    {
     "output_type": "execute_result",
     "data": {
      "text/plain": [
       "array([1, 0, 0, 0, 0, 0, 0, 0, 0, 0, 0, 0, 0, 0, 0, 0, 0, 0, 0, 0, 0, 0,\n",
       "       0, 0, 0, 0, 0, 0, 0, 0, 0, 0, 0, 0, 0, 0, 0, 0, 0, 0, 0, 0, 0, 0,\n",
       "       0, 0, 0, 0, 0, 0, 0, 0, 0, 0, 0, 0, 0, 0, 0, 0, 0, 0, 0, 0, 0, 0,\n",
       "       0, 0, 0, 0, 0, 0, 0, 0, 0, 0, 0, 0, 0, 0, 0, 0, 0, 0, 0, 0, 0, 0,\n",
       "       0, 0, 0, 0, 0, 0, 0, 0, 0, 0, 0, 0, 0, 0, 0, 0, 0, 0, 0, 0, 0, 0,\n",
       "       0, 0, 0, 0, 0, 0, 0, 0, 0, 0, 0, 0, 0, 0, 0, 0, 0, 0, 0, 0, 0, 0,\n",
       "       0, 0, 0, 0, 0, 0, 0, 0, 0, 0, 0, 0, 0, 0, 0, 0, 0, 0, 0, 0, 0, 0,\n",
       "       0, 0, 0, 0, 0, 0, 0, 0, 0, 0, 0, 0, 0, 0, 0, 0, 0, 0, 0, 0, 0, 0,\n",
       "       0, 0, 0, 0, 0, 0, 0, 0, 0, 0, 0, 0, 0, 0, 0, 0, 0, 0, 0, 0, 0, 0,\n",
       "       0, 0, 0, 0, 0, 0, 0, 0, 0, 0, 0, 0, 0, 0, 0, 0, 0, 0, 0, 0, 0, 0,\n",
       "       0, 0, 0, 0, 0, 0, 0, 0, 0, 0, 0, 0, 0, 0, 0, 0, 0, 0, 0, 0, 0, 0,\n",
       "       0, 0, 0, 0, 0, 0, 0, 0, 0, 0, 0, 0, 0, 0, 0, 0, 0, 0, 0, 0, 0, 0,\n",
       "       0, 0, 0, 0, 0, 0, 0, 0, 0, 0, 0, 0, 0, 0, 0, 0, 0, 0, 0, 0, 0, 0,\n",
       "       0, 0, 0, 0, 0, 0, 0, 0, 0, 0, 0, 0, 0, 0, 0, 0, 0, 0, 0, 0, 0, 0,\n",
       "       0, 0, 0, 0, 0, 0, 0, 0, 0, 0, 0, 0, 0, 0, 0, 0, 0, 0, 0, 0, 0, 0,\n",
       "       0, 0, 0, 0, 0, 0, 0, 0, 0, 0, 0, 0, 0, 0, 0, 0, 0, 0, 0, 0, 0, 0,\n",
       "       0, 0, 0, 0, 0, 0, 0, 0, 0, 0, 0, 0, 0, 0, 0, 0, 0, 0, 0, 0, 0, 0,\n",
       "       0, 0, 0, 0, 0, 0, 0, 0, 0, 0, 0, 0, 0, 0, 0, 0, 0, 0, 0, 0, 0, 0,\n",
       "       0, 0, 0, 0, 0, 0, 0, 0, 0, 0, 0, 0, 0, 0, 0, 0, 0, 0, 0, 0, 0, 0,\n",
       "       0, 0, 0, 0, 0, 0, 0, 0, 0, 0, 0, 0, 0, 0, 0, 0, 0, 0, 0, 0, 0, 0,\n",
       "       0, 0, 0, 0, 0, 0, 0, 0, 0, 0, 0, 0, 0, 0, 0, 0, 0, 0, 0, 0, 0, 0,\n",
       "       0, 0, 0, 0, 0, 0, 0, 0, 0, 0, 0, 0, 0, 0, 0, 0, 0, 0, 0, 0, 0, 0,\n",
       "       0, 0, 0, 0, 0, 0, 0, 0, 0, 0, 0, 0, 0, 0, 0, 0, 0, 0, 0, 0, 0, 0,\n",
       "       0, 0, 0, 0, 0, 0, 0, 0, 0, 0, 0, 0, 0, 0, 0, 0, 0, 0, 0, 0, 0, 0,\n",
       "       0, 0, 0, 0, 0, 0, 0, 0, 0, 0, 0, 0, 0, 0, 0, 0, 0, 0, 0, 0, 0, 0,\n",
       "       0, 0, 0, 0, 0, 0, 0, 0, 0, 0, 0, 0, 0, 0, 0, 0, 0, 0, 0, 0, 0, 0,\n",
       "       0, 0, 0, 0, 0, 0, 0, 0, 0, 0, 0, 0, 0, 0, 0, 0, 0, 0, 0, 0, 0, 0,\n",
       "       0, 0, 0, 0, 0, 0, 0, 0, 0, 0, 0, 0, 0, 0, 0, 0, 0, 0, 0, 0, 0, 0,\n",
       "       0, 0, 0, 0, 0, 0, 0, 0, 0, 0, 0, 0, 0, 0, 0, 0, 0, 0, 0, 0, 0, 0,\n",
       "       0, 0])"
      ]
     },
     "metadata": {},
     "execution_count": 376
    }
   ],
   "source": [
    "StateMatrix[:,1] "
   ]
  },
  {
   "cell_type": "code",
   "execution_count": 218,
   "metadata": {},
   "outputs": [
    {
     "output_type": "display_data",
     "data": {
      "text/plain": "<Figure size 432x288 with 1 Axes>",
      "image/svg+xml": "<?xml version=\"1.0\" encoding=\"utf-8\" standalone=\"no\"?>\r\n<!DOCTYPE svg PUBLIC \"-//W3C//DTD SVG 1.1//EN\"\r\n  \"http://www.w3.org/Graphics/SVG/1.1/DTD/svg11.dtd\">\r\n<!-- Created with matplotlib (https://matplotlib.org/) -->\r\n<svg height=\"252.147469pt\" version=\"1.1\" viewBox=\"0 0 257.9275 252.147469\" width=\"257.9275pt\" xmlns=\"http://www.w3.org/2000/svg\" xmlns:xlink=\"http://www.w3.org/1999/xlink\">\r\n <metadata>\r\n  <rdf:RDF xmlns:cc=\"http://creativecommons.org/ns#\" xmlns:dc=\"http://purl.org/dc/elements/1.1/\" xmlns:rdf=\"http://www.w3.org/1999/02/22-rdf-syntax-ns#\">\r\n   <cc:Work>\r\n    <dc:type rdf:resource=\"http://purl.org/dc/dcmitype/StillImage\"/>\r\n    <dc:date>2020-12-06T21:36:40.099451</dc:date>\r\n    <dc:format>image/svg+xml</dc:format>\r\n    <dc:creator>\r\n     <cc:Agent>\r\n      <dc:title>Matplotlib v3.3.2, https://matplotlib.org/</dc:title>\r\n     </cc:Agent>\r\n    </dc:creator>\r\n   </cc:Work>\r\n  </rdf:RDF>\r\n </metadata>\r\n <defs>\r\n  <style type=\"text/css\">*{stroke-linecap:butt;stroke-linejoin:round;}</style>\r\n </defs>\r\n <g id=\"figure_1\">\r\n  <g id=\"patch_1\">\r\n   <path d=\"M 0 252.147469 \r\nL 257.9275 252.147469 \r\nL 257.9275 0 \r\nL 0 0 \r\nz\r\n\" style=\"fill:none;\"/>\r\n  </g>\r\n  <g id=\"axes_1\">\r\n   <g id=\"patch_2\">\r\n    <path d=\"M 33.2875 228.269344 \r\nL 250.7275 228.269344 \r\nL 250.7275 10.829344 \r\nL 33.2875 10.829344 \r\nz\r\n\" style=\"fill:#ffffff;\"/>\r\n   </g>\r\n   <g clip-path=\"url(#p746ea1daad)\">\r\n    <image height=\"640\" id=\"image566c854dc1\" style=\"image-rendering:crisp-edges;image-rendering:pixelated\" transform=\"matrix(0.340625 0 0 0.340625 33.2875 10.269344)\" width=\"640\" xlink:href=\"data:image/png;base64,\r\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\"/>\r\n   </g>\r\n   <g id=\"matplotlib.axis_1\">\r\n    <g id=\"xtick_1\">\r\n     <g id=\"line2d_1\">\r\n      <defs>\r\n       <path d=\"M 0 0 \r\nL 0 3.5 \r\n\" id=\"m72e9f0ea6a\" style=\"stroke:#000000;stroke-width:0.8;\"/>\r\n      </defs>\r\n      <g>\r\n       <use style=\"stroke:#000000;stroke-width:0.8;\" x=\"33.457375\" xlink:href=\"#m72e9f0ea6a\" y=\"228.269344\"/>\r\n      </g>\r\n     </g>\r\n     <g id=\"text_1\">\r\n      <!-- 0 -->\r\n      <g transform=\"translate(30.276125 242.867781)scale(0.1 -0.1)\">\r\n       <defs>\r\n        <path d=\"M 31.78125 66.40625 \r\nQ 24.171875 66.40625 20.328125 58.90625 \r\nQ 16.5 51.421875 16.5 36.375 \r\nQ 16.5 21.390625 20.328125 13.890625 \r\nQ 24.171875 6.390625 31.78125 6.390625 \r\nQ 39.453125 6.390625 43.28125 13.890625 \r\nQ 47.125 21.390625 47.125 36.375 \r\nQ 47.125 51.421875 43.28125 58.90625 \r\nQ 39.453125 66.40625 31.78125 66.40625 \r\nz\r\nM 31.78125 74.21875 \r\nQ 44.046875 74.21875 50.515625 64.515625 \r\nQ 56.984375 54.828125 56.984375 36.375 \r\nQ 56.984375 17.96875 50.515625 8.265625 \r\nQ 44.046875 -1.421875 31.78125 -1.421875 \r\nQ 19.53125 -1.421875 13.0625 8.265625 \r\nQ 6.59375 17.96875 6.59375 36.375 \r\nQ 6.59375 54.828125 13.0625 64.515625 \r\nQ 19.53125 74.21875 31.78125 74.21875 \r\nz\r\n\" id=\"DejaVuSans-48\"/>\r\n       </defs>\r\n       <use xlink:href=\"#DejaVuSans-48\"/>\r\n      </g>\r\n     </g>\r\n    </g>\r\n    <g id=\"xtick_2\">\r\n     <g id=\"line2d_2\">\r\n      <g>\r\n       <use style=\"stroke:#000000;stroke-width:0.8;\" x=\"67.432375\" xlink:href=\"#m72e9f0ea6a\" y=\"228.269344\"/>\r\n      </g>\r\n     </g>\r\n     <g id=\"text_2\">\r\n      <!-- 100 -->\r\n      <g transform=\"translate(57.888625 242.867781)scale(0.1 -0.1)\">\r\n       <defs>\r\n        <path d=\"M 12.40625 8.296875 \r\nL 28.515625 8.296875 \r\nL 28.515625 63.921875 \r\nL 10.984375 60.40625 \r\nL 10.984375 69.390625 \r\nL 28.421875 72.90625 \r\nL 38.28125 72.90625 \r\nL 38.28125 8.296875 \r\nL 54.390625 8.296875 \r\nL 54.390625 0 \r\nL 12.40625 0 \r\nz\r\n\" id=\"DejaVuSans-49\"/>\r\n       </defs>\r\n       <use xlink:href=\"#DejaVuSans-49\"/>\r\n       <use x=\"63.623047\" xlink:href=\"#DejaVuSans-48\"/>\r\n       <use x=\"127.246094\" xlink:href=\"#DejaVuSans-48\"/>\r\n      </g>\r\n     </g>\r\n    </g>\r\n    <g id=\"xtick_3\">\r\n     <g id=\"line2d_3\">\r\n      <g>\r\n       <use style=\"stroke:#000000;stroke-width:0.8;\" x=\"101.407375\" xlink:href=\"#m72e9f0ea6a\" y=\"228.269344\"/>\r\n      </g>\r\n     </g>\r\n     <g id=\"text_3\">\r\n      <!-- 200 -->\r\n      <g transform=\"translate(91.863625 242.867781)scale(0.1 -0.1)\">\r\n       <defs>\r\n        <path d=\"M 19.1875 8.296875 \r\nL 53.609375 8.296875 \r\nL 53.609375 0 \r\nL 7.328125 0 \r\nL 7.328125 8.296875 \r\nQ 12.9375 14.109375 22.625 23.890625 \r\nQ 32.328125 33.6875 34.8125 36.53125 \r\nQ 39.546875 41.84375 41.421875 45.53125 \r\nQ 43.3125 49.21875 43.3125 52.78125 \r\nQ 43.3125 58.59375 39.234375 62.25 \r\nQ 35.15625 65.921875 28.609375 65.921875 \r\nQ 23.96875 65.921875 18.8125 64.3125 \r\nQ 13.671875 62.703125 7.8125 59.421875 \r\nL 7.8125 69.390625 \r\nQ 13.765625 71.78125 18.9375 73 \r\nQ 24.125 74.21875 28.421875 74.21875 \r\nQ 39.75 74.21875 46.484375 68.546875 \r\nQ 53.21875 62.890625 53.21875 53.421875 \r\nQ 53.21875 48.921875 51.53125 44.890625 \r\nQ 49.859375 40.875 45.40625 35.40625 \r\nQ 44.1875 33.984375 37.640625 27.21875 \r\nQ 31.109375 20.453125 19.1875 8.296875 \r\nz\r\n\" id=\"DejaVuSans-50\"/>\r\n       </defs>\r\n       <use xlink:href=\"#DejaVuSans-50\"/>\r\n       <use x=\"63.623047\" xlink:href=\"#DejaVuSans-48\"/>\r\n       <use x=\"127.246094\" xlink:href=\"#DejaVuSans-48\"/>\r\n      </g>\r\n     </g>\r\n    </g>\r\n    <g id=\"xtick_4\">\r\n     <g id=\"line2d_4\">\r\n      <g>\r\n       <use style=\"stroke:#000000;stroke-width:0.8;\" x=\"135.382375\" xlink:href=\"#m72e9f0ea6a\" y=\"228.269344\"/>\r\n      </g>\r\n     </g>\r\n     <g id=\"text_4\">\r\n      <!-- 300 -->\r\n      <g transform=\"translate(125.838625 242.867781)scale(0.1 -0.1)\">\r\n       <defs>\r\n        <path d=\"M 40.578125 39.3125 \r\nQ 47.65625 37.796875 51.625 33 \r\nQ 55.609375 28.21875 55.609375 21.1875 \r\nQ 55.609375 10.40625 48.1875 4.484375 \r\nQ 40.765625 -1.421875 27.09375 -1.421875 \r\nQ 22.515625 -1.421875 17.65625 -0.515625 \r\nQ 12.796875 0.390625 7.625 2.203125 \r\nL 7.625 11.71875 \r\nQ 11.71875 9.328125 16.59375 8.109375 \r\nQ 21.484375 6.890625 26.8125 6.890625 \r\nQ 36.078125 6.890625 40.9375 10.546875 \r\nQ 45.796875 14.203125 45.796875 21.1875 \r\nQ 45.796875 27.640625 41.28125 31.265625 \r\nQ 36.765625 34.90625 28.71875 34.90625 \r\nL 20.21875 34.90625 \r\nL 20.21875 43.015625 \r\nL 29.109375 43.015625 \r\nQ 36.375 43.015625 40.234375 45.921875 \r\nQ 44.09375 48.828125 44.09375 54.296875 \r\nQ 44.09375 59.90625 40.109375 62.90625 \r\nQ 36.140625 65.921875 28.71875 65.921875 \r\nQ 24.65625 65.921875 20.015625 65.03125 \r\nQ 15.375 64.15625 9.8125 62.3125 \r\nL 9.8125 71.09375 \r\nQ 15.4375 72.65625 20.34375 73.4375 \r\nQ 25.25 74.21875 29.59375 74.21875 \r\nQ 40.828125 74.21875 47.359375 69.109375 \r\nQ 53.90625 64.015625 53.90625 55.328125 \r\nQ 53.90625 49.265625 50.4375 45.09375 \r\nQ 46.96875 40.921875 40.578125 39.3125 \r\nz\r\n\" id=\"DejaVuSans-51\"/>\r\n       </defs>\r\n       <use xlink:href=\"#DejaVuSans-51\"/>\r\n       <use x=\"63.623047\" xlink:href=\"#DejaVuSans-48\"/>\r\n       <use x=\"127.246094\" xlink:href=\"#DejaVuSans-48\"/>\r\n      </g>\r\n     </g>\r\n    </g>\r\n    <g id=\"xtick_5\">\r\n     <g id=\"line2d_5\">\r\n      <g>\r\n       <use style=\"stroke:#000000;stroke-width:0.8;\" x=\"169.357375\" xlink:href=\"#m72e9f0ea6a\" y=\"228.269344\"/>\r\n      </g>\r\n     </g>\r\n     <g id=\"text_5\">\r\n      <!-- 400 -->\r\n      <g transform=\"translate(159.813625 242.867781)scale(0.1 -0.1)\">\r\n       <defs>\r\n        <path d=\"M 37.796875 64.3125 \r\nL 12.890625 25.390625 \r\nL 37.796875 25.390625 \r\nz\r\nM 35.203125 72.90625 \r\nL 47.609375 72.90625 \r\nL 47.609375 25.390625 \r\nL 58.015625 25.390625 \r\nL 58.015625 17.1875 \r\nL 47.609375 17.1875 \r\nL 47.609375 0 \r\nL 37.796875 0 \r\nL 37.796875 17.1875 \r\nL 4.890625 17.1875 \r\nL 4.890625 26.703125 \r\nz\r\n\" id=\"DejaVuSans-52\"/>\r\n       </defs>\r\n       <use xlink:href=\"#DejaVuSans-52\"/>\r\n       <use x=\"63.623047\" xlink:href=\"#DejaVuSans-48\"/>\r\n       <use x=\"127.246094\" xlink:href=\"#DejaVuSans-48\"/>\r\n      </g>\r\n     </g>\r\n    </g>\r\n    <g id=\"xtick_6\">\r\n     <g id=\"line2d_6\">\r\n      <g>\r\n       <use style=\"stroke:#000000;stroke-width:0.8;\" x=\"203.332375\" xlink:href=\"#m72e9f0ea6a\" y=\"228.269344\"/>\r\n      </g>\r\n     </g>\r\n     <g id=\"text_6\">\r\n      <!-- 500 -->\r\n      <g transform=\"translate(193.788625 242.867781)scale(0.1 -0.1)\">\r\n       <defs>\r\n        <path d=\"M 10.796875 72.90625 \r\nL 49.515625 72.90625 \r\nL 49.515625 64.59375 \r\nL 19.828125 64.59375 \r\nL 19.828125 46.734375 \r\nQ 21.96875 47.46875 24.109375 47.828125 \r\nQ 26.265625 48.1875 28.421875 48.1875 \r\nQ 40.625 48.1875 47.75 41.5 \r\nQ 54.890625 34.8125 54.890625 23.390625 \r\nQ 54.890625 11.625 47.5625 5.09375 \r\nQ 40.234375 -1.421875 26.90625 -1.421875 \r\nQ 22.3125 -1.421875 17.546875 -0.640625 \r\nQ 12.796875 0.140625 7.71875 1.703125 \r\nL 7.71875 11.625 \r\nQ 12.109375 9.234375 16.796875 8.0625 \r\nQ 21.484375 6.890625 26.703125 6.890625 \r\nQ 35.15625 6.890625 40.078125 11.328125 \r\nQ 45.015625 15.765625 45.015625 23.390625 \r\nQ 45.015625 31 40.078125 35.4375 \r\nQ 35.15625 39.890625 26.703125 39.890625 \r\nQ 22.75 39.890625 18.8125 39.015625 \r\nQ 14.890625 38.140625 10.796875 36.28125 \r\nz\r\n\" id=\"DejaVuSans-53\"/>\r\n       </defs>\r\n       <use xlink:href=\"#DejaVuSans-53\"/>\r\n       <use x=\"63.623047\" xlink:href=\"#DejaVuSans-48\"/>\r\n       <use x=\"127.246094\" xlink:href=\"#DejaVuSans-48\"/>\r\n      </g>\r\n     </g>\r\n    </g>\r\n    <g id=\"xtick_7\">\r\n     <g id=\"line2d_7\">\r\n      <g>\r\n       <use style=\"stroke:#000000;stroke-width:0.8;\" x=\"237.307375\" xlink:href=\"#m72e9f0ea6a\" y=\"228.269344\"/>\r\n      </g>\r\n     </g>\r\n     <g id=\"text_7\">\r\n      <!-- 600 -->\r\n      <g transform=\"translate(227.763625 242.867781)scale(0.1 -0.1)\">\r\n       <defs>\r\n        <path d=\"M 33.015625 40.375 \r\nQ 26.375 40.375 22.484375 35.828125 \r\nQ 18.609375 31.296875 18.609375 23.390625 \r\nQ 18.609375 15.53125 22.484375 10.953125 \r\nQ 26.375 6.390625 33.015625 6.390625 \r\nQ 39.65625 6.390625 43.53125 10.953125 \r\nQ 47.40625 15.53125 47.40625 23.390625 \r\nQ 47.40625 31.296875 43.53125 35.828125 \r\nQ 39.65625 40.375 33.015625 40.375 \r\nz\r\nM 52.59375 71.296875 \r\nL 52.59375 62.3125 \r\nQ 48.875 64.0625 45.09375 64.984375 \r\nQ 41.3125 65.921875 37.59375 65.921875 \r\nQ 27.828125 65.921875 22.671875 59.328125 \r\nQ 17.53125 52.734375 16.796875 39.40625 \r\nQ 19.671875 43.65625 24.015625 45.921875 \r\nQ 28.375 48.1875 33.59375 48.1875 \r\nQ 44.578125 48.1875 50.953125 41.515625 \r\nQ 57.328125 34.859375 57.328125 23.390625 \r\nQ 57.328125 12.15625 50.6875 5.359375 \r\nQ 44.046875 -1.421875 33.015625 -1.421875 \r\nQ 20.359375 -1.421875 13.671875 8.265625 \r\nQ 6.984375 17.96875 6.984375 36.375 \r\nQ 6.984375 53.65625 15.1875 63.9375 \r\nQ 23.390625 74.21875 37.203125 74.21875 \r\nQ 40.921875 74.21875 44.703125 73.484375 \r\nQ 48.484375 72.75 52.59375 71.296875 \r\nz\r\n\" id=\"DejaVuSans-54\"/>\r\n       </defs>\r\n       <use xlink:href=\"#DejaVuSans-54\"/>\r\n       <use x=\"63.623047\" xlink:href=\"#DejaVuSans-48\"/>\r\n       <use x=\"127.246094\" xlink:href=\"#DejaVuSans-48\"/>\r\n      </g>\r\n     </g>\r\n    </g>\r\n   </g>\r\n   <g id=\"matplotlib.axis_2\">\r\n    <g id=\"ytick_1\">\r\n     <g id=\"line2d_8\">\r\n      <defs>\r\n       <path d=\"M 0 0 \r\nL -3.5 0 \r\n\" id=\"m242faddc04\" style=\"stroke:#000000;stroke-width:0.8;\"/>\r\n      </defs>\r\n      <g>\r\n       <use style=\"stroke:#000000;stroke-width:0.8;\" x=\"33.2875\" xlink:href=\"#m242faddc04\" y=\"10.999219\"/>\r\n      </g>\r\n     </g>\r\n     <g id=\"text_8\">\r\n      <!-- 0 -->\r\n      <g transform=\"translate(19.925 14.798438)scale(0.1 -0.1)\">\r\n       <use xlink:href=\"#DejaVuSans-48\"/>\r\n      </g>\r\n     </g>\r\n    </g>\r\n    <g id=\"ytick_2\">\r\n     <g id=\"line2d_9\">\r\n      <g>\r\n       <use style=\"stroke:#000000;stroke-width:0.8;\" x=\"33.2875\" xlink:href=\"#m242faddc04\" y=\"44.974219\"/>\r\n      </g>\r\n     </g>\r\n     <g id=\"text_9\">\r\n      <!-- 100 -->\r\n      <g transform=\"translate(7.2 48.773438)scale(0.1 -0.1)\">\r\n       <use xlink:href=\"#DejaVuSans-49\"/>\r\n       <use x=\"63.623047\" xlink:href=\"#DejaVuSans-48\"/>\r\n       <use x=\"127.246094\" xlink:href=\"#DejaVuSans-48\"/>\r\n      </g>\r\n     </g>\r\n    </g>\r\n    <g id=\"ytick_3\">\r\n     <g id=\"line2d_10\">\r\n      <g>\r\n       <use style=\"stroke:#000000;stroke-width:0.8;\" x=\"33.2875\" xlink:href=\"#m242faddc04\" y=\"78.949219\"/>\r\n      </g>\r\n     </g>\r\n     <g id=\"text_10\">\r\n      <!-- 200 -->\r\n      <g transform=\"translate(7.2 82.748437)scale(0.1 -0.1)\">\r\n       <use xlink:href=\"#DejaVuSans-50\"/>\r\n       <use x=\"63.623047\" xlink:href=\"#DejaVuSans-48\"/>\r\n       <use x=\"127.246094\" xlink:href=\"#DejaVuSans-48\"/>\r\n      </g>\r\n     </g>\r\n    </g>\r\n    <g id=\"ytick_4\">\r\n     <g id=\"line2d_11\">\r\n      <g>\r\n       <use style=\"stroke:#000000;stroke-width:0.8;\" x=\"33.2875\" xlink:href=\"#m242faddc04\" y=\"112.924219\"/>\r\n      </g>\r\n     </g>\r\n     <g id=\"text_11\">\r\n      <!-- 300 -->\r\n      <g transform=\"translate(7.2 116.723438)scale(0.1 -0.1)\">\r\n       <use xlink:href=\"#DejaVuSans-51\"/>\r\n       <use x=\"63.623047\" xlink:href=\"#DejaVuSans-48\"/>\r\n       <use x=\"127.246094\" xlink:href=\"#DejaVuSans-48\"/>\r\n      </g>\r\n     </g>\r\n    </g>\r\n    <g id=\"ytick_5\">\r\n     <g id=\"line2d_12\">\r\n      <g>\r\n       <use style=\"stroke:#000000;stroke-width:0.8;\" x=\"33.2875\" xlink:href=\"#m242faddc04\" y=\"146.899219\"/>\r\n      </g>\r\n     </g>\r\n     <g id=\"text_12\">\r\n      <!-- 400 -->\r\n      <g transform=\"translate(7.2 150.698438)scale(0.1 -0.1)\">\r\n       <use xlink:href=\"#DejaVuSans-52\"/>\r\n       <use x=\"63.623047\" xlink:href=\"#DejaVuSans-48\"/>\r\n       <use x=\"127.246094\" xlink:href=\"#DejaVuSans-48\"/>\r\n      </g>\r\n     </g>\r\n    </g>\r\n    <g id=\"ytick_6\">\r\n     <g id=\"line2d_13\">\r\n      <g>\r\n       <use style=\"stroke:#000000;stroke-width:0.8;\" x=\"33.2875\" xlink:href=\"#m242faddc04\" y=\"180.874219\"/>\r\n      </g>\r\n     </g>\r\n     <g id=\"text_13\">\r\n      <!-- 500 -->\r\n      <g transform=\"translate(7.2 184.673438)scale(0.1 -0.1)\">\r\n       <use xlink:href=\"#DejaVuSans-53\"/>\r\n       <use x=\"63.623047\" xlink:href=\"#DejaVuSans-48\"/>\r\n       <use x=\"127.246094\" xlink:href=\"#DejaVuSans-48\"/>\r\n      </g>\r\n     </g>\r\n    </g>\r\n    <g id=\"ytick_7\">\r\n     <g id=\"line2d_14\">\r\n      <g>\r\n       <use style=\"stroke:#000000;stroke-width:0.8;\" x=\"33.2875\" xlink:href=\"#m242faddc04\" y=\"214.849219\"/>\r\n      </g>\r\n     </g>\r\n     <g id=\"text_14\">\r\n      <!-- 600 -->\r\n      <g transform=\"translate(7.2 218.648438)scale(0.1 -0.1)\">\r\n       <use xlink:href=\"#DejaVuSans-54\"/>\r\n       <use x=\"63.623047\" xlink:href=\"#DejaVuSans-48\"/>\r\n       <use x=\"127.246094\" xlink:href=\"#DejaVuSans-48\"/>\r\n      </g>\r\n     </g>\r\n    </g>\r\n   </g>\r\n   <g id=\"patch_3\">\r\n    <path d=\"M 33.2875 228.269344 \r\nL 33.2875 10.829344 \r\n\" style=\"fill:none;stroke:#000000;stroke-linecap:square;stroke-linejoin:miter;stroke-width:0.8;\"/>\r\n   </g>\r\n   <g id=\"patch_4\">\r\n    <path d=\"M 250.7275 228.269344 \r\nL 250.7275 10.829344 \r\n\" style=\"fill:none;stroke:#000000;stroke-linecap:square;stroke-linejoin:miter;stroke-width:0.8;\"/>\r\n   </g>\r\n   <g id=\"patch_5\">\r\n    <path d=\"M 33.2875 228.269344 \r\nL 250.7275 228.269344 \r\n\" style=\"fill:none;stroke:#000000;stroke-linecap:square;stroke-linejoin:miter;stroke-width:0.8;\"/>\r\n   </g>\r\n   <g id=\"patch_6\">\r\n    <path d=\"M 33.2875 10.829344 \r\nL 250.7275 10.829344 \r\n\" style=\"fill:none;stroke:#000000;stroke-linecap:square;stroke-linejoin:miter;stroke-width:0.8;\"/>\r\n   </g>\r\n  </g>\r\n </g>\r\n <defs>\r\n  <clipPath id=\"p746ea1daad\">\r\n   <rect height=\"217.44\" width=\"217.44\" x=\"33.2875\" y=\"10.829344\"/>\r\n  </clipPath>\r\n </defs>\r\n</svg>\r\n",
      "image/png": "[encoded data removed]"
     },
     "metadata": {
      "needs_background": "light"
     }
    }
   ],
   "source": [
    "plt.imshow(StateMatrix, cmap='hot', interpolation='none')\n",
    "plt.show()"
   ]
  },
  {
   "cell_type": "code",
   "execution_count": 219,
   "metadata": {},
   "outputs": [
    {
     "output_type": "display_data",
     "data": {
      "text/plain": "<Figure size 288x288 with 1 Axes>",
      "image/svg+xml": "<?xml version=\"1.0\" encoding=\"utf-8\" standalone=\"no\"?>\r\n<!DOCTYPE svg PUBLIC \"-//W3C//DTD SVG 1.1//EN\"\r\n  \"http://www.w3.org/Graphics/SVG/1.1/DTD/svg11.dtd\">\r\n<!-- Created with matplotlib (https://matplotlib.org/) -->\r\n<svg height=\"257.778125pt\" version=\"1.1\" viewBox=\"0 0 263.6875 257.778125\" width=\"263.6875pt\" xmlns=\"http://www.w3.org/2000/svg\" xmlns:xlink=\"http://www.w3.org/1999/xlink\">\r\n <metadata>\r\n  <rdf:RDF xmlns:cc=\"http://creativecommons.org/ns#\" xmlns:dc=\"http://purl.org/dc/elements/1.1/\" xmlns:rdf=\"http://www.w3.org/1999/02/22-rdf-syntax-ns#\">\r\n   <cc:Work>\r\n    <dc:type rdf:resource=\"http://purl.org/dc/dcmitype/StillImage\"/>\r\n    <dc:date>2020-12-06T21:37:05.338876</dc:date>\r\n    <dc:format>image/svg+xml</dc:format>\r\n    <dc:creator>\r\n     <cc:Agent>\r\n      <dc:title>Matplotlib v3.3.2, https://matplotlib.org/</dc:title>\r\n     </cc:Agent>\r\n    </dc:creator>\r\n   </cc:Work>\r\n  </rdf:RDF>\r\n </metadata>\r\n <defs>\r\n  <style type=\"text/css\">*{stroke-linecap:butt;stroke-linejoin:round;}</style>\r\n </defs>\r\n <g id=\"figure_1\">\r\n  <g id=\"patch_1\">\r\n   <path d=\"M 0 257.778125 \r\nL 263.6875 257.778125 \r\nL 263.6875 0 \r\nL 0 0 \r\nz\r\n\" style=\"fill:none;\"/>\r\n  </g>\r\n  <g id=\"axes_1\">\r\n   <g id=\"patch_2\">\r\n    <path d=\"M 33.2875 247.078125 \r\nL 256.4875 247.078125 \r\nL 256.4875 23.878125 \r\nL 33.2875 23.878125 \r\nz\r\n\" style=\"fill:#ffffff;\"/>\r\n   </g>\r\n   <g clip-path=\"url(#p73a60ca030)\">\r\n    <image height=\"224\" id=\"image0005fc3804\" transform=\"scale(1 -1)translate(0 -224)\" width=\"224\" x=\"33.2875\" xlink:href=\"data:image/png;base64,\r\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\" y=\"-23.078125\"/>\r\n   </g>\r\n   <g id=\"matplotlib.axis_1\">\r\n    <g id=\"xtick_1\">\r\n     <g id=\"line2d_1\">\r\n      <defs>\r\n       <path d=\"M 0 0 \r\nL 0 3.5 \r\n\" id=\"md7268335d4\" style=\"stroke:#000000;stroke-width:0.8;\"/>\r\n      </defs>\r\n      <g>\r\n       <use style=\"stroke:#000000;stroke-width:0.8;\" x=\"33.461875\" xlink:href=\"#md7268335d4\" y=\"247.078125\"/>\r\n      </g>\r\n     </g>\r\n     <g id=\"line2d_2\">\r\n      <defs>\r\n       <path d=\"M 0 0 \r\nL 0 -3.5 \r\n\" id=\"m513083fca1\" style=\"stroke:#000000;stroke-width:0.8;\"/>\r\n      </defs>\r\n      <g>\r\n       <use style=\"stroke:#000000;stroke-width:0.8;\" x=\"33.461875\" xlink:href=\"#m513083fca1\" y=\"23.878125\"/>\r\n      </g>\r\n     </g>\r\n     <g id=\"text_1\">\r\n      <!-- 0 -->\r\n      <g transform=\"translate(30.280625 14.798438)scale(0.1 -0.1)\">\r\n       <defs>\r\n        <path d=\"M 31.78125 66.40625 \r\nQ 24.171875 66.40625 20.328125 58.90625 \r\nQ 16.5 51.421875 16.5 36.375 \r\nQ 16.5 21.390625 20.328125 13.890625 \r\nQ 24.171875 6.390625 31.78125 6.390625 \r\nQ 39.453125 6.390625 43.28125 13.890625 \r\nQ 47.125 21.390625 47.125 36.375 \r\nQ 47.125 51.421875 43.28125 58.90625 \r\nQ 39.453125 66.40625 31.78125 66.40625 \r\nz\r\nM 31.78125 74.21875 \r\nQ 44.046875 74.21875 50.515625 64.515625 \r\nQ 56.984375 54.828125 56.984375 36.375 \r\nQ 56.984375 17.96875 50.515625 8.265625 \r\nQ 44.046875 -1.421875 31.78125 -1.421875 \r\nQ 19.53125 -1.421875 13.0625 8.265625 \r\nQ 6.59375 17.96875 6.59375 36.375 \r\nQ 6.59375 54.828125 13.0625 64.515625 \r\nQ 19.53125 74.21875 31.78125 74.21875 \r\nz\r\n\" id=\"DejaVuSans-48\"/>\r\n       </defs>\r\n       <use xlink:href=\"#DejaVuSans-48\"/>\r\n      </g>\r\n     </g>\r\n    </g>\r\n    <g id=\"xtick_2\">\r\n     <g id=\"line2d_3\">\r\n      <g>\r\n       <use style=\"stroke:#000000;stroke-width:0.8;\" x=\"68.336875\" xlink:href=\"#md7268335d4\" y=\"247.078125\"/>\r\n      </g>\r\n     </g>\r\n     <g id=\"line2d_4\">\r\n      <g>\r\n       <use style=\"stroke:#000000;stroke-width:0.8;\" x=\"68.336875\" xlink:href=\"#m513083fca1\" y=\"23.878125\"/>\r\n      </g>\r\n     </g>\r\n     <g id=\"text_2\">\r\n      <!-- 100 -->\r\n      <g transform=\"translate(58.793125 14.798438)scale(0.1 -0.1)\">\r\n       <defs>\r\n        <path d=\"M 12.40625 8.296875 \r\nL 28.515625 8.296875 \r\nL 28.515625 63.921875 \r\nL 10.984375 60.40625 \r\nL 10.984375 69.390625 \r\nL 28.421875 72.90625 \r\nL 38.28125 72.90625 \r\nL 38.28125 8.296875 \r\nL 54.390625 8.296875 \r\nL 54.390625 0 \r\nL 12.40625 0 \r\nz\r\n\" id=\"DejaVuSans-49\"/>\r\n       </defs>\r\n       <use xlink:href=\"#DejaVuSans-49\"/>\r\n       <use x=\"63.623047\" xlink:href=\"#DejaVuSans-48\"/>\r\n       <use x=\"127.246094\" xlink:href=\"#DejaVuSans-48\"/>\r\n      </g>\r\n     </g>\r\n    </g>\r\n    <g id=\"xtick_3\">\r\n     <g id=\"line2d_5\">\r\n      <g>\r\n       <use style=\"stroke:#000000;stroke-width:0.8;\" x=\"103.211875\" xlink:href=\"#md7268335d4\" y=\"247.078125\"/>\r\n      </g>\r\n     </g>\r\n     <g id=\"line2d_6\">\r\n      <g>\r\n       <use style=\"stroke:#000000;stroke-width:0.8;\" x=\"103.211875\" xlink:href=\"#m513083fca1\" y=\"23.878125\"/>\r\n      </g>\r\n     </g>\r\n     <g id=\"text_3\">\r\n      <!-- 200 -->\r\n      <g transform=\"translate(93.668125 14.798438)scale(0.1 -0.1)\">\r\n       <defs>\r\n        <path d=\"M 19.1875 8.296875 \r\nL 53.609375 8.296875 \r\nL 53.609375 0 \r\nL 7.328125 0 \r\nL 7.328125 8.296875 \r\nQ 12.9375 14.109375 22.625 23.890625 \r\nQ 32.328125 33.6875 34.8125 36.53125 \r\nQ 39.546875 41.84375 41.421875 45.53125 \r\nQ 43.3125 49.21875 43.3125 52.78125 \r\nQ 43.3125 58.59375 39.234375 62.25 \r\nQ 35.15625 65.921875 28.609375 65.921875 \r\nQ 23.96875 65.921875 18.8125 64.3125 \r\nQ 13.671875 62.703125 7.8125 59.421875 \r\nL 7.8125 69.390625 \r\nQ 13.765625 71.78125 18.9375 73 \r\nQ 24.125 74.21875 28.421875 74.21875 \r\nQ 39.75 74.21875 46.484375 68.546875 \r\nQ 53.21875 62.890625 53.21875 53.421875 \r\nQ 53.21875 48.921875 51.53125 44.890625 \r\nQ 49.859375 40.875 45.40625 35.40625 \r\nQ 44.1875 33.984375 37.640625 27.21875 \r\nQ 31.109375 20.453125 19.1875 8.296875 \r\nz\r\n\" id=\"DejaVuSans-50\"/>\r\n       </defs>\r\n       <use xlink:href=\"#DejaVuSans-50\"/>\r\n       <use x=\"63.623047\" xlink:href=\"#DejaVuSans-48\"/>\r\n       <use x=\"127.246094\" xlink:href=\"#DejaVuSans-48\"/>\r\n      </g>\r\n     </g>\r\n    </g>\r\n    <g id=\"xtick_4\">\r\n     <g id=\"line2d_7\">\r\n      <g>\r\n       <use style=\"stroke:#000000;stroke-width:0.8;\" x=\"138.086875\" xlink:href=\"#md7268335d4\" y=\"247.078125\"/>\r\n      </g>\r\n     </g>\r\n     <g id=\"line2d_8\">\r\n      <g>\r\n       <use style=\"stroke:#000000;stroke-width:0.8;\" x=\"138.086875\" xlink:href=\"#m513083fca1\" y=\"23.878125\"/>\r\n      </g>\r\n     </g>\r\n     <g id=\"text_4\">\r\n      <!-- 300 -->\r\n      <g transform=\"translate(128.543125 14.798438)scale(0.1 -0.1)\">\r\n       <defs>\r\n        <path d=\"M 40.578125 39.3125 \r\nQ 47.65625 37.796875 51.625 33 \r\nQ 55.609375 28.21875 55.609375 21.1875 \r\nQ 55.609375 10.40625 48.1875 4.484375 \r\nQ 40.765625 -1.421875 27.09375 -1.421875 \r\nQ 22.515625 -1.421875 17.65625 -0.515625 \r\nQ 12.796875 0.390625 7.625 2.203125 \r\nL 7.625 11.71875 \r\nQ 11.71875 9.328125 16.59375 8.109375 \r\nQ 21.484375 6.890625 26.8125 6.890625 \r\nQ 36.078125 6.890625 40.9375 10.546875 \r\nQ 45.796875 14.203125 45.796875 21.1875 \r\nQ 45.796875 27.640625 41.28125 31.265625 \r\nQ 36.765625 34.90625 28.71875 34.90625 \r\nL 20.21875 34.90625 \r\nL 20.21875 43.015625 \r\nL 29.109375 43.015625 \r\nQ 36.375 43.015625 40.234375 45.921875 \r\nQ 44.09375 48.828125 44.09375 54.296875 \r\nQ 44.09375 59.90625 40.109375 62.90625 \r\nQ 36.140625 65.921875 28.71875 65.921875 \r\nQ 24.65625 65.921875 20.015625 65.03125 \r\nQ 15.375 64.15625 9.8125 62.3125 \r\nL 9.8125 71.09375 \r\nQ 15.4375 72.65625 20.34375 73.4375 \r\nQ 25.25 74.21875 29.59375 74.21875 \r\nQ 40.828125 74.21875 47.359375 69.109375 \r\nQ 53.90625 64.015625 53.90625 55.328125 \r\nQ 53.90625 49.265625 50.4375 45.09375 \r\nQ 46.96875 40.921875 40.578125 39.3125 \r\nz\r\n\" id=\"DejaVuSans-51\"/>\r\n       </defs>\r\n       <use xlink:href=\"#DejaVuSans-51\"/>\r\n       <use x=\"63.623047\" xlink:href=\"#DejaVuSans-48\"/>\r\n       <use x=\"127.246094\" xlink:href=\"#DejaVuSans-48\"/>\r\n      </g>\r\n     </g>\r\n    </g>\r\n    <g id=\"xtick_5\">\r\n     <g id=\"line2d_9\">\r\n      <g>\r\n       <use style=\"stroke:#000000;stroke-width:0.8;\" x=\"172.961875\" xlink:href=\"#md7268335d4\" y=\"247.078125\"/>\r\n      </g>\r\n     </g>\r\n     <g id=\"line2d_10\">\r\n      <g>\r\n       <use style=\"stroke:#000000;stroke-width:0.8;\" x=\"172.961875\" xlink:href=\"#m513083fca1\" y=\"23.878125\"/>\r\n      </g>\r\n     </g>\r\n     <g id=\"text_5\">\r\n      <!-- 400 -->\r\n      <g transform=\"translate(163.418125 14.798438)scale(0.1 -0.1)\">\r\n       <defs>\r\n        <path d=\"M 37.796875 64.3125 \r\nL 12.890625 25.390625 \r\nL 37.796875 25.390625 \r\nz\r\nM 35.203125 72.90625 \r\nL 47.609375 72.90625 \r\nL 47.609375 25.390625 \r\nL 58.015625 25.390625 \r\nL 58.015625 17.1875 \r\nL 47.609375 17.1875 \r\nL 47.609375 0 \r\nL 37.796875 0 \r\nL 37.796875 17.1875 \r\nL 4.890625 17.1875 \r\nL 4.890625 26.703125 \r\nz\r\n\" id=\"DejaVuSans-52\"/>\r\n       </defs>\r\n       <use xlink:href=\"#DejaVuSans-52\"/>\r\n       <use x=\"63.623047\" xlink:href=\"#DejaVuSans-48\"/>\r\n       <use x=\"127.246094\" xlink:href=\"#DejaVuSans-48\"/>\r\n      </g>\r\n     </g>\r\n    </g>\r\n    <g id=\"xtick_6\">\r\n     <g id=\"line2d_11\">\r\n      <g>\r\n       <use style=\"stroke:#000000;stroke-width:0.8;\" x=\"207.836875\" xlink:href=\"#md7268335d4\" y=\"247.078125\"/>\r\n      </g>\r\n     </g>\r\n     <g id=\"line2d_12\">\r\n      <g>\r\n       <use style=\"stroke:#000000;stroke-width:0.8;\" x=\"207.836875\" xlink:href=\"#m513083fca1\" y=\"23.878125\"/>\r\n      </g>\r\n     </g>\r\n     <g id=\"text_6\">\r\n      <!-- 500 -->\r\n      <g transform=\"translate(198.293125 14.798438)scale(0.1 -0.1)\">\r\n       <defs>\r\n        <path d=\"M 10.796875 72.90625 \r\nL 49.515625 72.90625 \r\nL 49.515625 64.59375 \r\nL 19.828125 64.59375 \r\nL 19.828125 46.734375 \r\nQ 21.96875 47.46875 24.109375 47.828125 \r\nQ 26.265625 48.1875 28.421875 48.1875 \r\nQ 40.625 48.1875 47.75 41.5 \r\nQ 54.890625 34.8125 54.890625 23.390625 \r\nQ 54.890625 11.625 47.5625 5.09375 \r\nQ 40.234375 -1.421875 26.90625 -1.421875 \r\nQ 22.3125 -1.421875 17.546875 -0.640625 \r\nQ 12.796875 0.140625 7.71875 1.703125 \r\nL 7.71875 11.625 \r\nQ 12.109375 9.234375 16.796875 8.0625 \r\nQ 21.484375 6.890625 26.703125 6.890625 \r\nQ 35.15625 6.890625 40.078125 11.328125 \r\nQ 45.015625 15.765625 45.015625 23.390625 \r\nQ 45.015625 31 40.078125 35.4375 \r\nQ 35.15625 39.890625 26.703125 39.890625 \r\nQ 22.75 39.890625 18.8125 39.015625 \r\nQ 14.890625 38.140625 10.796875 36.28125 \r\nz\r\n\" id=\"DejaVuSans-53\"/>\r\n       </defs>\r\n       <use xlink:href=\"#DejaVuSans-53\"/>\r\n       <use x=\"63.623047\" xlink:href=\"#DejaVuSans-48\"/>\r\n       <use x=\"127.246094\" xlink:href=\"#DejaVuSans-48\"/>\r\n      </g>\r\n     </g>\r\n    </g>\r\n    <g id=\"xtick_7\">\r\n     <g id=\"line2d_13\">\r\n      <g>\r\n       <use style=\"stroke:#000000;stroke-width:0.8;\" x=\"242.711875\" xlink:href=\"#md7268335d4\" y=\"247.078125\"/>\r\n      </g>\r\n     </g>\r\n     <g id=\"line2d_14\">\r\n      <g>\r\n       <use style=\"stroke:#000000;stroke-width:0.8;\" x=\"242.711875\" xlink:href=\"#m513083fca1\" y=\"23.878125\"/>\r\n      </g>\r\n     </g>\r\n     <g id=\"text_7\">\r\n      <!-- 600 -->\r\n      <g transform=\"translate(233.168125 14.798438)scale(0.1 -0.1)\">\r\n       <defs>\r\n        <path d=\"M 33.015625 40.375 \r\nQ 26.375 40.375 22.484375 35.828125 \r\nQ 18.609375 31.296875 18.609375 23.390625 \r\nQ 18.609375 15.53125 22.484375 10.953125 \r\nQ 26.375 6.390625 33.015625 6.390625 \r\nQ 39.65625 6.390625 43.53125 10.953125 \r\nQ 47.40625 15.53125 47.40625 23.390625 \r\nQ 47.40625 31.296875 43.53125 35.828125 \r\nQ 39.65625 40.375 33.015625 40.375 \r\nz\r\nM 52.59375 71.296875 \r\nL 52.59375 62.3125 \r\nQ 48.875 64.0625 45.09375 64.984375 \r\nQ 41.3125 65.921875 37.59375 65.921875 \r\nQ 27.828125 65.921875 22.671875 59.328125 \r\nQ 17.53125 52.734375 16.796875 39.40625 \r\nQ 19.671875 43.65625 24.015625 45.921875 \r\nQ 28.375 48.1875 33.59375 48.1875 \r\nQ 44.578125 48.1875 50.953125 41.515625 \r\nQ 57.328125 34.859375 57.328125 23.390625 \r\nQ 57.328125 12.15625 50.6875 5.359375 \r\nQ 44.046875 -1.421875 33.015625 -1.421875 \r\nQ 20.359375 -1.421875 13.671875 8.265625 \r\nQ 6.984375 17.96875 6.984375 36.375 \r\nQ 6.984375 53.65625 15.1875 63.9375 \r\nQ 23.390625 74.21875 37.203125 74.21875 \r\nQ 40.921875 74.21875 44.703125 73.484375 \r\nQ 48.484375 72.75 52.59375 71.296875 \r\nz\r\n\" id=\"DejaVuSans-54\"/>\r\n       </defs>\r\n       <use xlink:href=\"#DejaVuSans-54\"/>\r\n       <use x=\"63.623047\" xlink:href=\"#DejaVuSans-48\"/>\r\n       <use x=\"127.246094\" xlink:href=\"#DejaVuSans-48\"/>\r\n      </g>\r\n     </g>\r\n    </g>\r\n   </g>\r\n   <g id=\"matplotlib.axis_2\">\r\n    <g id=\"ytick_1\">\r\n     <g id=\"line2d_15\">\r\n      <defs>\r\n       <path d=\"M 0 0 \r\nL -3.5 0 \r\n\" id=\"m7a2210d5b4\" style=\"stroke:#000000;stroke-width:0.8;\"/>\r\n      </defs>\r\n      <g>\r\n       <use style=\"stroke:#000000;stroke-width:0.8;\" x=\"33.2875\" xlink:href=\"#m7a2210d5b4\" y=\"24.0525\"/>\r\n      </g>\r\n     </g>\r\n     <g id=\"text_8\">\r\n      <!-- 0 -->\r\n      <g transform=\"translate(19.925 27.851719)scale(0.1 -0.1)\">\r\n       <use xlink:href=\"#DejaVuSans-48\"/>\r\n      </g>\r\n     </g>\r\n    </g>\r\n    <g id=\"ytick_2\">\r\n     <g id=\"line2d_16\">\r\n      <g>\r\n       <use style=\"stroke:#000000;stroke-width:0.8;\" x=\"33.2875\" xlink:href=\"#m7a2210d5b4\" y=\"58.9275\"/>\r\n      </g>\r\n     </g>\r\n     <g id=\"text_9\">\r\n      <!-- 100 -->\r\n      <g transform=\"translate(7.2 62.726719)scale(0.1 -0.1)\">\r\n       <use xlink:href=\"#DejaVuSans-49\"/>\r\n       <use x=\"63.623047\" xlink:href=\"#DejaVuSans-48\"/>\r\n       <use x=\"127.246094\" xlink:href=\"#DejaVuSans-48\"/>\r\n      </g>\r\n     </g>\r\n    </g>\r\n    <g id=\"ytick_3\">\r\n     <g id=\"line2d_17\">\r\n      <g>\r\n       <use style=\"stroke:#000000;stroke-width:0.8;\" x=\"33.2875\" xlink:href=\"#m7a2210d5b4\" y=\"93.8025\"/>\r\n      </g>\r\n     </g>\r\n     <g id=\"text_10\">\r\n      <!-- 200 -->\r\n      <g transform=\"translate(7.2 97.601719)scale(0.1 -0.1)\">\r\n       <use xlink:href=\"#DejaVuSans-50\"/>\r\n       <use x=\"63.623047\" xlink:href=\"#DejaVuSans-48\"/>\r\n       <use x=\"127.246094\" xlink:href=\"#DejaVuSans-48\"/>\r\n      </g>\r\n     </g>\r\n    </g>\r\n    <g id=\"ytick_4\">\r\n     <g id=\"line2d_18\">\r\n      <g>\r\n       <use style=\"stroke:#000000;stroke-width:0.8;\" x=\"33.2875\" xlink:href=\"#m7a2210d5b4\" y=\"128.6775\"/>\r\n      </g>\r\n     </g>\r\n     <g id=\"text_11\">\r\n      <!-- 300 -->\r\n      <g transform=\"translate(7.2 132.476719)scale(0.1 -0.1)\">\r\n       <use xlink:href=\"#DejaVuSans-51\"/>\r\n       <use x=\"63.623047\" xlink:href=\"#DejaVuSans-48\"/>\r\n       <use x=\"127.246094\" xlink:href=\"#DejaVuSans-48\"/>\r\n      </g>\r\n     </g>\r\n    </g>\r\n    <g id=\"ytick_5\">\r\n     <g id=\"line2d_19\">\r\n      <g>\r\n       <use style=\"stroke:#000000;stroke-width:0.8;\" x=\"33.2875\" xlink:href=\"#m7a2210d5b4\" y=\"163.5525\"/>\r\n      </g>\r\n     </g>\r\n     <g id=\"text_12\">\r\n      <!-- 400 -->\r\n      <g transform=\"translate(7.2 167.351719)scale(0.1 -0.1)\">\r\n       <use xlink:href=\"#DejaVuSans-52\"/>\r\n       <use x=\"63.623047\" xlink:href=\"#DejaVuSans-48\"/>\r\n       <use x=\"127.246094\" xlink:href=\"#DejaVuSans-48\"/>\r\n      </g>\r\n     </g>\r\n    </g>\r\n    <g id=\"ytick_6\">\r\n     <g id=\"line2d_20\">\r\n      <g>\r\n       <use style=\"stroke:#000000;stroke-width:0.8;\" x=\"33.2875\" xlink:href=\"#m7a2210d5b4\" y=\"198.4275\"/>\r\n      </g>\r\n     </g>\r\n     <g id=\"text_13\">\r\n      <!-- 500 -->\r\n      <g transform=\"translate(7.2 202.226719)scale(0.1 -0.1)\">\r\n       <use xlink:href=\"#DejaVuSans-53\"/>\r\n       <use x=\"63.623047\" xlink:href=\"#DejaVuSans-48\"/>\r\n       <use x=\"127.246094\" xlink:href=\"#DejaVuSans-48\"/>\r\n      </g>\r\n     </g>\r\n    </g>\r\n    <g id=\"ytick_7\">\r\n     <g id=\"line2d_21\">\r\n      <g>\r\n       <use style=\"stroke:#000000;stroke-width:0.8;\" x=\"33.2875\" xlink:href=\"#m7a2210d5b4\" y=\"233.3025\"/>\r\n      </g>\r\n     </g>\r\n     <g id=\"text_14\">\r\n      <!-- 600 -->\r\n      <g transform=\"translate(7.2 237.101719)scale(0.1 -0.1)\">\r\n       <use xlink:href=\"#DejaVuSans-54\"/>\r\n       <use x=\"63.623047\" xlink:href=\"#DejaVuSans-48\"/>\r\n       <use x=\"127.246094\" xlink:href=\"#DejaVuSans-48\"/>\r\n      </g>\r\n     </g>\r\n    </g>\r\n   </g>\r\n   <g id=\"patch_3\">\r\n    <path d=\"M 33.2875 247.078125 \r\nL 33.2875 23.878125 \r\n\" style=\"fill:none;stroke:#000000;stroke-linecap:square;stroke-linejoin:miter;stroke-width:0.8;\"/>\r\n   </g>\r\n   <g id=\"patch_4\">\r\n    <path d=\"M 256.4875 247.078125 \r\nL 256.4875 23.878125 \r\n\" style=\"fill:none;stroke:#000000;stroke-linecap:square;stroke-linejoin:miter;stroke-width:0.8;\"/>\r\n   </g>\r\n   <g id=\"patch_5\">\r\n    <path d=\"M 33.2875 247.078125 \r\nL 256.4875 247.078125 \r\n\" style=\"fill:none;stroke:#000000;stroke-linecap:square;stroke-linejoin:miter;stroke-width:0.8;\"/>\r\n   </g>\r\n   <g id=\"patch_6\">\r\n    <path d=\"M 33.2875 23.878125 \r\nL 256.4875 23.878125 \r\n\" style=\"fill:none;stroke:#000000;stroke-linecap:square;stroke-linejoin:miter;stroke-width:0.8;\"/>\r\n   </g>\r\n  </g>\r\n </g>\r\n <defs>\r\n  <clipPath id=\"p73a60ca030\">\r\n   <rect height=\"223.2\" width=\"223.2\" x=\"33.2875\" y=\"23.878125\"/>\r\n  </clipPath>\r\n </defs>\r\n</svg>\r\n",
      "image/png": "[encoded data removed]"
     },
     "metadata": {
      "needs_background": "light"
     }
    }
   ],
   "source": [
    "plt.matshow(StateMatrix)\n",
    "plt.show()"
   ]
  },
  {
   "cell_type": "code",
   "execution_count": 274,
   "metadata": {},
   "outputs": [],
   "source": [
    "save = np.full((640, 640), 0.0)"
   ]
  },
  {
   "cell_type": "code",
   "execution_count": 275,
   "metadata": {
    "tags": []
   },
   "outputs": [
    {
     "output_type": "stream",
     "name": "stdout",
     "text": [
      "1.0\n1.0\n0.5\n0.5\n1.0\n0.9166666666666666\n0.08333333333333333\n0.5\n0.5\n1.0\n1.0\n0.6666666666666666\n0.3333333333333333\n1.0\n1.0\n1.0\n1.0\n1.0\n1.0\n0.5\n0.5\n1.0\n0.8571428571428571\n0.14285714285714285\n1.0\n0.5\n0.5\n1.0\n1.0\n1.0\n1.0\n0.5\n0.5\n0.75\n0.25\n1.0\n0.5\n0.5\n0.75\n0.25\n0.8\n0.2\n0.875\n0.125\n0.6666666666666666\n0.1111111111111111\n0.1111111111111111\n0.1111111111111111\n0.5\n0.5\n0.75\n0.25\n1.0\n0.5\n0.5\n1.0\n0.5\n0.5\n1.0\n0.8571428571428571\n0.14285714285714285\n1.0\n0.6666666666666666\n0.3333333333333333\n0.5\n0.5\n0.5\n0.5\n1.0\n1.0\n0.6666666666666666\n0.3333333333333333\n0.5\n0.5\n1.0\n0.5\n0.5\n1.0\n0.125\n0.75\n0.125\n0.8571428571428571\n0.14285714285714285\n0.5\n0.5\n0.8333333333333334\n0.16666666666666666\n0.5\n0.5\n0.9090909090909091\n0.09090909090909091\n1.0\n0.8333333333333334\n0.16666666666666666\n0.5\n0.5\n0.5\n0.5\n0.3333333333333333\n0.3333333333333333\n0.3333333333333333\n1.0\n0.75\n0.25\n1.0\n1.0\n0.7777777777777778\n0.1111111111111111\n0.1111111111111111\n0.8\n0.2\n1.0\n1.0\n0.8333333333333334\n0.16666666666666666\n0.9090909090909091\n0.09090909090909091\n0.8571428571428571\n0.14285714285714285\n1.0\n0.5\n0.5\n0.5\n0.5\n0.8\n0.2\n0.9166666666666666\n0.08333333333333333\n1.0\n0.9333333333333333\n0.06666666666666667\n1.0\n0.6666666666666666\n0.3333333333333333\n0.8571428571428571\n0.14285714285714285\n0.5\n0.5\n0.5\n0.5\n0.5\n0.5\n0.8888888888888888\n0.1111111111111111\n1.0\n0.6666666666666666\n0.3333333333333333\n0.6666666666666666\n0.3333333333333333\n1.0\n1.0\n0.5\n0.5\n0.5\n0.5\n0.75\n0.25\n0.7777777777777778\n0.1111111111111111\n0.1111111111111111\n0.8888888888888888\n0.1111111111111111\n0.5\n0.5\n0.6666666666666666\n0.16666666666666666\n0.16666666666666666\n1.0\n0.8\n0.2\n1.0\n0.75\n0.25\n1.0\n0.5\n0.5\n0.5\n0.5\n1.0\n0.75\n0.25\n0.5\n0.5\n0.9090909090909091\n0.09090909090909091\n0.6666666666666666\n0.3333333333333333\n0.5\n0.5\n1.0\n1.0\n1.0\n1.0\n1.0\n1.0\n0.8\n0.2\n1.0\n1.0\n0.25\n0.5\n0.25\n1.0\n1.0\n0.5\n0.5\n0.5\n0.5\n0.5\n0.5\n1.0\n1.0\n0.7142857142857143\n0.2857142857142857\n0.5\n0.25\n0.25\n1.0\n0.8\n0.2\n0.75\n0.25\n0.6666666666666666\n0.3333333333333333\n1.0\n0.75\n0.25\n1.0\n0.5\n0.5\n1.0\n0.8333333333333334\n0.16666666666666666\n1.0\n1.0\n0.6666666666666666\n0.3333333333333333\n1.0\n1.0\n1.0\n0.8\n0.2\n0.5\n0.5\n1.0\n0.6666666666666666\n0.3333333333333333\n0.75\n0.25\n0.5\n0.5\n0.8\n0.2\n1.0\n0.8\n0.2\n0.8571428571428571\n0.14285714285714285\n1.0\n0.8571428571428571\n0.14285714285714285\n0.5\n0.5\n0.6666666666666666\n0.3333333333333333\n0.5\n0.5\n0.3333333333333333\n0.6666666666666666\n0.6666666666666666\n0.3333333333333333\n0.75\n0.25\n0.14285714285714285\n0.8571428571428571\n1.0\n0.6666666666666666\n0.3333333333333333\n0.5\n0.5\n1.0\n0.75\n0.25\n0.8\n0.2\n1.0\n0.8333333333333334\n0.16666666666666666\n1.0\n0.9090909090909091\n0.09090909090909091\n0.2\n0.8\n1.0\n0.75\n0.25\n0.8\n0.2\n1.0\n0.875\n0.125\n0.8\n0.2\n0.875\n0.125\n0.75\n0.25\n0.6666666666666666\n0.3333333333333333\n0.5\n0.5\n0.8888888888888888\n0.1111111111111111\n1.0\n0.25\n0.5\n0.25\n1.0\n1.0\n1.0\n1.0\n0.875\n0.125\n1.0\n0.875\n0.125\n1.0\n1.0\n1.0\n0.8333333333333334\n0.16666666666666666\n0.5\n0.5\n0.8888888888888888\n0.1111111111111111\n1.0\n1.0\n0.3333333333333333\n0.3333333333333333\n0.3333333333333333\n0.5\n0.5\n0.5\n0.5\n1.0\n0.75\n0.25\n0.5\n0.5\n0.8571428571428571\n0.14285714285714285\n1.0\n0.8\n0.2\n0.75\n0.25\n0.6\n0.2\n0.2\n1.0\n0.6666666666666666\n0.3333333333333333\n0.6666666666666666\n0.3333333333333333\n1.0\n1.0\n0.5\n0.5\n0.5\n0.5\n1.0\n1.0\n0.5\n0.5\n1.0\n0.5\n0.5\n0.5\n0.5\n0.5\n0.5\n0.8\n0.2\n0.8333333333333334\n0.16666666666666666\n1.0\n0.9166666666666666\n0.08333333333333333\n0.6666666666666666\n0.3333333333333333\n0.6666666666666666\n0.3333333333333333\n1.0\n0.5\n0.5\n1.0\n0.75\n0.25\n0.8333333333333334\n0.16666666666666666\n0.5\n0.25\n0.25\n0.5\n0.25\n0.25\n0.3333333333333333\n0.6666666666666666\n0.6666666666666666\n0.3333333333333333\n0.3333333333333333\n0.6666666666666666\n0.75\n0.25\n0.875\n0.125\n0.75\n0.25\n1.0\n1.0\n0.5\n0.5\n1.0\n0.9\n0.1\n0.5\n0.5\n0.8\n0.2\n0.5\n0.25\n0.25\n0.5\n0.5\n1.0\n1.0\n1.0\n1.0\n0.5\n0.5\n0.3333333333333333\n0.3333333333333333\n0.3333333333333333\n0.125\n0.875\n0.5\n0.5\n0.8888888888888888\n0.1111111111111111\n0.6666666666666666\n0.3333333333333333\n1.0\n1.0\n1.0\n1.0\n1.0\n1.0\n0.5\n0.5\n1.0\n0.5\n0.5\n1.0\n0.5\n0.5\n1.0\n0.6666666666666666\n0.3333333333333333\n0.5\n0.5\n0.8\n0.2\n0.8\n0.2\n0.9166666666666666\n0.08333333333333333\n1.0\n0.75\n0.25\n0.5\n0.5\n0.5\n0.5\n1.0\n1.0\n0.8333333333333334\n0.16666666666666666\n1.0\n1.0\n1.0\n0.5\n0.5\n0.75\n0.25\n0.6666666666666666\n0.3333333333333333\n1.0\n0.25\n0.5\n0.25\n1.0\n1.0\n1.0\n1.0\n1.0\n0.6666666666666666\n0.3333333333333333\n1.0\n1.0\n0.6666666666666666\n0.3333333333333333\n1.0\n0.875\n0.125\n1.0\n0.5\n0.5\n0.9545454545454546\n0.045454545454545456\n0.9090909090909091\n0.09090909090909091\n1.0\n0.6666666666666666\n0.3333333333333333\n0.6666666666666666\n0.3333333333333333\n0.5\n0.5\n1.0\n0.8571428571428571\n0.14285714285714285\n0.5\n0.5\n0.5\n0.5\n0.6666666666666666\n0.3333333333333333\n0.5\n0.5\n0.8\n0.2\n0.8\n0.2\n0.6666666666666666\n0.3333333333333333\n0.8888888888888888\n0.1111111111111111\n1.0\n1.0\n0.8333333333333334\n0.16666666666666666\n1.0\n0.75\n0.25\n0.9\n0.1\n1.0\n0.5\n0.5\n1.0\n1.0\n0.6666666666666666\n0.3333333333333333\n0.8888888888888888\n0.1111111111111111\n1.0\n0.9333333333333333\n0.06666666666666667\n1.0\n0.5\n0.5\n1.0\n0.8571428571428571\n0.14285714285714285\n1.0\n0.9285714285714286\n0.07142857142857142\n0.5\n0.5\n0.3333333333333333\n0.3333333333333333\n0.3333333333333333\n0.5\n0.5\n0.9230769230769231\n0.07692307692307693\n0.9230769230769231\n0.07692307692307693\n0.8333333333333334\n0.16666666666666666\n1.0\n1.0\n0.9090909090909091\n0.09090909090909091\n0.875\n0.125\n0.8333333333333334\n0.16666666666666666\n0.75\n0.25\n1.0\n0.8333333333333334\n0.16666666666666666\n1.0\n0.5\n0.5\n0.75\n0.25\n0.5\n0.5\n0.5\n0.5\n1.0\n0.5\n0.5\n0.5\n0.5\n1.0\n0.75\n0.25\n0.5\n0.5\n0.14285714285714285\n0.8571428571428571\n1.0\n0.5\n0.5\n0.8333333333333334\n0.16666666666666666\n1.0\n1.0\n1.0\n1.0\n0.8571428571428571\n0.14285714285714285\n0.8333333333333334\n0.16666666666666666\n0.6666666666666666\n0.3333333333333333\n0.6666666666666666\n0.3333333333333333\n1.0\n0.9090909090909091\n0.09090909090909091\n0.5\n0.5\n0.6666666666666666\n0.3333333333333333\n0.8333333333333334\n0.16666666666666666\n1.0\n1.0\n0.8571428571428571\n0.14285714285714285\n1.0\n0.8571428571428571\n0.14285714285714285\n0.75\n0.25\n0.875\n0.125\n0.8888888888888888\n0.1111111111111111\n1.0\n0.5\n0.5\n1.0\n0.8\n0.2\n1.0\n0.75\n0.25\n0.3333333333333333\n0.3333333333333333\n0.3333333333333333\n0.7142857142857143\n0.14285714285714285\n0.14285714285714285\n0.5\n0.5\n0.8571428571428571\n0.14285714285714285\n0.75\n0.25\n0.9583333333333334\n0.041666666666666664\n1.0\n0.8571428571428571\n0.14285714285714285\n0.8333333333333334\n0.16666666666666666\n0.875\n0.125\n1.0\n1.0\n0.5\n0.5\n0.5\n0.5\n1.0\n1.0\n1.0\n1.0\n0.5\n0.5\n0.75\n0.25\n0.5\n0.5\n1.0\n0.6666666666666666\n0.3333333333333333\n1.0\n0.25\n0.5\n0.25\n1.0\n1.0\n0.5\n0.5\n1.0\n0.5\n0.5\n0.5\n0.5\n0.5\n0.5\n0.9\n0.1\n0.9090909090909091\n0.09090909090909091\n0.8333333333333334\n0.16666666666666666\n0.967741935483871\n0.03225806451612903\n0.8333333333333334\n0.16666666666666666\n1.0\n0.8461538461538461\n0.07692307692307693\n0.07692307692307693\n0.8\n0.2\n0.6666666666666666\n0.3333333333333333\n0.8571428571428571\n0.14285714285714285\n1.0\n0.9\n0.1\n0.8888888888888888\n0.1111111111111111\n1.0\n0.7142857142857143\n0.14285714285714285\n0.14285714285714285\n0.75\n0.25\n1.0\n0.75\n0.25\n0.6666666666666666\n0.3333333333333333\n0.75\n0.25\n0.5\n0.5\n1.0\n0.8333333333333334\n0.16666666666666666\n1.0\n1.0\n0.8888888888888888\n0.1111111111111111\n0.75\n0.25\n0.5\n0.5\n0.8\n0.2\n0.875\n0.125\n0.6666666666666666\n0.3333333333333333\n0.6666666666666666\n0.3333333333333333\n1.0\n0.5\n0.5\n0.5\n0.5\n0.6666666666666666\n0.3333333333333333\n0.75\n0.25\n0.75\n0.25\n0.8571428571428571\n0.14285714285714285\n0.01694915254237288\n0.9830508474576272\n0.5\n0.5\n0.8333333333333334\n0.16666666666666666\n0.6666666666666666\n0.3333333333333333\n0.9629629629629629\n0.037037037037037035\n0.875\n0.125\n0.8\n0.1\n0.1\n0.125\n0.875\n1.0\n1.0\n0.6666666666666666\n0.3333333333333333\n1.0\n1.0\n0.5\n0.5\n1.0\n0.5\n0.5\n1.0\n1.0\n0.5\n0.5\n1.0\n0.6666666666666666\n0.3333333333333333\n0.5\n0.5\n0.8333333333333334\n0.16666666666666666\n1.0\n0.8\n0.2\n0.5\n0.5\n1.0\n1.0\n0.75\n0.25\n1.0\n1.0\n1.0\n1.0\n0.5\n0.5\n1.0\n1.0\n0.6666666666666666\n0.3333333333333333\n1.0\n0.5\n0.5\n1.0\n0.6666666666666666\n0.3333333333333333\n0.8888888888888888\n0.05555555555555555\n0.05555555555555555\n0.8\n0.2\n0.05555555555555555\n0.8888888888888888\n0.05555555555555555\n0.16666666666666666\n0.8333333333333334\n0.967741935483871\n0.03225806451612903\n0.6666666666666666\n0.3333333333333333\n0.5\n0.5\n0.9166666666666666\n0.08333333333333333\n1.0\n0.9666666666666667\n0.03333333333333333\n0.8333333333333334\n0.16666666666666666\n1.0\n0.75\n0.25\n0.6666666666666666\n0.3333333333333333\n0.5\n0.5\n0.875\n0.125\n1.0\n1.0\n1.0\n0.75\n0.25\n0.8333333333333334\n0.16666666666666666\n1.0\n1.0\n1.0\n0.9230769230769231\n0.07692307692307693\n1.0\n0.75\n0.25\n0.9166666666666666\n0.08333333333333333\n0.8571428571428571\n0.14285714285714285\n0.9696969696969697\n0.030303030303030304\n0.9\n0.1\n0.5\n0.5\n0.875\n0.125\n1.0\n1.0\n1.0\n1.0\n1.0\n1.0\n1.0\n0.5\n0.5\n0.9090909090909091\n0.09090909090909091\n0.9090909090909091\n0.09090909090909091\n1.0\n0.9\n0.1\n0.9411764705882353\n0.058823529411764705\n1.0\n0.9\n0.1\n0.8571428571428571\n0.14285714285714285\n0.5\n0.5\n0.8333333333333334\n0.16666666666666666\n0.8571428571428571\n0.14285714285714285\n1.0\n0.7777777777777778\n0.1111111111111111\n0.1111111111111111\n0.07692307692307693\n0.9230769230769231\n0.8571428571428571\n0.14285714285714285\n1.0\n1.0\n0.5\n0.5\n1.0\n1.0\n1.0\n1.0\n1.0\n0.5\n0.5\n0.75\n0.25\n0.75\n0.25\n1.0\n0.6666666666666666\n0.3333333333333333\n0.8333333333333334\n0.16666666666666666\n0.5\n0.5\n0.75\n0.25\n1.0\n0.5\n0.25\n0.25\n1.0\n1.0\n0.5\n0.5\n0.5\n0.5\n1.0\n0.6666666666666666\n0.3333333333333333\n0.8\n0.2\n0.5\n0.5\n1.0\n0.8571428571428571\n0.14285714285714285\n0.5\n0.5\n1.0\n0.5\n0.5\n0.6666666666666666\n0.3333333333333333\n0.5\n0.5\n0.8\n0.1\n0.1\n1.0\n0.5\n0.5\n0.5\n0.5\n0.8571428571428571\n0.14285714285714285\n0.5\n0.5\n1.0\n1.0\n0.9230769230769231\n0.07692307692307693\n1.0\n"
     ]
    }
   ],
   "source": [
    "for i in range(len(StateMatrix)):\n",
    "    s = StateMatrix[i].sum().astype('float')\n",
    "    #print(s)\n",
    "    if(s != 0):\n",
    "        for j in range(len(StateMatrix[i])):\n",
    "            if(StateMatrix[i][j] != 0):\n",
    "                #print(StateMatrix[i][j])\n",
    "                print(StateMatrix[i][j].astype('float') / s)\n",
    "                save[i][j] = StateMatrix[i][j].astype('float') / s"
   ]
  },
  {
   "cell_type": "code",
   "execution_count": 276,
   "metadata": {},
   "outputs": [
    {
     "output_type": "stream",
     "name": "stdout",
     "text": [
      "1.0\n1.0\n0.5\n1.0\n0.9166666666666666\n0.5\n1.0\n1.0\n0.6666666666666666\n1.0\n1.0\n1.0\n1.0\n1.0\n1.0\n0.5\n1.0\n0.8571428571428571\n1.0\n0.5\n1.0\n1.0\n1.0\n1.0\n0.5\n0.75\n1.0\n0.5\n0.75\n0.8\n0.875\n0.6666666666666666\n0.5\n0.75\n1.0\n0.5\n1.0\n0.5\n1.0\n0.8571428571428571\n1.0\n0.6666666666666666\n0.5\n0.5\n1.0\n1.0\n0.6666666666666666\n0.0\n0.5\n1.0\n0.5\n1.0\n0.75\n0.8571428571428571\n0.5\n0.8333333333333334\n0.5\n0.9090909090909091\n1.0\n0.8333333333333334\n0.5\n0.5\n0.3333333333333333\n1.0\n0.75\n1.0\n1.0\n0.7777777777777778\n0.8\n1.0\n1.0\n0.8333333333333334\n0.9090909090909091\n0.8571428571428571\n1.0\n0.5\n0.5\n0.8\n0.9166666666666666\n1.0\n0.9333333333333333\n1.0\n0.6666666666666666\n0.8571428571428571\n0.5\n0.5\n0.5\n0.8888888888888888\n1.0\n0.6666666666666666\n0.6666666666666666\n1.0\n1.0\n0.5\n0.5\n0.75\n0.7777777777777778\n0.8888888888888888\n0.5\n0.6666666666666666\n1.0\n0.8\n1.0\n0.75\n1.0\n0.5\n0.5\n1.0\n0.75\n0.5\n0.9090909090909091\n0.6666666666666666\n0.5\n1.0\n1.0\n1.0\n1.0\n1.0\n1.0\n0.8\n1.0\n1.0\n0.5\n1.0\n1.0\n0.5\n0.5\n0.5\n1.0\n1.0\n0.7142857142857143\n0.5\n1.0\n0.8\n0.0\n0.75\n0.6666666666666666\n1.0\n0.75\n1.0\n0.5\n1.0\n0.8333333333333334\n1.0\n1.0\n0.6666666666666666\n1.0\n1.0\n1.0\n0.8\n0.5\n1.0\n0.6666666666666666\n0.0\n0.75\n0.5\n0.8\n1.0\n0.8\n0.8571428571428571\n1.0\n0.8571428571428571\n0.5\n0.6666666666666666\n0.5\n0.6666666666666666\n0.6666666666666666\n0.75\n0.8571428571428571\n1.0\n0.6666666666666666\n0.5\n1.0\n0.75\n0.8\n0.0\n1.0\n0.8333333333333334\n1.0\n0.9090909090909091\n0.8\n1.0\n0.0\n0.75\n0.8\n1.0\n0.875\n0.8\n0.875\n0.75\n0.6666666666666666\n0.5\n0.8888888888888888\n1.0\n0.5\n1.0\n1.0\n1.0\n1.0\n0.875\n1.0\n0.0\n0.875\n1.0\n1.0\n1.0\n0.8333333333333334\n0.5\n0.8888888888888888\n1.0\n1.0\n0.3333333333333333\n0.5\n0.5\n1.0\n0.75\n0.5\n0.0\n0.8571428571428571\n1.0\n0.8\n0.75\n0.6\n1.0\n0.6666666666666666\n0.6666666666666666\n1.0\n1.0\n0.5\n0.5\n1.0\n1.0\n0.5\n1.0\n0.5\n0.5\n0.5\n0.8\n0.8333333333333334\n0.0\n1.0\n0.9166666666666666\n0.6666666666666666\n0.6666666666666666\n1.0\n0.5\n1.0\n0.75\n0.8333333333333334\n0.5\n0.5\n0.6666666666666666\n0.6666666666666666\n0.6666666666666666\n0.75\n0.875\n0.75\n1.0\n1.0\n0.5\n1.0\n0.9\n0.5\n0.8\n0.5\n0.5\n1.0\n1.0\n1.0\n1.0\n0.5\n0.3333333333333333\n0.875\n0.5\n0.8888888888888888\n0.6666666666666666\n1.0\n1.0\n1.0\n1.0\n1.0\n1.0\n0.5\n1.0\n0.5\n1.0\n0.5\n1.0\n0.6666666666666666\n0.5\n0.0\n0.8\n0.8\n0.9166666666666666\n1.0\n0.75\n0.5\n0.5\n1.0\n1.0\n0.8333333333333334\n1.0\n1.0\n0.0\n1.0\n0.5\n0.75\n0.6666666666666666\n1.0\n0.0\n0.0\n0.5\n1.0\n1.0\n1.0\n1.0\n1.0\n0.6666666666666666\n1.0\n1.0\n0.6666666666666666\n1.0\n0.875\n1.0\n0.5\n0.9545454545454546\n0.9090909090909091\n1.0\n0.6666666666666666\n0.6666666666666666\n0.5\n1.0\n0.8571428571428571\n0.0\n0.5\n0.5\n0.6666666666666666\n0.5\n0.8\n0.8\n0.6666666666666666\n0.8888888888888888\n1.0\n1.0\n0.0\n0.8333333333333334\n0.0\n1.0\n0.75\n0.9\n1.0\n0.5\n1.0\n1.0\n0.6666666666666666\n0.8888888888888888\n1.0\n0.9333333333333333\n1.0\n0.5\n1.0\n0.8571428571428571\n1.0\n0.9285714285714286\n0.5\n0.3333333333333333\n0.5\n0.9230769230769231\n0.9230769230769231\n0.8333333333333334\n1.0\n1.0\n0.9090909090909091\n0.875\n0.8333333333333334\n0.75\n1.0\n0.8333333333333334\n1.0\n0.5\n0.75\n0.5\n0.5\n1.0\n0.5\n0.5\n1.0\n0.75\n0.5\n0.8571428571428571\n1.0\n0.5\n0.8333333333333334\n1.0\n1.0\n1.0\n1.0\n0.8571428571428571\n0.0\n0.8333333333333334\n0.6666666666666666\n0.6666666666666666\n1.0\n0.9090909090909091\n0.5\n0.6666666666666666\n0.8333333333333334\n1.0\n1.0\n0.8571428571428571\n1.0\n0.8571428571428571\n0.75\n0.875\n0.8888888888888888\n1.0\n0.5\n1.0\n0.0\n0.8\n1.0\n0.75\n0.3333333333333333\n0.7142857142857143\n0.5\n0.8571428571428571\n0.75\n0.9583333333333334\n0.0\n1.0\n0.8571428571428571\n0.8333333333333334\n0.0\n0.875\n1.0\n1.0\n0.5\n0.5\n1.0\n1.0\n1.0\n1.0\n0.5\n0.75\n0.5\n1.0\n0.6666666666666666\n1.0\n0.5\n1.0\n1.0\n0.5\n1.0\n0.5\n0.5\n0.5\n0.9\n0.0\n0.9090909090909091\n0.8333333333333334\n0.967741935483871\n0.8333333333333334\n1.0\n0.8461538461538461\n0.8\n0.6666666666666666\n0.8571428571428571\n1.0\n0.9\n0.8888888888888888\n1.0\n0.7142857142857143\n0.75\n1.0\n0.75\n0.6666666666666666\n0.75\n0.5\n1.0\n0.8333333333333334\n1.0\n1.0\n0.8888888888888888\n0.75\n0.5\n0.8\n0.875\n0.0\n0.6666666666666666\n0.6666666666666666\n1.0\n0.5\n0.5\n0.6666666666666666\n0.75\n0.75\n0.8571428571428571\n0.9830508474576272\n0.5\n0.8333333333333334\n0.6666666666666666\n0.9629629629629629\n0.875\n0.8\n0.875\n1.0\n1.0\n0.0\n0.6666666666666666\n1.0\n1.0\n0.5\n1.0\n0.5\n1.0\n1.0\n0.5\n1.0\n0.6666666666666666\n0.5\n0.8333333333333334\n1.0\n0.8\n0.5\n1.0\n1.0\n0.75\n1.0\n1.0\n1.0\n1.0\n0.5\n1.0\n1.0\n0.6666666666666666\n1.0\n0.5\n1.0\n0.6666666666666666\n0.8888888888888888\n0.8\n0.8888888888888888\n0.8333333333333334\n0.967741935483871\n0.6666666666666666\n0.5\n0.9166666666666666\n1.0\n0.9666666666666667\n0.8333333333333334\n1.0\n0.75\n0.6666666666666666\n0.5\n0.875\n1.0\n1.0\n1.0\n0.75\n0.8333333333333334\n1.0\n1.0\n1.0\n0.9230769230769231\n1.0\n0.0\n0.75\n0.9166666666666666\n0.8571428571428571\n0.9696969696969697\n0.9\n0.5\n0.875\n1.0\n1.0\n1.0\n1.0\n1.0\n1.0\n1.0\n0.0\n0.5\n0.9090909090909091\n0.9090909090909091\n1.0\n0.9\n0.9411764705882353\n1.0\n0.9\n0.8571428571428571\n0.5\n0.8333333333333334\n0.8571428571428571\n1.0\n0.7777777777777778\n0.9230769230769231\n0.8571428571428571\n1.0\n1.0\n0.5\n1.0\n1.0\n1.0\n1.0\n1.0\n0.5\n0.75\n0.75\n1.0\n0.6666666666666666\n0.8333333333333334\n0.5\n0.75\n1.0\n0.5\n1.0\n1.0\n0.5\n0.5\n1.0\n0.6666666666666666\n0.8\n0.5\n1.0\n0.8571428571428571\n0.5\n1.0\n0.5\n0.6666666666666666\n0.5\n0.8\n1.0\n0.5\n0.5\n0.8571428571428571\n0.5\n1.0\n1.0\n0.9230769230769231\n1.0\n"
     ]
    }
   ],
   "source": [
    "for i in range(len(save)):\n",
    "    print(save[i].max())"
   ]
  },
  {
   "cell_type": "code",
   "execution_count": 291,
   "metadata": {},
   "outputs": [],
   "source": [
    "#d = dict(enumerate(save, 1)) \n",
    "d = {index:{i:j for i,j in enumerate(k) if j} for index,k in enumerate(save)}"
   ]
  },
  {
   "cell_type": "code",
   "execution_count": 296,
   "metadata": {},
   "outputs": [
    {
     "output_type": "execute_result",
     "data": {
      "text/plain": [
       "{638: 0.9230769230769231, 639: 0.07692307692307693}"
      ]
     },
     "metadata": {},
     "execution_count": 296
    }
   ],
   "source": [
    "d.get(638)"
   ]
  },
  {
   "cell_type": "code",
   "execution_count": 355,
   "metadata": {},
   "outputs": [],
   "source": [
    "#vec(1,48)\n",
    "def vecToState(featureVec):\n",
    "    for i in range(len(states)):\n",
    "        print(states[i])\n",
    "        if((states[i]==featureVec).all()):\n",
    "            res = np.full((640,1), 0.0)\n",
    "            res[i] = 1\n",
    "            return res"
   ]
  },
  {
   "cell_type": "code",
   "execution_count": 311,
   "metadata": {},
   "outputs": [],
   "source": [
    "#vec(1,640)\n",
    "def stateToVec(stateVec):\n",
    "    for i in stateVec:\n",
    "        if(i == 1):\n",
    "            return states[i]"
   ]
  },
  {
   "cell_type": "code",
   "execution_count": 326,
   "metadata": {},
   "outputs": [
    {
     "output_type": "execute_result",
     "data": {
      "text/plain": [
       "640"
      ]
     },
     "metadata": {},
     "execution_count": 326
    }
   ],
   "source": [
    "len(states)"
   ]
  },
  {
   "cell_type": "code",
   "execution_count": 335,
   "metadata": {},
   "outputs": [
    {
     "output_type": "execute_result",
     "data": {
      "text/plain": [
       "47"
      ]
     },
     "metadata": {},
     "execution_count": 335
    }
   ],
   "source": [
    "len(dfArray[1][0:47])"
   ]
  },
  {
   "cell_type": "code",
   "execution_count": 356,
   "metadata": {},
   "outputs": [
    {
     "output_type": "stream",
     "name": "stdout",
     "text": [
      "[1. 0. 0. 0. 1. 0. 0. 0. 0. 0. 0. 1. 1. 1. 1. 1. 1. 1. 0. 1. 0. 0. 1. 1.\n 0. 1. 1. 1. 1. 1. 0. 0. 0. 1. 0. 1. 1. 0. 0. 1. 0. 0. 0. 0. 0. 1. 0.]\n[0. 0. 0. 0. 1. 0. 0. 0. 0. 0. 0. 1. 1. 1. 1. 1. 1. 1. 0. 1. 0. 0. 1. 1.\n 0. 1. 1. 1. 1. 1. 0. 0. 0. 1. 0. 1. 1. 0. 0. 1. 0. 0. 0. 0. 0. 1. 0.]\n"
     ]
    }
   ],
   "source": [
    "v = vecToState(dfArray[1][0:47])"
   ]
  },
  {
   "cell_type": "code",
   "execution_count": 364,
   "metadata": {},
   "outputs": [],
   "source": [
    "vT = v.transpose()"
   ]
  },
  {
   "cell_type": "code",
   "execution_count": 365,
   "metadata": {},
   "outputs": [
    {
     "output_type": "execute_result",
     "data": {
      "text/plain": [
       "(1, 640)"
      ]
     },
     "metadata": {},
     "execution_count": 365
    }
   ],
   "source": [
    "vT.shape"
   ]
  },
  {
   "cell_type": "code",
   "execution_count": 361,
   "metadata": {},
   "outputs": [
    {
     "output_type": "execute_result",
     "data": {
      "text/plain": [
       "(640, 640)"
      ]
     },
     "metadata": {},
     "execution_count": 361
    }
   ],
   "source": [
    "save.shape"
   ]
  },
  {
   "cell_type": "code",
   "execution_count": 366,
   "metadata": {},
   "outputs": [
    {
     "output_type": "execute_result",
     "data": {
      "text/plain": [
       "(640, 1)"
      ]
     },
     "metadata": {},
     "execution_count": 366
    }
   ],
   "source": [
    "v.shape"
   ]
  },
  {
   "cell_type": "code",
   "execution_count": 377,
   "metadata": {},
   "outputs": [],
   "source": [
    "calc = np.matmul(save.transpose(), v)"
   ]
  },
  {
   "cell_type": "code",
   "execution_count": 368,
   "metadata": {},
   "outputs": [
    {
     "output_type": "execute_result",
     "data": {
      "text/plain": [
       "(640, 1)"
      ]
     },
     "metadata": {},
     "execution_count": 368
    }
   ],
   "source": [
    "calc.shape"
   ]
  },
  {
   "cell_type": "code",
   "execution_count": 379,
   "metadata": {},
   "outputs": [],
   "source": [
    "calc2 = np.matmul(save.transpose(), calc)"
   ]
  },
  {
   "cell_type": "code",
   "execution_count": 416,
   "metadata": {},
   "outputs": [],
   "source": [
    "mc = MarkovChain(save.transpose())"
   ]
  },
  {
   "cell_type": "code",
   "execution_count": 421,
   "metadata": {},
   "outputs": [],
   "source": [
    "calc = mc.generate_states(v,6)"
   ]
  },
  {
   "cell_type": "code",
   "execution_count": 420,
   "metadata": {},
   "outputs": [
    {
     "output_type": "execute_result",
     "data": {
      "text/plain": [
       "array([[0.],\n",
       "       [0.],\n",
       "       [0.],\n",
       "       [0.],\n",
       "       [0.],\n",
       "       [0.],\n",
       "       [0.],\n",
       "       [0.],\n",
       "       [0.],\n",
       "       [0.],\n",
       "       [0.],\n",
       "       [0.],\n",
       "       [0.],\n",
       "       [0.],\n",
       "       [0.],\n",
       "       [0.],\n",
       "       [0.],\n",
       "       [0.],\n",
       "       [0.],\n",
       "       [0.],\n",
       "       [0.],\n",
       "       [0.],\n",
       "       [0.],\n",
       "       [0.],\n",
       "       [0.],\n",
       "       [0.],\n",
       "       [0.],\n",
       "       [0.],\n",
       "       [0.],\n",
       "       [0.],\n",
       "       [0.],\n",
       "       [0.],\n",
       "       [0.],\n",
       "       [0.],\n",
       "       [0.],\n",
       "       [0.],\n",
       "       [0.],\n",
       "       [0.],\n",
       "       [0.],\n",
       "       [0.],\n",
       "       [0.],\n",
       "       [0.],\n",
       "       [0.],\n",
       "       [0.],\n",
       "       [0.],\n",
       "       [0.],\n",
       "       [0.],\n",
       "       [1.],\n",
       "       [0.],\n",
       "       [0.],\n",
       "       [0.],\n",
       "       [0.],\n",
       "       [0.],\n",
       "       [0.],\n",
       "       [0.],\n",
       "       [0.],\n",
       "       [0.],\n",
       "       [0.],\n",
       "       [0.],\n",
       "       [0.],\n",
       "       [0.],\n",
       "       [0.],\n",
       "       [0.],\n",
       "       [0.],\n",
       "       [0.],\n",
       "       [0.],\n",
       "       [0.],\n",
       "       [0.],\n",
       "       [0.],\n",
       "       [0.],\n",
       "       [0.],\n",
       "       [0.],\n",
       "       [0.],\n",
       "       [0.],\n",
       "       [0.],\n",
       "       [0.],\n",
       "       [0.],\n",
       "       [0.],\n",
       "       [0.],\n",
       "       [0.],\n",
       "       [0.],\n",
       "       [0.],\n",
       "       [0.],\n",
       "       [0.],\n",
       "       [0.],\n",
       "       [0.],\n",
       "       [0.],\n",
       "       [0.],\n",
       "       [0.],\n",
       "       [0.],\n",
       "       [0.],\n",
       "       [0.],\n",
       "       [0.],\n",
       "       [0.],\n",
       "       [0.],\n",
       "       [0.],\n",
       "       [0.],\n",
       "       [0.],\n",
       "       [0.],\n",
       "       [0.],\n",
       "       [0.],\n",
       "       [0.],\n",
       "       [0.],\n",
       "       [0.],\n",
       "       [0.],\n",
       "       [0.],\n",
       "       [0.],\n",
       "       [0.],\n",
       "       [0.],\n",
       "       [0.],\n",
       "       [0.],\n",
       "       [0.],\n",
       "       [0.],\n",
       "       [0.],\n",
       "       [0.],\n",
       "       [0.],\n",
       "       [0.],\n",
       "       [0.],\n",
       "       [0.],\n",
       "       [0.],\n",
       "       [0.],\n",
       "       [0.],\n",
       "       [0.],\n",
       "       [0.],\n",
       "       [0.],\n",
       "       [0.],\n",
       "       [0.],\n",
       "       [0.],\n",
       "       [0.],\n",
       "       [0.],\n",
       "       [0.],\n",
       "       [0.],\n",
       "       [0.],\n",
       "       [0.],\n",
       "       [0.],\n",
       "       [0.],\n",
       "       [0.],\n",
       "       [0.],\n",
       "       [0.],\n",
       "       [0.],\n",
       "       [0.],\n",
       "       [0.],\n",
       "       [0.],\n",
       "       [0.],\n",
       "       [0.],\n",
       "       [0.],\n",
       "       [0.],\n",
       "       [0.],\n",
       "       [0.],\n",
       "       [0.],\n",
       "       [0.],\n",
       "       [0.],\n",
       "       [0.],\n",
       "       [0.],\n",
       "       [0.],\n",
       "       [0.],\n",
       "       [0.],\n",
       "       [0.],\n",
       "       [0.],\n",
       "       [0.],\n",
       "       [0.],\n",
       "       [0.],\n",
       "       [0.],\n",
       "       [0.],\n",
       "       [0.],\n",
       "       [0.],\n",
       "       [0.],\n",
       "       [0.],\n",
       "       [0.],\n",
       "       [0.],\n",
       "       [0.],\n",
       "       [0.],\n",
       "       [0.],\n",
       "       [0.],\n",
       "       [0.],\n",
       "       [0.],\n",
       "       [0.],\n",
       "       [0.],\n",
       "       [0.],\n",
       "       [0.],\n",
       "       [0.],\n",
       "       [0.],\n",
       "       [0.],\n",
       "       [0.],\n",
       "       [0.],\n",
       "       [0.],\n",
       "       [0.],\n",
       "       [0.],\n",
       "       [0.],\n",
       "       [0.],\n",
       "       [0.],\n",
       "       [0.],\n",
       "       [0.],\n",
       "       [0.],\n",
       "       [0.],\n",
       "       [0.],\n",
       "       [0.],\n",
       "       [0.],\n",
       "       [0.],\n",
       "       [0.],\n",
       "       [0.],\n",
       "       [0.],\n",
       "       [0.],\n",
       "       [0.],\n",
       "       [0.],\n",
       "       [0.],\n",
       "       [0.],\n",
       "       [0.],\n",
       "       [0.],\n",
       "       [0.],\n",
       "       [0.],\n",
       "       [0.],\n",
       "       [0.],\n",
       "       [0.],\n",
       "       [0.],\n",
       "       [0.],\n",
       "       [0.],\n",
       "       [0.],\n",
       "       [0.],\n",
       "       [0.],\n",
       "       [0.],\n",
       "       [0.],\n",
       "       [0.],\n",
       "       [0.],\n",
       "       [0.],\n",
       "       [0.],\n",
       "       [0.],\n",
       "       [0.],\n",
       "       [0.],\n",
       "       [0.],\n",
       "       [0.],\n",
       "       [0.],\n",
       "       [0.],\n",
       "       [0.],\n",
       "       [0.],\n",
       "       [0.],\n",
       "       [0.],\n",
       "       [0.],\n",
       "       [0.],\n",
       "       [0.],\n",
       "       [0.],\n",
       "       [0.],\n",
       "       [0.],\n",
       "       [0.],\n",
       "       [0.],\n",
       "       [0.],\n",
       "       [0.],\n",
       "       [0.],\n",
       "       [0.],\n",
       "       [0.],\n",
       "       [0.],\n",
       "       [0.],\n",
       "       [0.],\n",
       "       [0.],\n",
       "       [0.],\n",
       "       [0.],\n",
       "       [0.],\n",
       "       [0.],\n",
       "       [0.],\n",
       "       [0.],\n",
       "       [0.],\n",
       "       [0.],\n",
       "       [0.],\n",
       "       [0.],\n",
       "       [0.],\n",
       "       [0.],\n",
       "       [0.],\n",
       "       [0.],\n",
       "       [0.],\n",
       "       [0.],\n",
       "       [0.],\n",
       "       [0.],\n",
       "       [0.],\n",
       "       [0.],\n",
       "       [0.],\n",
       "       [0.],\n",
       "       [0.],\n",
       "       [0.],\n",
       "       [0.],\n",
       "       [0.],\n",
       "       [0.],\n",
       "       [0.],\n",
       "       [0.],\n",
       "       [0.],\n",
       "       [0.],\n",
       "       [0.],\n",
       "       [0.],\n",
       "       [0.],\n",
       "       [0.],\n",
       "       [0.],\n",
       "       [0.],\n",
       "       [0.],\n",
       "       [0.],\n",
       "       [0.],\n",
       "       [0.],\n",
       "       [0.],\n",
       "       [0.],\n",
       "       [0.],\n",
       "       [0.],\n",
       "       [0.],\n",
       "       [0.],\n",
       "       [0.],\n",
       "       [0.],\n",
       "       [0.],\n",
       "       [0.],\n",
       "       [0.],\n",
       "       [0.],\n",
       "       [0.],\n",
       "       [0.],\n",
       "       [0.],\n",
       "       [0.],\n",
       "       [0.],\n",
       "       [0.],\n",
       "       [0.],\n",
       "       [0.],\n",
       "       [0.],\n",
       "       [0.],\n",
       "       [0.],\n",
       "       [0.],\n",
       "       [0.],\n",
       "       [0.],\n",
       "       [0.],\n",
       "       [0.],\n",
       "       [0.],\n",
       "       [0.],\n",
       "       [0.],\n",
       "       [0.],\n",
       "       [0.],\n",
       "       [0.],\n",
       "       [0.],\n",
       "       [0.],\n",
       "       [0.],\n",
       "       [0.],\n",
       "       [0.],\n",
       "       [0.],\n",
       "       [0.],\n",
       "       [0.],\n",
       "       [0.],\n",
       "       [0.],\n",
       "       [0.],\n",
       "       [0.],\n",
       "       [0.],\n",
       "       [0.],\n",
       "       [0.],\n",
       "       [0.],\n",
       "       [0.],\n",
       "       [0.],\n",
       "       [0.],\n",
       "       [0.],\n",
       "       [0.],\n",
       "       [0.],\n",
       "       [0.],\n",
       "       [0.],\n",
       "       [0.],\n",
       "       [0.],\n",
       "       [0.],\n",
       "       [0.],\n",
       "       [0.],\n",
       "       [0.],\n",
       "       [0.],\n",
       "       [0.],\n",
       "       [0.],\n",
       "       [0.],\n",
       "       [0.],\n",
       "       [0.],\n",
       "       [0.],\n",
       "       [0.],\n",
       "       [0.],\n",
       "       [0.],\n",
       "       [0.],\n",
       "       [0.],\n",
       "       [0.],\n",
       "       [0.],\n",
       "       [0.],\n",
       "       [0.],\n",
       "       [0.],\n",
       "       [0.],\n",
       "       [0.],\n",
       "       [0.],\n",
       "       [0.],\n",
       "       [0.],\n",
       "       [0.],\n",
       "       [0.],\n",
       "       [0.],\n",
       "       [0.],\n",
       "       [0.],\n",
       "       [0.],\n",
       "       [0.],\n",
       "       [0.],\n",
       "       [0.],\n",
       "       [0.],\n",
       "       [0.],\n",
       "       [0.],\n",
       "       [0.],\n",
       "       [0.],\n",
       "       [0.],\n",
       "       [0.],\n",
       "       [0.],\n",
       "       [0.],\n",
       "       [0.],\n",
       "       [0.],\n",
       "       [0.],\n",
       "       [0.],\n",
       "       [0.],\n",
       "       [0.],\n",
       "       [0.],\n",
       "       [0.],\n",
       "       [0.],\n",
       "       [0.],\n",
       "       [0.],\n",
       "       [0.],\n",
       "       [0.],\n",
       "       [0.],\n",
       "       [0.],\n",
       "       [0.],\n",
       "       [0.],\n",
       "       [0.],\n",
       "       [0.],\n",
       "       [0.],\n",
       "       [0.],\n",
       "       [0.],\n",
       "       [0.],\n",
       "       [0.],\n",
       "       [0.],\n",
       "       [0.],\n",
       "       [0.],\n",
       "       [0.],\n",
       "       [0.],\n",
       "       [0.],\n",
       "       [0.],\n",
       "       [0.],\n",
       "       [0.],\n",
       "       [0.],\n",
       "       [0.],\n",
       "       [0.],\n",
       "       [0.],\n",
       "       [0.],\n",
       "       [0.],\n",
       "       [0.],\n",
       "       [0.],\n",
       "       [0.],\n",
       "       [0.],\n",
       "       [0.],\n",
       "       [0.],\n",
       "       [0.],\n",
       "       [0.],\n",
       "       [0.],\n",
       "       [0.],\n",
       "       [0.],\n",
       "       [0.],\n",
       "       [0.],\n",
       "       [0.],\n",
       "       [0.],\n",
       "       [0.],\n",
       "       [0.],\n",
       "       [0.],\n",
       "       [0.],\n",
       "       [0.],\n",
       "       [0.],\n",
       "       [0.],\n",
       "       [0.],\n",
       "       [0.],\n",
       "       [0.],\n",
       "       [0.],\n",
       "       [0.],\n",
       "       [0.],\n",
       "       [0.],\n",
       "       [0.],\n",
       "       [0.],\n",
       "       [0.],\n",
       "       [0.],\n",
       "       [0.],\n",
       "       [0.],\n",
       "       [0.],\n",
       "       [0.],\n",
       "       [0.],\n",
       "       [0.],\n",
       "       [0.],\n",
       "       [0.],\n",
       "       [0.],\n",
       "       [0.],\n",
       "       [0.],\n",
       "       [0.],\n",
       "       [0.],\n",
       "       [0.],\n",
       "       [0.],\n",
       "       [0.],\n",
       "       [0.],\n",
       "       [0.],\n",
       "       [0.],\n",
       "       [0.],\n",
       "       [0.],\n",
       "       [0.],\n",
       "       [0.],\n",
       "       [0.],\n",
       "       [0.],\n",
       "       [0.],\n",
       "       [0.],\n",
       "       [0.],\n",
       "       [0.],\n",
       "       [0.],\n",
       "       [0.],\n",
       "       [0.],\n",
       "       [0.],\n",
       "       [0.],\n",
       "       [0.],\n",
       "       [0.],\n",
       "       [0.],\n",
       "       [0.],\n",
       "       [0.],\n",
       "       [0.],\n",
       "       [0.],\n",
       "       [0.],\n",
       "       [0.],\n",
       "       [0.],\n",
       "       [0.],\n",
       "       [0.],\n",
       "       [0.],\n",
       "       [0.],\n",
       "       [0.],\n",
       "       [0.],\n",
       "       [0.],\n",
       "       [0.],\n",
       "       [0.],\n",
       "       [0.],\n",
       "       [0.],\n",
       "       [0.],\n",
       "       [0.],\n",
       "       [0.],\n",
       "       [0.],\n",
       "       [0.],\n",
       "       [0.],\n",
       "       [0.],\n",
       "       [0.],\n",
       "       [0.],\n",
       "       [0.],\n",
       "       [0.],\n",
       "       [0.],\n",
       "       [0.],\n",
       "       [0.],\n",
       "       [0.],\n",
       "       [0.],\n",
       "       [0.],\n",
       "       [0.],\n",
       "       [0.],\n",
       "       [0.],\n",
       "       [0.],\n",
       "       [0.],\n",
       "       [0.],\n",
       "       [0.],\n",
       "       [0.],\n",
       "       [0.],\n",
       "       [0.],\n",
       "       [0.],\n",
       "       [0.],\n",
       "       [0.],\n",
       "       [0.],\n",
       "       [0.],\n",
       "       [0.],\n",
       "       [0.],\n",
       "       [0.],\n",
       "       [0.],\n",
       "       [0.],\n",
       "       [0.],\n",
       "       [0.],\n",
       "       [0.],\n",
       "       [0.],\n",
       "       [0.],\n",
       "       [0.],\n",
       "       [0.],\n",
       "       [0.],\n",
       "       [0.],\n",
       "       [0.],\n",
       "       [0.],\n",
       "       [0.],\n",
       "       [0.],\n",
       "       [0.],\n",
       "       [0.],\n",
       "       [0.],\n",
       "       [0.],\n",
       "       [0.],\n",
       "       [0.],\n",
       "       [0.],\n",
       "       [0.],\n",
       "       [0.],\n",
       "       [0.],\n",
       "       [0.],\n",
       "       [0.],\n",
       "       [0.],\n",
       "       [0.],\n",
       "       [0.],\n",
       "       [0.],\n",
       "       [0.],\n",
       "       [0.],\n",
       "       [0.],\n",
       "       [0.],\n",
       "       [0.],\n",
       "       [0.],\n",
       "       [0.],\n",
       "       [0.],\n",
       "       [0.],\n",
       "       [0.],\n",
       "       [0.],\n",
       "       [0.],\n",
       "       [0.],\n",
       "       [0.],\n",
       "       [0.],\n",
       "       [0.],\n",
       "       [0.],\n",
       "       [0.],\n",
       "       [0.],\n",
       "       [0.],\n",
       "       [0.],\n",
       "       [0.],\n",
       "       [0.],\n",
       "       [0.],\n",
       "       [0.],\n",
       "       [0.],\n",
       "       [0.],\n",
       "       [0.],\n",
       "       [0.],\n",
       "       [0.],\n",
       "       [0.],\n",
       "       [0.],\n",
       "       [0.],\n",
       "       [0.],\n",
       "       [0.],\n",
       "       [0.],\n",
       "       [0.],\n",
       "       [0.],\n",
       "       [0.],\n",
       "       [0.],\n",
       "       [0.],\n",
       "       [0.],\n",
       "       [0.],\n",
       "       [0.],\n",
       "       [0.],\n",
       "       [0.],\n",
       "       [0.],\n",
       "       [0.]])"
      ]
     },
     "metadata": {},
     "execution_count": 420
    }
   ],
   "source": [
    "calc[190]"
   ]
  },
  {
   "cell_type": "code",
   "execution_count": null,
   "metadata": {},
   "outputs": [],
   "source": []
  }
 ]
}