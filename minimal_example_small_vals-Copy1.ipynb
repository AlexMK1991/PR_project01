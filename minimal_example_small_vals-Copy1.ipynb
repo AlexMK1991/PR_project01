{
 "cells": [
  {
   "cell_type": "code",
   "execution_count": 3,
   "metadata": {},
   "outputs": [
    {
     "name": "stdout",
     "output_type": "stream",
     "text": [
      "sample shape: (1000, 641, 641)\n",
      "max output of exp: 1.0\n",
      "eta: 1.0\n",
      "Result dtype: float64\n",
      "(641, 641)\n",
      "Block execution took 24.482236862182617 seconds.\n"
     ]
    }
   ],
   "source": [
    "import numpy as np\n",
    "import time\n",
    "\n",
    "eps = 1e-25\n",
    "\n",
    "def normalize_transition_matrix(transition_matrix):\n",
    "    \"\"\"Normalizes a given transition matrix or batch thereof such that each column sums up to one.\n",
    "    \n",
    "    The given transition matrix is assumed to be stored in a numpy array. \n",
    "    \"\"\"\n",
    "    \n",
    "    input_dims = len(transition_matrix.shape)\n",
    "    assert input_dims == 2 or input_dims == 3, 'Transition matrix must be a least 2D, and appropriately batched!'\n",
    "    if input_dims == 2:\n",
    "        return transition_matrix / np.maximum(transition_matrix.sum(0, keepdims=True), 1)\n",
    "    else:\n",
    "        return transition_matrix / np.maximum(transition_matrix.sum(1, keepdims=True), 1)\n",
    "    \n",
    "limit = 100\n",
    "num_samples = 1000\n",
    "num_states = 641\n",
    "S = np.random.randint(limit, size=(num_samples, num_states, num_states))\n",
    "print('sample shape:', S.shape)\n",
    "S = normalize_transition_matrix(S)\n",
    "T_data = np.random.randint(limit, size=(num_states, num_states))\n",
    "S_from_T = normalize_transition_matrix(T_data)\n",
    "\n",
    "start = time.time()\n",
    "tmp_log = T_data * np.log(np.maximum(S, eps))\n",
    "tmp_log = tmp_log.sum(axis=(-1,-2))\n",
    "# Now we have some vector of negative numbers with very large absolute values\n",
    "# If we call numpy exp, even float128bit precision will be insufficient to represent the result\n",
    "# The result would be rounded to zero, and we would lose all information\n",
    "# This problem is more severe the larger the transition matrices are\n",
    "# Solution: Shift the results by the maximum entry.\n",
    "# This scales the output of exp such that 1 is its maximum output. The other values are not lost!\n",
    "# Note that this shift is also applied to the normalization term, so it cancels out automatically!\n",
    "b = tmp_log.max()\n",
    "tmp_log_shift = tmp_log - b\n",
    "tmp_exp = np.exp(tmp_log_shift)\n",
    "print('max output of exp:', tmp_exp.max())\n",
    "S_weighted =  S * tmp_exp[:, None, None] \n",
    "S_expectation = S_weighted.sum(axis=0)\n",
    "eta = tmp_exp.sum()\n",
    "print('eta:', eta)\n",
    "# normalize the result, here we divide an array of tiny values by a very small normalization factor eta\n",
    "# now our values are large enough again to be represented appropriately by float64\n",
    "S_res = (1/eta * S_expectation).astype(np.float64)\n",
    "# check if the result is the same as the costly computation without log shift\n",
    "print('Result dtype:', S_res.dtype)\n",
    "print(S_res.shape)\n",
    "print('Block execution took', time.time()-start, 'seconds.')"
   ]
  },
  {
   "cell_type": "code",
   "execution_count": null,
   "metadata": {},
   "outputs": [],
   "source": []
  }
 ],
 "metadata": {
  "kernelspec": {
   "display_name": "patternrec_kernel",
   "language": "python",
   "name": "patternrec_kernel"
  },
  "language_info": {
   "codemirror_mode": {
    "name": "ipython",
    "version": 3
   },
   "file_extension": ".py",
   "mimetype": "text/x-python",
   "name": "python",
   "nbconvert_exporter": "python",
   "pygments_lexer": "ipython3",
   "version": "3.8.5"
  }
 },
 "nbformat": 4,
 "nbformat_minor": 4
}
