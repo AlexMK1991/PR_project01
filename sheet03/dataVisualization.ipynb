{
 "metadata": {
  "language_info": {
   "codemirror_mode": {
    "name": "ipython",
    "version": 3
   },
   "file_extension": ".py",
   "mimetype": "text/x-python",
   "name": "python",
   "nbconvert_exporter": "python",
   "pygments_lexer": "ipython3",
   "version": "3.8.5-final"
  },
  "orig_nbformat": 2,
  "kernelspec": {
   "name": "python3",
   "display_name": "Python 3.8.5 64-bit ('patternrec': conda)",
   "metadata": {
    "interpreter": {
     "hash": "dd7bb844ec78c1fb690b03eb0f66cdec9a5d3063b9b84b0192f718881bb18a49"
    }
   }
  }
 },
 "nbformat": 4,
 "nbformat_minor": 2,
 "cells": [
  {
   "cell_type": "code",
   "execution_count": 15,
   "metadata": {},
   "outputs": [],
   "source": [
    "import pandas as pd\n",
    "import numpy as np\n",
    "from pandas_profiling import ProfileReport"
   ]
  },
  {
   "cell_type": "code",
   "execution_count": 40,
   "metadata": {},
   "outputs": [
    {
     "output_type": "execute_result",
     "data": {
      "text/plain": [
       "   battery_level  battery_plugged  battery_status   day  month  \\\n",
       "0           25.0              1.0             2.0  31.0    8.0   \n",
       "1            3.0              0.0             0.0  31.0    8.0   \n",
       "2            1.0              1.0             4.5  31.0    8.0   \n",
       "3            0.0              1.0             5.0  31.0    8.0   \n",
       "4            0.0              0.5             4.0  31.0    8.0   \n",
       "5            0.0              0.0             0.0  31.0    8.0   \n",
       "6           -2.0              0.0             0.0  31.0    8.0   \n",
       "7           -3.0              0.0             3.0  31.0    8.0   \n",
       "8           -3.0              0.0             0.0  31.0    8.0   \n",
       "9           -3.0              0.0             0.0  31.0    8.0   \n",
       "\n",
       "   packages_running_android  packages_running_ch.smalltech.battery.free  \\\n",
       "0                       1.0                                         0.0   \n",
       "1                       1.0                                         0.0   \n",
       "2                       1.0                                         0.0   \n",
       "3                       1.0                                         0.0   \n",
       "4                       1.0                                         0.0   \n",
       "5                       1.0                                         0.0   \n",
       "6                       1.0                                         0.0   \n",
       "7                       1.0                                         0.0   \n",
       "8                       1.0                                         0.0   \n",
       "9                       1.0                                         0.0   \n",
       "\n",
       "   packages_running_com.android.bluetooth  \\\n",
       "0                                     0.0   \n",
       "1                                     0.0   \n",
       "2                                     0.0   \n",
       "3                                     0.0   \n",
       "4                                     0.0   \n",
       "5                                     0.0   \n",
       "6                                     0.0   \n",
       "7                                     0.0   \n",
       "8                                     0.0   \n",
       "9                                     0.0   \n",
       "\n",
       "   packages_running_com.android.calculator2  \\\n",
       "0                                       0.0   \n",
       "1                                       0.0   \n",
       "2                                       0.0   \n",
       "3                                       0.0   \n",
       "4                                       0.0   \n",
       "5                                       0.0   \n",
       "6                                       0.0   \n",
       "7                                       0.0   \n",
       "8                                       0.0   \n",
       "9                                       0.0   \n",
       "\n",
       "   packages_running_com.android.chrome  ...  \\\n",
       "0                                  1.0  ...   \n",
       "1                                  1.0  ...   \n",
       "2                                  1.0  ...   \n",
       "3                                  1.0  ...   \n",
       "4                                  0.0  ...   \n",
       "5                                  0.0  ...   \n",
       "6                                  0.0  ...   \n",
       "7                                  0.0  ...   \n",
       "8                                  0.0  ...   \n",
       "9                                  0.0  ...   \n",
       "\n",
       "   packages_running_com.googlecode.pythonforandroid  \\\n",
       "0                                               0.0   \n",
       "1                                               0.0   \n",
       "2                                               1.0   \n",
       "3                                               1.0   \n",
       "4                                               1.0   \n",
       "5                                               1.0   \n",
       "6                                               1.0   \n",
       "7                                               1.0   \n",
       "8                                               1.0   \n",
       "9                                               1.0   \n",
       "\n",
       "   packages_running_com.halfbrick.fruitninjafree  \\\n",
       "0                                            0.0   \n",
       "1                                            0.0   \n",
       "2                                            0.0   \n",
       "3                                            0.0   \n",
       "4                                            0.0   \n",
       "5                                            0.0   \n",
       "6                                            0.0   \n",
       "7                                            0.0   \n",
       "8                                            0.0   \n",
       "9                                            0.0   \n",
       "\n",
       "   packages_running_com.rovio.angrybirdsspace.ads  \\\n",
       "0                                             0.0   \n",
       "1                                             0.0   \n",
       "2                                             0.0   \n",
       "3                                             0.0   \n",
       "4                                             0.0   \n",
       "5                                             0.0   \n",
       "6                                             0.0   \n",
       "7                                             0.0   \n",
       "8                                             0.0   \n",
       "9                                             0.0   \n",
       "\n",
       "   packages_running_com.tf.thinkdroid.sg  \\\n",
       "0                                    0.0   \n",
       "1                                    0.0   \n",
       "2                                    0.0   \n",
       "3                                    0.0   \n",
       "4                                    0.0   \n",
       "5                                    0.0   \n",
       "6                                    0.0   \n",
       "7                                    0.0   \n",
       "8                                    0.0   \n",
       "9                                    0.0   \n",
       "\n",
       "   packages_running_de.kicktipp.mbookmark  \\\n",
       "0                                     0.0   \n",
       "1                                     0.0   \n",
       "2                                     0.0   \n",
       "3                                     0.0   \n",
       "4                                     0.0   \n",
       "5                                     0.0   \n",
       "6                                     0.0   \n",
       "7                                     0.0   \n",
       "8                                     0.0   \n",
       "9                                     0.0   \n",
       "\n",
       "   packages_running_edu.udo.cs.ess.mobidac.target  \\\n",
       "0                                             1.0   \n",
       "1                                             1.0   \n",
       "2                                             1.0   \n",
       "3                                             1.0   \n",
       "4                                             1.0   \n",
       "5                                             1.0   \n",
       "6                                             1.0   \n",
       "7                                             1.0   \n",
       "8                                             1.0   \n",
       "9                                             1.0   \n",
       "\n",
       "   packages_running_org.openintents.filemanager  \\\n",
       "0                                           0.0   \n",
       "1                                           0.0   \n",
       "2                                           0.0   \n",
       "3                                           0.0   \n",
       "4                                           0.0   \n",
       "5                                           0.0   \n",
       "6                                           0.0   \n",
       "7                                           0.0   \n",
       "8                                           0.0   \n",
       "9                                           0.0   \n",
       "\n",
       "   packages_running_stream.android  slot    year  \n",
       "0                              0.0   3.0  2012.0  \n",
       "1                              0.0   4.0  2012.0  \n",
       "2                              0.0   8.0  2012.0  \n",
       "3                              0.0  12.0  2012.0  \n",
       "4                              0.0  16.0  2012.0  \n",
       "5                              0.0  17.0  2012.0  \n",
       "6                              0.0  18.0  2012.0  \n",
       "7                              0.0  19.0  2012.0  \n",
       "8                              0.0  21.0  2012.0  \n",
       "9                              0.0  22.0  2012.0  \n",
       "\n",
       "[10 rows x 72 columns]"
      ],
      "text/html": "<div>\n<style scoped>\n    .dataframe tbody tr th:only-of-type {\n        vertical-align: middle;\n    }\n\n    .dataframe tbody tr th {\n        vertical-align: top;\n    }\n\n    .dataframe thead th {\n        text-align: right;\n    }\n</style>\n<table border=\"1\" class=\"dataframe\">\n  <thead>\n    <tr style=\"text-align: right;\">\n      <th></th>\n      <th>battery_level</th>\n      <th>battery_plugged</th>\n      <th>battery_status</th>\n      <th>day</th>\n      <th>month</th>\n      <th>packages_running_android</th>\n      <th>packages_running_ch.smalltech.battery.free</th>\n      <th>packages_running_com.android.bluetooth</th>\n      <th>packages_running_com.android.calculator2</th>\n      <th>packages_running_com.android.chrome</th>\n      <th>...</th>\n      <th>packages_running_com.googlecode.pythonforandroid</th>\n      <th>packages_running_com.halfbrick.fruitninjafree</th>\n      <th>packages_running_com.rovio.angrybirdsspace.ads</th>\n      <th>packages_running_com.tf.thinkdroid.sg</th>\n      <th>packages_running_de.kicktipp.mbookmark</th>\n      <th>packages_running_edu.udo.cs.ess.mobidac.target</th>\n      <th>packages_running_org.openintents.filemanager</th>\n      <th>packages_running_stream.android</th>\n      <th>slot</th>\n      <th>year</th>\n    </tr>\n  </thead>\n  <tbody>\n    <tr>\n      <th>0</th>\n      <td>25.0</td>\n      <td>1.0</td>\n      <td>2.0</td>\n      <td>31.0</td>\n      <td>8.0</td>\n      <td>1.0</td>\n      <td>0.0</td>\n      <td>0.0</td>\n      <td>0.0</td>\n      <td>1.0</td>\n      <td>...</td>\n      <td>0.0</td>\n      <td>0.0</td>\n      <td>0.0</td>\n      <td>0.0</td>\n      <td>0.0</td>\n      <td>1.0</td>\n      <td>0.0</td>\n      <td>0.0</td>\n      <td>3.0</td>\n      <td>2012.0</td>\n    </tr>\n    <tr>\n      <th>1</th>\n      <td>3.0</td>\n      <td>0.0</td>\n      <td>0.0</td>\n      <td>31.0</td>\n      <td>8.0</td>\n      <td>1.0</td>\n      <td>0.0</td>\n      <td>0.0</td>\n      <td>0.0</td>\n      <td>1.0</td>\n      <td>...</td>\n      <td>0.0</td>\n      <td>0.0</td>\n      <td>0.0</td>\n      <td>0.0</td>\n      <td>0.0</td>\n      <td>1.0</td>\n      <td>0.0</td>\n      <td>0.0</td>\n      <td>4.0</td>\n      <td>2012.0</td>\n    </tr>\n    <tr>\n      <th>2</th>\n      <td>1.0</td>\n      <td>1.0</td>\n      <td>4.5</td>\n      <td>31.0</td>\n      <td>8.0</td>\n      <td>1.0</td>\n      <td>0.0</td>\n      <td>0.0</td>\n      <td>0.0</td>\n      <td>1.0</td>\n      <td>...</td>\n      <td>1.0</td>\n      <td>0.0</td>\n      <td>0.0</td>\n      <td>0.0</td>\n      <td>0.0</td>\n      <td>1.0</td>\n      <td>0.0</td>\n      <td>0.0</td>\n      <td>8.0</td>\n      <td>2012.0</td>\n    </tr>\n    <tr>\n      <th>3</th>\n      <td>0.0</td>\n      <td>1.0</td>\n      <td>5.0</td>\n      <td>31.0</td>\n      <td>8.0</td>\n      <td>1.0</td>\n      <td>0.0</td>\n      <td>0.0</td>\n      <td>0.0</td>\n      <td>1.0</td>\n      <td>...</td>\n      <td>1.0</td>\n      <td>0.0</td>\n      <td>0.0</td>\n      <td>0.0</td>\n      <td>0.0</td>\n      <td>1.0</td>\n      <td>0.0</td>\n      <td>0.0</td>\n      <td>12.0</td>\n      <td>2012.0</td>\n    </tr>\n    <tr>\n      <th>4</th>\n      <td>0.0</td>\n      <td>0.5</td>\n      <td>4.0</td>\n      <td>31.0</td>\n      <td>8.0</td>\n      <td>1.0</td>\n      <td>0.0</td>\n      <td>0.0</td>\n      <td>0.0</td>\n      <td>0.0</td>\n      <td>...</td>\n      <td>1.0</td>\n      <td>0.0</td>\n      <td>0.0</td>\n      <td>0.0</td>\n      <td>0.0</td>\n      <td>1.0</td>\n      <td>0.0</td>\n      <td>0.0</td>\n      <td>16.0</td>\n      <td>2012.0</td>\n    </tr>\n    <tr>\n      <th>5</th>\n      <td>0.0</td>\n      <td>0.0</td>\n      <td>0.0</td>\n      <td>31.0</td>\n      <td>8.0</td>\n      <td>1.0</td>\n      <td>0.0</td>\n      <td>0.0</td>\n      <td>0.0</td>\n      <td>0.0</td>\n      <td>...</td>\n      <td>1.0</td>\n      <td>0.0</td>\n      <td>0.0</td>\n      <td>0.0</td>\n      <td>0.0</td>\n      <td>1.0</td>\n      <td>0.0</td>\n      <td>0.0</td>\n      <td>17.0</td>\n      <td>2012.0</td>\n    </tr>\n    <tr>\n      <th>6</th>\n      <td>-2.0</td>\n      <td>0.0</td>\n      <td>0.0</td>\n      <td>31.0</td>\n      <td>8.0</td>\n      <td>1.0</td>\n      <td>0.0</td>\n      <td>0.0</td>\n      <td>0.0</td>\n      <td>0.0</td>\n      <td>...</td>\n      <td>1.0</td>\n      <td>0.0</td>\n      <td>0.0</td>\n      <td>0.0</td>\n      <td>0.0</td>\n      <td>1.0</td>\n      <td>0.0</td>\n      <td>0.0</td>\n      <td>18.0</td>\n      <td>2012.0</td>\n    </tr>\n    <tr>\n      <th>7</th>\n      <td>-3.0</td>\n      <td>0.0</td>\n      <td>3.0</td>\n      <td>31.0</td>\n      <td>8.0</td>\n      <td>1.0</td>\n      <td>0.0</td>\n      <td>0.0</td>\n      <td>0.0</td>\n      <td>0.0</td>\n      <td>...</td>\n      <td>1.0</td>\n      <td>0.0</td>\n      <td>0.0</td>\n      <td>0.0</td>\n      <td>0.0</td>\n      <td>1.0</td>\n      <td>0.0</td>\n      <td>0.0</td>\n      <td>19.0</td>\n      <td>2012.0</td>\n    </tr>\n    <tr>\n      <th>8</th>\n      <td>-3.0</td>\n      <td>0.0</td>\n      <td>0.0</td>\n      <td>31.0</td>\n      <td>8.0</td>\n      <td>1.0</td>\n      <td>0.0</td>\n      <td>0.0</td>\n      <td>0.0</td>\n      <td>0.0</td>\n      <td>...</td>\n      <td>1.0</td>\n      <td>0.0</td>\n      <td>0.0</td>\n      <td>0.0</td>\n      <td>0.0</td>\n      <td>1.0</td>\n      <td>0.0</td>\n      <td>0.0</td>\n      <td>21.0</td>\n      <td>2012.0</td>\n    </tr>\n    <tr>\n      <th>9</th>\n      <td>-3.0</td>\n      <td>0.0</td>\n      <td>0.0</td>\n      <td>31.0</td>\n      <td>8.0</td>\n      <td>1.0</td>\n      <td>0.0</td>\n      <td>0.0</td>\n      <td>0.0</td>\n      <td>0.0</td>\n      <td>...</td>\n      <td>1.0</td>\n      <td>0.0</td>\n      <td>0.0</td>\n      <td>0.0</td>\n      <td>0.0</td>\n      <td>1.0</td>\n      <td>0.0</td>\n      <td>0.0</td>\n      <td>22.0</td>\n      <td>2012.0</td>\n    </tr>\n  </tbody>\n</table>\n<p>10 rows × 72 columns</p>\n</div>"
     },
     "metadata": {},
     "execution_count": 40
    }
   ],
   "source": [
    "df = pd.read_csv(\"android.csv\")\n",
    "df.head(10)"
   ]
  },
  {
   "cell_type": "code",
   "execution_count": 41,
   "metadata": {},
   "outputs": [],
   "source": [
    "df = df[df['year'] > 2010] "
   ]
  },
  {
   "cell_type": "code",
   "execution_count": 42,
   "metadata": {},
   "outputs": [],
   "source": [
    "df = df.drop(df[(df.battery_plugged\t != 1) & (df.battery_plugged\t != 0)].index)"
   ]
  },
  {
   "cell_type": "code",
   "execution_count": 43,
   "metadata": {},
   "outputs": [],
   "source": [
    "df = df.loc[:, (df != df.iloc[0]).any()]"
   ]
  },
  {
   "cell_type": "code",
   "execution_count": 44,
   "metadata": {},
   "outputs": [
    {
     "output_type": "execute_result",
     "data": {
      "text/plain": [
       "2444"
      ]
     },
     "metadata": {},
     "execution_count": 44
    }
   ],
   "source": [
    "len(df)"
   ]
  },
  {
   "cell_type": "code",
   "execution_count": 45,
   "metadata": {},
   "outputs": [
    {
     "output_type": "stream",
     "name": "stderr",
     "text": [
      "Summarize dataset: 100%|██████████| 63/63 [00:00<00:00, 275.52it/s, Completed]\n",
      "Generate report structure: 100%|██████████| 1/1 [00:01<00:00,  1.24s/it]\n",
      "Render HTML: 100%|██████████| 1/1 [00:00<00:00,  4.67it/s]\n",
      "Export report to file: 100%|██████████| 1/1 [00:00<00:00, 672.06it/s]\n"
     ]
    }
   ],
   "source": [
    "profile = ProfileReport(df, minimal=True)\n",
    "profile.to_file(\"output.html\")"
   ]
  },
  {
   "cell_type": "code",
   "execution_count": null,
   "metadata": {},
   "outputs": [],
   "source": []
  }
 ]
}